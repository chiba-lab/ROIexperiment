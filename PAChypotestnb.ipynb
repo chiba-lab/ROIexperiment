{
 "cells": [
  {
   "cell_type": "code",
   "execution_count": 7,
   "metadata": {},
   "outputs": [
    {
     "data": {
      "text/html": [
       "<div class=\"data-frame\"><p>11,866 rows × 14 columns (omitted printing of 7 columns)</p><table class=\"data-frame\"><thead><tr><th></th><th>rat</th><th>region</th><th>behavior_type</th><th>agent_type</th><th>trial_exp_num</th><th>trial_fam</th><th>fband</th></tr><tr><th></th><th title=\"String7\">String7</th><th title=\"String15\">String15</th><th title=\"String15\">String15</th><th title=\"String7\">String7</th><th title=\"String7\">String7</th><th title=\"String15\">String15</th><th title=\"String15\">String15</th></tr></thead><tbody><tr><th>1</th><td>RRSD17</td><td>MOB</td><td>Rear</td><td>missing</td><td>Any[]</td><td>missing</td><td>low_gamma</td></tr><tr><th>2</th><td>RRSD17</td><td>Amygdala</td><td>Rear</td><td>missing</td><td>Any[]</td><td>missing</td><td>low_gamma</td></tr><tr><th>3</th><td>RRSD17</td><td>Ca2</td><td>Rear</td><td>missing</td><td>Any[]</td><td>missing</td><td>low_gamma</td></tr><tr><th>4</th><td>RRSD17</td><td>Ca2</td><td>Groom</td><td>missing</td><td>Any[]</td><td>missing</td><td>low_gamma</td></tr><tr><th>5</th><td>RRSD17</td><td>Amygdala</td><td>Groom</td><td>missing</td><td>Any[]</td><td>missing</td><td>low_gamma</td></tr><tr><th>6</th><td>RRSD17</td><td>MOB</td><td>Groom</td><td>missing</td><td>Any[]</td><td>missing</td><td>low_gamma</td></tr><tr><th>7</th><td>RRSD17</td><td>MOB</td><td>Groom</td><td>missing</td><td>Any[]</td><td>missing</td><td>low_gamma</td></tr><tr><th>8</th><td>RRSD17</td><td>Ca2</td><td>Groom</td><td>missing</td><td>Any[]</td><td>missing</td><td>low_gamma</td></tr><tr><th>9</th><td>RRSD17</td><td>Amygdala</td><td>Groom</td><td>missing</td><td>Any[]</td><td>missing</td><td>low_gamma</td></tr><tr><th>10</th><td>RRSD17</td><td>Amygdala</td><td>Groom</td><td>missing</td><td>Any[]</td><td>missing</td><td>low_gamma</td></tr><tr><th>11</th><td>RRSD17</td><td>MOB</td><td>Groom</td><td>missing</td><td>Any[]</td><td>missing</td><td>low_gamma</td></tr><tr><th>12</th><td>RRSD17</td><td>Ca2</td><td>Groom</td><td>missing</td><td>Any[]</td><td>missing</td><td>low_gamma</td></tr><tr><th>13</th><td>RRSD17</td><td>Ca2</td><td>Groom</td><td>missing</td><td>Any[]</td><td>missing</td><td>low_gamma</td></tr><tr><th>14</th><td>RRSD17</td><td>MOB</td><td>Groom</td><td>missing</td><td>Any[]</td><td>missing</td><td>low_gamma</td></tr><tr><th>15</th><td>RRSD17</td><td>Amygdala</td><td>Groom</td><td>missing</td><td>Any[]</td><td>missing</td><td>low_gamma</td></tr><tr><th>16</th><td>RRSD17</td><td>Amygdala</td><td>Groom</td><td>missing</td><td>Any[]</td><td>missing</td><td>low_gamma</td></tr><tr><th>17</th><td>RRSD17</td><td>Ca2</td><td>Groom</td><td>missing</td><td>Any[]</td><td>missing</td><td>low_gamma</td></tr><tr><th>18</th><td>RRSD17</td><td>MOB</td><td>Groom</td><td>missing</td><td>Any[]</td><td>missing</td><td>low_gamma</td></tr><tr><th>19</th><td>RRSD17</td><td>Ca2</td><td>Groom</td><td>missing</td><td>Any[]</td><td>missing</td><td>low_gamma</td></tr><tr><th>20</th><td>RRSD17</td><td>Amygdala</td><td>Groom</td><td>missing</td><td>Any[]</td><td>missing</td><td>low_gamma</td></tr><tr><th>21</th><td>RRSD17</td><td>MOB</td><td>Groom</td><td>missing</td><td>Any[]</td><td>missing</td><td>low_gamma</td></tr><tr><th>22</th><td>RRSD17</td><td>MOB</td><td>Groom</td><td>missing</td><td>Any[]</td><td>missing</td><td>low_gamma</td></tr><tr><th>23</th><td>RRSD17</td><td>Amygdala</td><td>Groom</td><td>missing</td><td>Any[]</td><td>missing</td><td>low_gamma</td></tr><tr><th>24</th><td>RRSD17</td><td>Ca2</td><td>Groom</td><td>missing</td><td>Any[]</td><td>missing</td><td>low_gamma</td></tr><tr><th>25</th><td>RRSD17</td><td>Amygdala</td><td>Rear</td><td>missing</td><td>Any[]</td><td>missing</td><td>low_gamma</td></tr><tr><th>26</th><td>RRSD17</td><td>MOB</td><td>Rear</td><td>missing</td><td>Any[]</td><td>missing</td><td>low_gamma</td></tr><tr><th>27</th><td>RRSD17</td><td>Ca2</td><td>Rear</td><td>missing</td><td>Any[]</td><td>missing</td><td>low_gamma</td></tr><tr><th>28</th><td>RRSD17</td><td>Amygdala</td><td>Rear</td><td>Object</td><td>Any[]</td><td>missing</td><td>low_gamma</td></tr><tr><th>29</th><td>RRSD17</td><td>MOB</td><td>Rear</td><td>Object</td><td>Any[]</td><td>missing</td><td>low_gamma</td></tr><tr><th>30</th><td>RRSD17</td><td>MOB</td><td>Rear</td><td>Object</td><td>Any[]</td><td>missing</td><td>low_gamma</td></tr><tr><th>&vellip;</th><td>&vellip;</td><td>&vellip;</td><td>&vellip;</td><td>&vellip;</td><td>&vellip;</td><td>&vellip;</td><td>&vellip;</td></tr></tbody></table></div>"
      ],
      "text/latex": [
       "\\begin{tabular}{r|cccccccc}\n",
       "\t& rat & region & behavior\\_type & agent\\_type & trial\\_exp\\_num & trial\\_fam & fband & \\\\\n",
       "\t\\hline\n",
       "\t& String7 & String15 & String15 & String7 & String7 & String15 & String15 & \\\\\n",
       "\t\\hline\n",
       "\t1 & RRSD17 & MOB & Rear & missing & Any[] & missing & low\\_gamma & $\\dots$ \\\\\n",
       "\t2 & RRSD17 & Amygdala & Rear & missing & Any[] & missing & low\\_gamma & $\\dots$ \\\\\n",
       "\t3 & RRSD17 & Ca2 & Rear & missing & Any[] & missing & low\\_gamma & $\\dots$ \\\\\n",
       "\t4 & RRSD17 & Ca2 & Groom & missing & Any[] & missing & low\\_gamma & $\\dots$ \\\\\n",
       "\t5 & RRSD17 & Amygdala & Groom & missing & Any[] & missing & low\\_gamma & $\\dots$ \\\\\n",
       "\t6 & RRSD17 & MOB & Groom & missing & Any[] & missing & low\\_gamma & $\\dots$ \\\\\n",
       "\t7 & RRSD17 & MOB & Groom & missing & Any[] & missing & low\\_gamma & $\\dots$ \\\\\n",
       "\t8 & RRSD17 & Ca2 & Groom & missing & Any[] & missing & low\\_gamma & $\\dots$ \\\\\n",
       "\t9 & RRSD17 & Amygdala & Groom & missing & Any[] & missing & low\\_gamma & $\\dots$ \\\\\n",
       "\t10 & RRSD17 & Amygdala & Groom & missing & Any[] & missing & low\\_gamma & $\\dots$ \\\\\n",
       "\t11 & RRSD17 & MOB & Groom & missing & Any[] & missing & low\\_gamma & $\\dots$ \\\\\n",
       "\t12 & RRSD17 & Ca2 & Groom & missing & Any[] & missing & low\\_gamma & $\\dots$ \\\\\n",
       "\t13 & RRSD17 & Ca2 & Groom & missing & Any[] & missing & low\\_gamma & $\\dots$ \\\\\n",
       "\t14 & RRSD17 & MOB & Groom & missing & Any[] & missing & low\\_gamma & $\\dots$ \\\\\n",
       "\t15 & RRSD17 & Amygdala & Groom & missing & Any[] & missing & low\\_gamma & $\\dots$ \\\\\n",
       "\t16 & RRSD17 & Amygdala & Groom & missing & Any[] & missing & low\\_gamma & $\\dots$ \\\\\n",
       "\t17 & RRSD17 & Ca2 & Groom & missing & Any[] & missing & low\\_gamma & $\\dots$ \\\\\n",
       "\t18 & RRSD17 & MOB & Groom & missing & Any[] & missing & low\\_gamma & $\\dots$ \\\\\n",
       "\t19 & RRSD17 & Ca2 & Groom & missing & Any[] & missing & low\\_gamma & $\\dots$ \\\\\n",
       "\t20 & RRSD17 & Amygdala & Groom & missing & Any[] & missing & low\\_gamma & $\\dots$ \\\\\n",
       "\t21 & RRSD17 & MOB & Groom & missing & Any[] & missing & low\\_gamma & $\\dots$ \\\\\n",
       "\t22 & RRSD17 & MOB & Groom & missing & Any[] & missing & low\\_gamma & $\\dots$ \\\\\n",
       "\t23 & RRSD17 & Amygdala & Groom & missing & Any[] & missing & low\\_gamma & $\\dots$ \\\\\n",
       "\t24 & RRSD17 & Ca2 & Groom & missing & Any[] & missing & low\\_gamma & $\\dots$ \\\\\n",
       "\t25 & RRSD17 & Amygdala & Rear & missing & Any[] & missing & low\\_gamma & $\\dots$ \\\\\n",
       "\t26 & RRSD17 & MOB & Rear & missing & Any[] & missing & low\\_gamma & $\\dots$ \\\\\n",
       "\t27 & RRSD17 & Ca2 & Rear & missing & Any[] & missing & low\\_gamma & $\\dots$ \\\\\n",
       "\t28 & RRSD17 & Amygdala & Rear & Object & Any[] & missing & low\\_gamma & $\\dots$ \\\\\n",
       "\t29 & RRSD17 & MOB & Rear & Object & Any[] & missing & low\\_gamma & $\\dots$ \\\\\n",
       "\t30 & RRSD17 & MOB & Rear & Object & Any[] & missing & low\\_gamma & $\\dots$ \\\\\n",
       "\t$\\dots$ & $\\dots$ & $\\dots$ & $\\dots$ & $\\dots$ & $\\dots$ & $\\dots$ & $\\dots$ &  \\\\\n",
       "\\end{tabular}\n"
      ],
      "text/plain": [
       "\u001b[1m11866×14 DataFrame\u001b[0m\n",
       "\u001b[1m   Row \u001b[0m│\u001b[1m rat     \u001b[0m\u001b[1m region   \u001b[0m\u001b[1m behavior_type \u001b[0m\u001b[1m agent_type \u001b[0m\u001b[1m trial_exp_num \u001b[0m\u001b[1m trial_fa\u001b[0m ⋯\n",
       "\u001b[1m       \u001b[0m│\u001b[90m String7 \u001b[0m\u001b[90m String15 \u001b[0m\u001b[90m String15      \u001b[0m\u001b[90m String7    \u001b[0m\u001b[90m String7       \u001b[0m\u001b[90m String15\u001b[0m ⋯\n",
       "───────┼────────────────────────────────────────────────────────────────────────\n",
       "     1 │ RRSD17   MOB       Rear           missing     Any[]          missing  ⋯\n",
       "     2 │ RRSD17   Amygdala  Rear           missing     Any[]          missing\n",
       "     3 │ RRSD17   Ca2       Rear           missing     Any[]          missing\n",
       "     4 │ RRSD17   Ca2       Groom          missing     Any[]          missing\n",
       "     5 │ RRSD17   Amygdala  Groom          missing     Any[]          missing  ⋯\n",
       "     6 │ RRSD17   MOB       Groom          missing     Any[]          missing\n",
       "     7 │ RRSD17   MOB       Groom          missing     Any[]          missing\n",
       "     8 │ RRSD17   Ca2       Groom          missing     Any[]          missing\n",
       "     9 │ RRSD17   Amygdala  Groom          missing     Any[]          missing  ⋯\n",
       "    10 │ RRSD17   Amygdala  Groom          missing     Any[]          missing\n",
       "    11 │ RRSD17   MOB       Groom          missing     Any[]          missing\n",
       "   ⋮   │    ⋮        ⋮            ⋮            ⋮             ⋮            ⋮    ⋱\n",
       " 11857 │ EG7      Ca2       Groom          Object      Any[]          missing\n",
       " 11858 │ EG7      Insula    Groom          Object      Any[]          missing  ⋯\n",
       " 11859 │ EG7      Amygdala  Groom          Object      Any[]          missing\n",
       " 11860 │ EG7      Insula    Groom          Object      Any[]          missing\n",
       " 11861 │ EG7      MOB       Groom          Object      Any[]          missing\n",
       " 11862 │ EG7      Ca2       Groom          Object      Any[]          missing  ⋯\n",
       " 11863 │ EG7      Amygdala  Groom          Object      Any[]          missing\n",
       " 11864 │ EG7      Ca2       Groom          Object      Any[]          missing\n",
       " 11865 │ EG7      Insula    Groom          Object      Any[]          missing\n",
       " 11866 │ EG7      MOB       Groom          Object      Any[]          missing  ⋯\n",
       "\u001b[36m                                                9 columns and 11845 rows omitted\u001b[0m"
      ]
     },
     "execution_count": 7,
     "metadata": {},
     "output_type": "execute_result"
    }
   ],
   "source": [
    "using CSV, DataFrames, DataFramesMeta, HypothesisTests\n",
    "PacHypoTbl=DataFrame(CSV.File(\"TempData/.csv\"))\n"
   ]
  },
  {
   "cell_type": "markdown",
   "metadata": {},
   "source": [
    "Test for Non-Zero PAC "
   ]
  },
  {
   "cell_type": "code",
   "execution_count": 13,
   "metadata": {},
   "outputs": [
    {
     "data": {
      "text/plain": [
       "One sample t-test\n",
       "-----------------\n",
       "Population details:\n",
       "    parameter of interest:   Mean\n",
       "    value under h_0:         0\n",
       "    point estimate:          6.37984e-5\n",
       "    95% confidence interval: (5.094e-5, 7.666e-5)\n",
       "\n",
       "Test summary:\n",
       "    outcome with 95% confidence: reject h_0\n",
       "    two-sided p-value:           <1e-14\n",
       "\n",
       "Details:\n",
       "    number of observations:   79\n",
       "    t-statistic:              9.875938607034245\n",
       "    degrees of freedom:       78\n",
       "    empirical standard error: 6.459978666344884e-6\n"
      ]
     },
     "execution_count": 13,
     "metadata": {},
     "output_type": "execute_result"
    }
   ],
   "source": [
    "subs = @subset(PacHypoTbl, :fband .== \"low_gamma\", :behavior_type .== \"Rear\", :agent_type .== \"Rat\", :region .== \"Ca2\")\n",
    "test=OneSampleTTest(subs.theta.-subs.null_mag)"
   ]
  },
  {
   "cell_type": "code",
   "execution_count": 14,
   "metadata": {},
   "outputs": [
    {
     "data": {
      "text/plain": [
       "2.1849804931313863e-15"
      ]
     },
     "execution_count": 14,
     "metadata": {},
     "output_type": "execute_result"
    }
   ],
   "source": [
    "#show p value\n",
    "pvalue(test)"
   ]
  },
  {
   "cell_type": "code",
   "execution_count": 17,
   "metadata": {},
   "outputs": [
    {
     "data": {
      "text/html": [
       "<div class=\"data-frame\"><p>128 rows × 5 columns</p><table class=\"data-frame\"><thead><tr><th></th><th>fband</th><th>behavior_type</th><th>agent_type</th><th>region</th><th>pval</th></tr><tr><th></th><th title=\"String15\">String15</th><th title=\"String15\">String15</th><th title=\"String7\">String7</th><th title=\"String15\">String15</th><th title=\"Float64\">Float64</th></tr></thead><tbody><tr><th>1</th><td>low_gamma</td><td>Rear</td><td>missing</td><td>MOB</td><td>1.46871e-65</td></tr><tr><th>2</th><td>low_gamma</td><td>Rear</td><td>missing</td><td>Amygdala</td><td>1.69282e-87</td></tr><tr><th>3</th><td>low_gamma</td><td>Rear</td><td>missing</td><td>Ca2</td><td>2.91886e-87</td></tr><tr><th>4</th><td>low_gamma</td><td>Rear</td><td>missing</td><td>Insula</td><td>3.41427e-90</td></tr><tr><th>5</th><td>low_gamma</td><td>Rear</td><td>Object</td><td>MOB</td><td>0.000203448</td></tr><tr><th>6</th><td>low_gamma</td><td>Rear</td><td>Object</td><td>Amygdala</td><td>5.20118e-11</td></tr><tr><th>7</th><td>low_gamma</td><td>Rear</td><td>Object</td><td>Ca2</td><td>0.00118253</td></tr><tr><th>8</th><td>low_gamma</td><td>Rear</td><td>Object</td><td>Insula</td><td>2.68359e-6</td></tr><tr><th>9</th><td>low_gamma</td><td>Rear</td><td>Robot</td><td>MOB</td><td>1.36989e-12</td></tr><tr><th>10</th><td>low_gamma</td><td>Rear</td><td>Robot</td><td>Amygdala</td><td>1.41074e-18</td></tr><tr><th>11</th><td>low_gamma</td><td>Rear</td><td>Robot</td><td>Ca2</td><td>3.83373e-11</td></tr><tr><th>12</th><td>low_gamma</td><td>Rear</td><td>Robot</td><td>Insula</td><td>3.37392e-11</td></tr><tr><th>13</th><td>low_gamma</td><td>Rear</td><td>Rat</td><td>MOB</td><td>5.65745e-7</td></tr><tr><th>14</th><td>low_gamma</td><td>Rear</td><td>Rat</td><td>Amygdala</td><td>1.32361e-14</td></tr><tr><th>15</th><td>low_gamma</td><td>Rear</td><td>Rat</td><td>Ca2</td><td>2.18498e-15</td></tr><tr><th>16</th><td>low_gamma</td><td>Rear</td><td>Rat</td><td>Insula</td><td>4.50086e-18</td></tr><tr><th>17</th><td>low_gamma</td><td>Groom</td><td>missing</td><td>MOB</td><td>4.83112e-25</td></tr><tr><th>18</th><td>low_gamma</td><td>Groom</td><td>missing</td><td>Amygdala</td><td>1.47283e-30</td></tr><tr><th>19</th><td>low_gamma</td><td>Groom</td><td>missing</td><td>Ca2</td><td>9.20673e-30</td></tr><tr><th>20</th><td>low_gamma</td><td>Groom</td><td>missing</td><td>Insula</td><td>7.56041e-21</td></tr><tr><th>21</th><td>low_gamma</td><td>Groom</td><td>Object</td><td>MOB</td><td>2.24826e-9</td></tr><tr><th>22</th><td>low_gamma</td><td>Groom</td><td>Object</td><td>Amygdala</td><td>4.74848e-6</td></tr><tr><th>23</th><td>low_gamma</td><td>Groom</td><td>Object</td><td>Ca2</td><td>4.31955e-6</td></tr><tr><th>24</th><td>low_gamma</td><td>Groom</td><td>Object</td><td>Insula</td><td>5.92405e-5</td></tr><tr><th>25</th><td>low_gamma</td><td>Groom</td><td>Robot</td><td>MOB</td><td>4.98635e-12</td></tr><tr><th>26</th><td>low_gamma</td><td>Groom</td><td>Robot</td><td>Amygdala</td><td>1.58196e-8</td></tr><tr><th>27</th><td>low_gamma</td><td>Groom</td><td>Robot</td><td>Ca2</td><td>1.20988e-8</td></tr><tr><th>28</th><td>low_gamma</td><td>Groom</td><td>Robot</td><td>Insula</td><td>0.000845145</td></tr><tr><th>29</th><td>low_gamma</td><td>Groom</td><td>Rat</td><td>MOB</td><td>1.54294e-21</td></tr><tr><th>30</th><td>low_gamma</td><td>Groom</td><td>Rat</td><td>Amygdala</td><td>1.29518e-21</td></tr><tr><th>&vellip;</th><td>&vellip;</td><td>&vellip;</td><td>&vellip;</td><td>&vellip;</td><td>&vellip;</td></tr></tbody></table></div>"
      ],
      "text/latex": [
       "\\begin{tabular}{r|ccccc}\n",
       "\t& fband & behavior\\_type & agent\\_type & region & pval\\\\\n",
       "\t\\hline\n",
       "\t& String15 & String15 & String7 & String15 & Float64\\\\\n",
       "\t\\hline\n",
       "\t1 & low\\_gamma & Rear & missing & MOB & 1.46871e-65 \\\\\n",
       "\t2 & low\\_gamma & Rear & missing & Amygdala & 1.69282e-87 \\\\\n",
       "\t3 & low\\_gamma & Rear & missing & Ca2 & 2.91886e-87 \\\\\n",
       "\t4 & low\\_gamma & Rear & missing & Insula & 3.41427e-90 \\\\\n",
       "\t5 & low\\_gamma & Rear & Object & MOB & 0.000203448 \\\\\n",
       "\t6 & low\\_gamma & Rear & Object & Amygdala & 5.20118e-11 \\\\\n",
       "\t7 & low\\_gamma & Rear & Object & Ca2 & 0.00118253 \\\\\n",
       "\t8 & low\\_gamma & Rear & Object & Insula & 2.68359e-6 \\\\\n",
       "\t9 & low\\_gamma & Rear & Robot & MOB & 1.36989e-12 \\\\\n",
       "\t10 & low\\_gamma & Rear & Robot & Amygdala & 1.41074e-18 \\\\\n",
       "\t11 & low\\_gamma & Rear & Robot & Ca2 & 3.83373e-11 \\\\\n",
       "\t12 & low\\_gamma & Rear & Robot & Insula & 3.37392e-11 \\\\\n",
       "\t13 & low\\_gamma & Rear & Rat & MOB & 5.65745e-7 \\\\\n",
       "\t14 & low\\_gamma & Rear & Rat & Amygdala & 1.32361e-14 \\\\\n",
       "\t15 & low\\_gamma & Rear & Rat & Ca2 & 2.18498e-15 \\\\\n",
       "\t16 & low\\_gamma & Rear & Rat & Insula & 4.50086e-18 \\\\\n",
       "\t17 & low\\_gamma & Groom & missing & MOB & 4.83112e-25 \\\\\n",
       "\t18 & low\\_gamma & Groom & missing & Amygdala & 1.47283e-30 \\\\\n",
       "\t19 & low\\_gamma & Groom & missing & Ca2 & 9.20673e-30 \\\\\n",
       "\t20 & low\\_gamma & Groom & missing & Insula & 7.56041e-21 \\\\\n",
       "\t21 & low\\_gamma & Groom & Object & MOB & 2.24826e-9 \\\\\n",
       "\t22 & low\\_gamma & Groom & Object & Amygdala & 4.74848e-6 \\\\\n",
       "\t23 & low\\_gamma & Groom & Object & Ca2 & 4.31955e-6 \\\\\n",
       "\t24 & low\\_gamma & Groom & Object & Insula & 5.92405e-5 \\\\\n",
       "\t25 & low\\_gamma & Groom & Robot & MOB & 4.98635e-12 \\\\\n",
       "\t26 & low\\_gamma & Groom & Robot & Amygdala & 1.58196e-8 \\\\\n",
       "\t27 & low\\_gamma & Groom & Robot & Ca2 & 1.20988e-8 \\\\\n",
       "\t28 & low\\_gamma & Groom & Robot & Insula & 0.000845145 \\\\\n",
       "\t29 & low\\_gamma & Groom & Rat & MOB & 1.54294e-21 \\\\\n",
       "\t30 & low\\_gamma & Groom & Rat & Amygdala & 1.29518e-21 \\\\\n",
       "\t$\\dots$ & $\\dots$ & $\\dots$ & $\\dots$ & $\\dots$ & $\\dots$ \\\\\n",
       "\\end{tabular}\n"
      ],
      "text/plain": [
       "\u001b[1m128×5 DataFrame\u001b[0m\n",
       "\u001b[1m Row \u001b[0m│\u001b[1m fband      \u001b[0m\u001b[1m behavior_type \u001b[0m\u001b[1m agent_type \u001b[0m\u001b[1m region   \u001b[0m\u001b[1m pval        \u001b[0m\n",
       "\u001b[1m     \u001b[0m│\u001b[90m String15   \u001b[0m\u001b[90m String15      \u001b[0m\u001b[90m String7    \u001b[0m\u001b[90m String15 \u001b[0m\u001b[90m Float64     \u001b[0m\n",
       "─────┼──────────────────────────────────────────────────────────────\n",
       "   1 │ low_gamma   Rear           missing     MOB       1.46871e-65\n",
       "   2 │ low_gamma   Rear           missing     Amygdala  1.69282e-87\n",
       "   3 │ low_gamma   Rear           missing     Ca2       2.91886e-87\n",
       "   4 │ low_gamma   Rear           missing     Insula    3.41427e-90\n",
       "   5 │ low_gamma   Rear           Object      MOB       0.000203448\n",
       "   6 │ low_gamma   Rear           Object      Amygdala  5.20118e-11\n",
       "   7 │ low_gamma   Rear           Object      Ca2       0.00118253\n",
       "   8 │ low_gamma   Rear           Object      Insula    2.68359e-6\n",
       "   9 │ low_gamma   Rear           Robot       MOB       1.36989e-12\n",
       "  10 │ low_gamma   Rear           Robot       Amygdala  1.41074e-18\n",
       "  11 │ low_gamma   Rear           Robot       Ca2       3.83373e-11\n",
       "  ⋮  │     ⋮             ⋮            ⋮          ⋮           ⋮\n",
       " 119 │ high_gamma  Immobility     Object      Ca2       0.00010327\n",
       " 120 │ high_gamma  Immobility     Object      Insula    0.00971435\n",
       " 121 │ high_gamma  Immobility     Robot       MOB       3.78986e-29\n",
       " 122 │ high_gamma  Immobility     Robot       Amygdala  1.76721e-17\n",
       " 123 │ high_gamma  Immobility     Robot       Ca2       4.29906e-16\n",
       " 124 │ high_gamma  Immobility     Robot       Insula    3.74488e-10\n",
       " 125 │ high_gamma  Immobility     Rat         MOB       4.8516e-9\n",
       " 126 │ high_gamma  Immobility     Rat         Amygdala  2.85855e-6\n",
       " 127 │ high_gamma  Immobility     Rat         Ca2       0.00112256\n",
       " 128 │ high_gamma  Immobility     Rat         Insula    8.81614e-5\n",
       "\u001b[36m                                                    107 rows omitted\u001b[0m"
      ]
     },
     "execution_count": 17,
     "metadata": {},
     "output_type": "execute_result"
    }
   ],
   "source": [
    "#Batch Tests\n",
    "gdf = groupby(PacHypoTbl, [:fband, :behavior_type, :agent_type, :region])\n",
    "PvalTbl = @combine(gdf, :pval = pvalue(OneSampleTTest(:mag-:null_mag)))\n"
   ]
  },
  {
   "cell_type": "markdown",
   "metadata": {},
   "source": [
    "Pairwise Comparisons"
   ]
  },
  {
   "cell_type": "code",
   "execution_count": 27,
   "metadata": {},
   "outputs": [
    {
     "data": {
      "text/plain": [
       "Two sample t-test (unequal variance)\n",
       "------------------------------------\n",
       "Population details:\n",
       "    parameter of interest:   Mean difference\n",
       "    value under h_0:         0\n",
       "    point estimate:          0.000984807\n",
       "    95% confidence interval: (-6.036e-5, 0.00203)\n",
       "\n",
       "Test summary:\n",
       "    outcome with 95% confidence: fail to reject h_0\n",
       "    two-sided p-value:           0.0617\n",
       "\n",
       "Details:\n",
       "    number of observations:   [8,71]\n",
       "    t-statistic:              2.1510721641436312\n",
       "    degrees of freedom:       8.492814468388683\n",
       "    empirical standard error: 0.0004578214580914556\n"
      ]
     },
     "execution_count": 27,
     "metadata": {},
     "output_type": "execute_result"
    }
   ],
   "source": [
    "subs1 = @subset(PacHypoTbl, :fband .== \"high_gamma\", :behavior_type .== \"Immobility\", :agent_type .== \"Robot\", :region .== \"MOB\", :trial_fam .== \"Novel\")\n",
    "subs2 = @subset(PacHypoTbl, :fband .== \"high_gamma\", :behavior_type .== \"Immobility\", :agent_type .== \"Robot\", :region .== \"MOB\", :trial_fam .== \"Familiar\")\n",
    "test = UnequalVarianceTTest(subs1.mag, subs2.mag)"
   ]
  },
  {
   "cell_type": "code",
   "execution_count": 28,
   "metadata": {},
   "outputs": [
    {
     "data": {
      "text/plain": [
       "0.06171428702630704"
      ]
     },
     "execution_count": 28,
     "metadata": {},
     "output_type": "execute_result"
    }
   ],
   "source": [
    "pvalue(test)"
   ]
  },
  {
   "cell_type": "code",
   "execution_count": null,
   "metadata": {},
   "outputs": [],
   "source": []
  }
 ],
 "metadata": {
  "kernelspec": {
   "display_name": "Julia 1.7.2",
   "language": "julia",
   "name": "julia-1.7"
  },
  "language_info": {
   "file_extension": ".jl",
   "mimetype": "application/julia",
   "name": "julia",
   "version": "1.7.2"
  },
  "orig_nbformat": 4
 },
 "nbformat": 4,
 "nbformat_minor": 2
}
