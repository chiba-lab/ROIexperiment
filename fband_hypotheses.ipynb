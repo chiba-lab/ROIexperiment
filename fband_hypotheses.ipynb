{
 "cells": [
  {
   "cell_type": "code",
   "execution_count": null,
   "metadata": {},
   "outputs": [],
   "source": [
    "include(\"./ROIontology.jl\")\n",
    "\n",
    "\n",
    "ROIexp = load(\"./Data/ROIexp_FR.jld2\", \"ROIexp\");\n",
    "lfp = ROIexp[:lfp_data]\n",
    "events = ROIexp[:behavioral_events]\n",
    "trials = ROIexp[:trials]\n",
    "sessions = ROIexp[:sessions]\n",
    "\n",
    "include(\"./Links.jl\")\n",
    "\n",
    "WD = filter(x -> window_data_event(window_data(x)) ∈ dom(event_trial), collect(dom(window_data)))\n",
    "WC = filter(x -> window_data_event(x) ∈ dom(event_trial), collect(codom(window_data)))\n",
    "\n",
    "\n",
    "# WD = filter(x -> window_data_event(window_data(x)), collect(dom(window_data)))\n",
    "# WC = filter(x -> window_data_event(x), collect(codom(window_data)))"
   ]
  },
  {
   "cell_type": "code",
   "execution_count": 78,
   "metadata": {},
   "outputs": [
    {
     "data": {
      "text/html": [
       "<div class=\"data-frame\"><p>1,055 rows × 10 columns (omitted printing of 3 columns)</p><table class=\"data-frame\"><thead><tr><th></th><th>rat</th><th>region</th><th>behavior_type</th><th>trial_type</th><th>agent_type</th><th>respiratory</th><th>theta</th></tr><tr><th></th><th title=\"String7\">String7</th><th title=\"String\">String</th><th title=\"String15\">String15</th><th title=\"String\">String</th><th title=\"DataType\">DataType</th><th title=\"Float64\">Float64</th><th title=\"Float64\">Float64</th></tr></thead><tbody><tr><th>1</th><td>RRSD28</td><td>Ca2</td><td>Rearing</td><td>Free Roam</td><td>Robot</td><td>0.00480679</td><td>0.00552241</td></tr><tr><th>2</th><td>RRSD28</td><td>MOB</td><td>Immobility</td><td>Free Roam</td><td>Robot</td><td>0.0185517</td><td>0.015892</td></tr><tr><th>3</th><td>RRSD17</td><td>MOB</td><td>Rearing</td><td>Free Roam</td><td>Object</td><td>0.007176</td><td>0.00876942</td></tr><tr><th>4</th><td>RRSD17</td><td>Amygdala</td><td>Immobility</td><td>Free Roam</td><td>Object</td><td>0.00154076</td><td>0.00167873</td></tr><tr><th>5</th><td>RRSD17</td><td>Ca2</td><td>Immobility</td><td>Free Roam</td><td>Robot</td><td>0.00195673</td><td>0.00247963</td></tr><tr><th>6</th><td>RRSD17</td><td>MOB</td><td>Immobility</td><td>Free Roam</td><td>Rat</td><td>0.0124936</td><td>0.0149751</td></tr><tr><th>7</th><td>RRSD17</td><td>Amygdala</td><td>Grooming</td><td>Free Roam</td><td>Rat</td><td>0.00189254</td><td>0.00177685</td></tr><tr><th>8</th><td>RRSD28</td><td>Ca2</td><td>Immobility</td><td>Free Roam</td><td>Robot</td><td>0.00457848</td><td>0.0039664</td></tr><tr><th>9</th><td>RRSD17</td><td>Amygdala</td><td>Grooming</td><td>Free Roam</td><td>Rat</td><td>0.00151663</td><td>0.00172818</td></tr><tr><th>10</th><td>RRSD17</td><td>Amygdala</td><td>Rearing</td><td>Free Roam</td><td>Robot</td><td>0.00102771</td><td>0.00121022</td></tr><tr><th>11</th><td>RRSD17</td><td>Amygdala</td><td>Grooming</td><td>Free Roam</td><td>Robot</td><td>0.0010595</td><td>0.00104288</td></tr><tr><th>12</th><td>RRSD17</td><td>Amygdala</td><td>Immobility</td><td>Free Roam</td><td>Robot</td><td>0.00129529</td><td>0.00110796</td></tr><tr><th>13</th><td>RRSD17</td><td>MOB</td><td>Rearing</td><td>Free Roam</td><td>Rat</td><td>0.00785095</td><td>0.009735</td></tr><tr><th>14</th><td>RRSD17</td><td>Amygdala</td><td>Grooming</td><td>Free Roam</td><td>Rat</td><td>0.00166202</td><td>0.00177018</td></tr><tr><th>15</th><td>RRSD17</td><td>Amygdala</td><td>Immobility</td><td>Free Roam</td><td>Object</td><td>0.00140207</td><td>0.00160498</td></tr><tr><th>16</th><td>RRSD17</td><td>Amygdala</td><td>Grooming</td><td>Free Roam</td><td>Rat</td><td>0.00114999</td><td>0.00110249</td></tr><tr><th>17</th><td>RRSD17</td><td>Ca2</td><td>Rearing</td><td>Free Roam</td><td>Robot</td><td>0.00333389</td><td>0.0046044</td></tr><tr><th>18</th><td>RRSD17</td><td>Ca2</td><td>Grooming</td><td>Free Roam</td><td>Object</td><td>0.00277132</td><td>0.00363048</td></tr><tr><th>19</th><td>RRSD17</td><td>Ca2</td><td>Grooming</td><td>Free Roam</td><td>Robot</td><td>0.0037045</td><td>0.00302125</td></tr><tr><th>20</th><td>RRSD17</td><td>Amygdala</td><td>Immobility</td><td>Free Roam</td><td>Robot</td><td>0.00128449</td><td>0.00118262</td></tr><tr><th>21</th><td>RRSD17</td><td>Ca2</td><td>Rearing</td><td>Free Roam</td><td>Rat</td><td>0.0034101</td><td>0.0047443</td></tr><tr><th>22</th><td>RRSD17</td><td>Ca2</td><td>Rearing</td><td>Free Roam</td><td>Robot</td><td>0.00326413</td><td>0.00387758</td></tr><tr><th>23</th><td>RRSD28</td><td>MOB</td><td>Immobility</td><td>Free Roam</td><td>Robot</td><td>0.0249495</td><td>0.0253922</td></tr><tr><th>24</th><td>RRSD17</td><td>Ca2</td><td>Rearing</td><td>Free Roam</td><td>Rat</td><td>0.00311407</td><td>0.00445955</td></tr><tr><th>25</th><td>RRSD28</td><td>MOB</td><td>Immobility</td><td>Free Roam</td><td>Robot</td><td>0.0247839</td><td>0.0250186</td></tr><tr><th>26</th><td>RRSD17</td><td>MOB</td><td>Immobility</td><td>Free Roam</td><td>Object</td><td>0.0167457</td><td>0.0173523</td></tr><tr><th>27</th><td>RRSD28</td><td>Ca2</td><td>Rearing</td><td>Free Roam</td><td>Robot</td><td>0.00434497</td><td>0.0055887</td></tr><tr><th>28</th><td>RRSD17</td><td>Amygdala</td><td>Immobility</td><td>Free Roam</td><td>Object</td><td>0.00130376</td><td>0.00100517</td></tr><tr><th>29</th><td>RRSD17</td><td>Ca2</td><td>Rearing</td><td>Free Roam</td><td>Robot</td><td>0.00490982</td><td>0.00518899</td></tr><tr><th>30</th><td>RRSD17</td><td>MOB</td><td>Rearing</td><td>Free Roam</td><td>Robot</td><td>0.00799323</td><td>0.0112015</td></tr><tr><th>&vellip;</th><td>&vellip;</td><td>&vellip;</td><td>&vellip;</td><td>&vellip;</td><td>&vellip;</td><td>&vellip;</td><td>&vellip;</td></tr></tbody></table></div>"
      ],
      "text/latex": [
       "\\begin{tabular}{r|cccccccc}\n",
       "\t& rat & region & behavior\\_type & trial\\_type & agent\\_type & respiratory & theta & \\\\\n",
       "\t\\hline\n",
       "\t& String7 & String & String15 & String & DataType & Float64 & Float64 & \\\\\n",
       "\t\\hline\n",
       "\t1 & RRSD28 & Ca2 & Rearing & Free Roam & Robot & 0.00480679 & 0.00552241 & $\\dots$ \\\\\n",
       "\t2 & RRSD28 & MOB & Immobility & Free Roam & Robot & 0.0185517 & 0.015892 & $\\dots$ \\\\\n",
       "\t3 & RRSD17 & MOB & Rearing & Free Roam & Object & 0.007176 & 0.00876942 & $\\dots$ \\\\\n",
       "\t4 & RRSD17 & Amygdala & Immobility & Free Roam & Object & 0.00154076 & 0.00167873 & $\\dots$ \\\\\n",
       "\t5 & RRSD17 & Ca2 & Immobility & Free Roam & Robot & 0.00195673 & 0.00247963 & $\\dots$ \\\\\n",
       "\t6 & RRSD17 & MOB & Immobility & Free Roam & Rat & 0.0124936 & 0.0149751 & $\\dots$ \\\\\n",
       "\t7 & RRSD17 & Amygdala & Grooming & Free Roam & Rat & 0.00189254 & 0.00177685 & $\\dots$ \\\\\n",
       "\t8 & RRSD28 & Ca2 & Immobility & Free Roam & Robot & 0.00457848 & 0.0039664 & $\\dots$ \\\\\n",
       "\t9 & RRSD17 & Amygdala & Grooming & Free Roam & Rat & 0.00151663 & 0.00172818 & $\\dots$ \\\\\n",
       "\t10 & RRSD17 & Amygdala & Rearing & Free Roam & Robot & 0.00102771 & 0.00121022 & $\\dots$ \\\\\n",
       "\t11 & RRSD17 & Amygdala & Grooming & Free Roam & Robot & 0.0010595 & 0.00104288 & $\\dots$ \\\\\n",
       "\t12 & RRSD17 & Amygdala & Immobility & Free Roam & Robot & 0.00129529 & 0.00110796 & $\\dots$ \\\\\n",
       "\t13 & RRSD17 & MOB & Rearing & Free Roam & Rat & 0.00785095 & 0.009735 & $\\dots$ \\\\\n",
       "\t14 & RRSD17 & Amygdala & Grooming & Free Roam & Rat & 0.00166202 & 0.00177018 & $\\dots$ \\\\\n",
       "\t15 & RRSD17 & Amygdala & Immobility & Free Roam & Object & 0.00140207 & 0.00160498 & $\\dots$ \\\\\n",
       "\t16 & RRSD17 & Amygdala & Grooming & Free Roam & Rat & 0.00114999 & 0.00110249 & $\\dots$ \\\\\n",
       "\t17 & RRSD17 & Ca2 & Rearing & Free Roam & Robot & 0.00333389 & 0.0046044 & $\\dots$ \\\\\n",
       "\t18 & RRSD17 & Ca2 & Grooming & Free Roam & Object & 0.00277132 & 0.00363048 & $\\dots$ \\\\\n",
       "\t19 & RRSD17 & Ca2 & Grooming & Free Roam & Robot & 0.0037045 & 0.00302125 & $\\dots$ \\\\\n",
       "\t20 & RRSD17 & Amygdala & Immobility & Free Roam & Robot & 0.00128449 & 0.00118262 & $\\dots$ \\\\\n",
       "\t21 & RRSD17 & Ca2 & Rearing & Free Roam & Rat & 0.0034101 & 0.0047443 & $\\dots$ \\\\\n",
       "\t22 & RRSD17 & Ca2 & Rearing & Free Roam & Robot & 0.00326413 & 0.00387758 & $\\dots$ \\\\\n",
       "\t23 & RRSD28 & MOB & Immobility & Free Roam & Robot & 0.0249495 & 0.0253922 & $\\dots$ \\\\\n",
       "\t24 & RRSD17 & Ca2 & Rearing & Free Roam & Rat & 0.00311407 & 0.00445955 & $\\dots$ \\\\\n",
       "\t25 & RRSD28 & MOB & Immobility & Free Roam & Robot & 0.0247839 & 0.0250186 & $\\dots$ \\\\\n",
       "\t26 & RRSD17 & MOB & Immobility & Free Roam & Object & 0.0167457 & 0.0173523 & $\\dots$ \\\\\n",
       "\t27 & RRSD28 & Ca2 & Rearing & Free Roam & Robot & 0.00434497 & 0.0055887 & $\\dots$ \\\\\n",
       "\t28 & RRSD17 & Amygdala & Immobility & Free Roam & Object & 0.00130376 & 0.00100517 & $\\dots$ \\\\\n",
       "\t29 & RRSD17 & Ca2 & Rearing & Free Roam & Robot & 0.00490982 & 0.00518899 & $\\dots$ \\\\\n",
       "\t30 & RRSD17 & MOB & Rearing & Free Roam & Robot & 0.00799323 & 0.0112015 & $\\dots$ \\\\\n",
       "\t$\\dots$ & $\\dots$ & $\\dots$ & $\\dots$ & $\\dots$ & $\\dots$ & $\\dots$ & $\\dots$ &  \\\\\n",
       "\\end{tabular}\n"
      ],
      "text/plain": [
       "\u001b[1m1055×10 DataFrame\u001b[0m\n",
       "\u001b[1m  Row \u001b[0m│\u001b[1m rat     \u001b[0m\u001b[1m region   \u001b[0m\u001b[1m behavior_type \u001b[0m\u001b[1m trial_type \u001b[0m\u001b[1m agent_type \u001b[0m\u001b[1m respiratory \u001b[0m\u001b[1m\u001b[0m ⋯\n",
       "\u001b[1m      \u001b[0m│\u001b[90m String7 \u001b[0m\u001b[90m String   \u001b[0m\u001b[90m String15      \u001b[0m\u001b[90m String     \u001b[0m\u001b[90m DataType   \u001b[0m\u001b[90m Float64     \u001b[0m\u001b[90m\u001b[0m ⋯\n",
       "──────┼─────────────────────────────────────────────────────────────────────────\n",
       "    1 │ RRSD28   Ca2       Rearing        Free Roam   Robot        0.00480679  ⋯\n",
       "    2 │ RRSD28   MOB       Immobility     Free Roam   Robot        0.0185517\n",
       "    3 │ RRSD17   MOB       Rearing        Free Roam   Object       0.007176\n",
       "    4 │ RRSD17   Amygdala  Immobility     Free Roam   Object       0.00154076\n",
       "    5 │ RRSD17   Ca2       Immobility     Free Roam   Robot        0.00195673  ⋯\n",
       "    6 │ RRSD17   MOB       Immobility     Free Roam   Rat          0.0124936\n",
       "    7 │ RRSD17   Amygdala  Grooming       Free Roam   Rat          0.00189254\n",
       "    8 │ RRSD28   Ca2       Immobility     Free Roam   Robot        0.00457848\n",
       "    9 │ RRSD17   Amygdala  Grooming       Free Roam   Rat          0.00151663  ⋯\n",
       "   10 │ RRSD17   Amygdala  Rearing        Free Roam   Robot        0.00102771\n",
       "   11 │ RRSD17   Amygdala  Grooming       Free Roam   Robot        0.0010595\n",
       "  ⋮   │    ⋮        ⋮            ⋮            ⋮           ⋮            ⋮       ⋱\n",
       " 1046 │ RRSD17   Amygdala  Grooming       Free Roam   Robot        0.00101162\n",
       " 1047 │ RRSD17   MOB       Immobility     Free Roam   Object       0.00857157  ⋯\n",
       " 1048 │ RRSD17   Amygdala  Grooming       Free Roam   Object       0.00083294\n",
       " 1049 │ RRSD17   Amygdala  Grooming       Free Roam   Robot        0.0012568\n",
       " 1050 │ RRSD28   Ca2       Immobility     Free Roam   Robot        0.0041508\n",
       " 1051 │ RRSD17   Amygdala  Immobility     Free Roam   Robot        0.00104531  ⋯\n",
       " 1052 │ RRSD28   Ca2       Rearing        Free Roam   Robot        0.00426925\n",
       " 1053 │ RRSD28   Amygdala  Immobility     Free Roam   Robot        0.0017858\n",
       " 1054 │ RRSD18   Ca2       Rearing        Free Roam   Object       0.00603387\n",
       " 1055 │ RRSD28   Ca2       Rearing        Free Roam   Robot        0.00685572  ⋯\n",
       "\u001b[36m                                                 4 columns and 1034 rows omitted\u001b[0m"
      ]
     },
     "execution_count": 78,
     "metadata": {},
     "output_type": "execute_result"
    }
   ],
   "source": [
    "\n",
    "using FourierAnalysis\n",
    "\n",
    "using Impute: Interpolate, impute!\n",
    "\n",
    "function imputelfp(x)\n",
    "    if window_data_region(x) == MOB\n",
    "        thresh = 0.6\n",
    "    else\n",
    "        thresh = 0.4\n",
    "    end\n",
    "    x_clean = copy(x)\n",
    "    x_clean[x>thresh] .= missing\n",
    "    impute!(x_clean, Interpolate())\n",
    "    return x_clean\n",
    "end\n",
    "\n",
    "\n",
    "# WT = event_trial∘window_data_event\n",
    "# using JLD2 \n",
    "# @save \"TempData/event_lfp_windows_1_1.jld2\"  WC\n",
    "#split events into pre-peri-post with 512 sample pre and post windows\n",
    "#events shorter than 512 are expanded\n",
    "# wd_pre = GMap(x -> x[498:1010], WC)\n",
    "wd_peri = GMap(x -> length(x) <= 2532 ? imputelfp(x)[round(Int, length(x) / 2)-256:round(Int, length(x) / 2)+256] : imputelfp(x)[1010:end-1010], WC)\n",
    "# wd_peri = GMap(x -> x, WC)\n",
    "\n",
    "# wd_post = GMap(x -> x[end-1010:end-498], WC)\n",
    "\n",
    "\n",
    "# function isartifact(x::DataWindow)\n",
    "#     if x.data.region==MOB\n",
    "#         thresh=.75\n",
    "#     else\n",
    "#         thresh=.6\n",
    "#     end\n",
    "#     # if any(window_data(x).≥thresh)\n",
    "#     if sum((window_data(x) .≥ thresh)) > (length(window_data(x)) * .01)\n",
    "#         return true\n",
    "#     else\n",
    "#         return false\n",
    "#     end\n",
    "# end\n",
    "# wd_peri=filter(!isartifact, win)\n",
    "\n",
    "# #Freq Dom\n",
    "# # pre_spec = GMap(x -> spectra(x, 256, 512), wd_pre.(WC))\n",
    "peri_spec = GMap(x -> spectra(x, 256, 512), wd_peri.(WC))\n",
    "# # post_spec = GMap(x -> spectra(x, 256, 512), wd_post.(WC)) \n",
    "\n",
    "using DataFrames, DataFramesMeta\n",
    "\n",
    "event_spectra = DataFrame()\n",
    "\n",
    "event_spectra.rat = map(x -> window_lfp(inv(window_data)(x)).rat.name, WC)\n",
    "event_spectra.region = map(x -> window_data_region(x).name, WC)\n",
    "event_spectra.behavior_type = map(x -> window_data_event(x).behavior.name, WC)\n",
    "event_spectra.trial_type = map(x -> event_trial(window_data_event(x)).condition.name, WC)\n",
    "event_spectra.agent_type = map(x -> agenttype(event_trial(window_data_event(x)).condition), WC)\n",
    "specs = map(x -> spectra(x, 256, 512), WC)\n",
    "event_spectra.respiratory = map(x -> mean(x, (3, 12) .* 256 ./ 1010.1), specs)\n",
    "event_spectra.theta = map(x -> mean(x, (5, 10) .* 256 ./ 1010.1), specs)\n",
    "event_spectra.beta = map(x -> mean(x, (15, 35) .* 256 ./ 1010.1), specs)\n",
    "event_spectra.gamma_low = map(x -> mean(x, (50, 59) .* 256 ./ 1010.1), specs)\n",
    "event_spectra.gamma_high = map(x -> mean(x, (70, 100) .* 256 ./ 1010.1), specs)\n",
    "\n",
    "\n",
    "event_spectra = @subset(event_spectra, :trial_type .== \"Free Roam\", :region .∈ Ref([\"MOB\", \"Amygdala\", \"Ca2\"]))\n"
   ]
  },
  {
   "cell_type": "code",
   "execution_count": null,
   "metadata": {},
   "outputs": [],
   "source": [
    "ratidx = rand(findall(x -> x == Rat, collect(event_spectra.agent_type)), 50)\n",
    "robotidx = rand(findall(x -> x == Robot, collect(event_spectra.agent_type)), 50)\n",
    "objectidx = rand(findall(x -> x == Object, collect(event_spectra.agent_type)), 50)\n",
    "nullidxs = vcat(ratidx, robotidx, objectidx)\n",
    "esnull = copy(event_spectra)\n",
    "esnull.behavior_type = fill(\"null\", length(esnull.behavior_type))\n",
    "\n",
    "event_spectra=vcat(event_spectra, esnull[nullidxs,:])\n"
   ]
  },
  {
   "cell_type": "code",
   "execution_count": 80,
   "metadata": {},
   "outputs": [
    {
     "data": {
      "text/plain": [
       "IJuliaAppend::IJuliaBehavior = 2"
      ]
     },
     "execution_count": 80,
     "metadata": {},
     "output_type": "execute_result"
    }
   ],
   "source": [
    "using MixedModels, ProgressMeter\n",
    "ProgressMeter.ijulia_behavior(:append)"
   ]
  },
  {
   "cell_type": "markdown",
   "metadata": {},
   "source": [
    "MOB"
   ]
  },
  {
   "cell_type": "markdown",
   "metadata": {},
   "source": [
    "Grooming"
   ]
  },
  {
   "cell_type": "code",
   "execution_count": 81,
   "metadata": {},
   "outputs": [
    {
     "data": {
      "text/latex": [
       "\\begin{tabular}\n",
       "{l | r | r | r | r | r}\n",
       " & Est. & SE & z & p & $\\sigma_\\text{rat}$ \\\\\n",
       "\\hline\n",
       "(Intercept) & 0.0021 & 0.0008 & 2.73 & 0.0064 & 0.0013 \\\\\n",
       "agent\\_type: Object & 0.0000 & 0.0002 & 0.18 & 0.8540 &   \\\\\n",
       "agent\\_type: Robot & 0.0002 & 0.0002 & 1.02 & 0.3071 &   \\\\\n",
       "Residual & 0.0006 &  &  &  &  \\\\\n",
       "\\end{tabular}\n"
      ],
      "text/markdown": [
       "|                    |   Est. |     SE |    z |      p |  σ_rat |\n",
       "|:------------------ | ------:| ------:| ----:| ------:| ------:|\n",
       "| (Intercept)        | 0.0021 | 0.0008 | 2.73 | 0.0064 | 0.0013 |\n",
       "| agent_type: Object | 0.0000 | 0.0002 | 0.18 | 0.8540 |        |\n",
       "| agent_type: Robot  | 0.0002 | 0.0002 | 1.02 | 0.3071 |        |\n",
       "| Residual           | 0.0006 |        |      |        |        |\n"
      ],
      "text/plain": [
       "Linear mixed model fit by maximum likelihood\n",
       " gamma_low ~ 1 + agent_type + (1 | rat)\n",
       "   logLik   -2 logLik     AIC       AICc        BIC    \n",
       "   501.0454 -1002.0909  -992.0909  -991.3314  -979.8776\n",
       "\n",
       "Variance components:\n",
       "            Column     Variance    Std.Dev.  \n",
       "rat      (Intercept)  0.000001753 0.001324092\n",
       "Residual              0.000000383 0.000618632\n",
       " Number of obs: 85; levels of grouping factors: 3\n",
       "\n",
       "  Fixed-effects parameters:\n",
       "────────────────────────────────────────────────────────────\n",
       "                          Coef.   Std. Error     z  Pr(>|z|)\n",
       "────────────────────────────────────────────────────────────\n",
       "(Intercept)         0.00213545   0.000782678  2.73    0.0064\n",
       "agent_type: Object  3.84649e-5   0.000209007  0.18    0.8540\n",
       "agent_type: Robot   0.000171918  0.000168332  1.02    0.3071\n",
       "────────────────────────────────────────────────────────────"
      ]
     },
     "execution_count": 81,
     "metadata": {},
     "output_type": "execute_result"
    }
   ],
   "source": [
    "#low gamma\n",
    "hyposub = @subset(event_spectra, :agent_type .∈ Ref([Rat, Robot, Object]), :region .== \"MOB\", :behavior_type .== \"Grooming\")\n",
    "function afun(atype)\n",
    "    if atype .== Rat\n",
    "        return \"Rat\"\n",
    "    elseif atype .== Object\n",
    "        return \"Object\"\n",
    "    else\n",
    "        return \"Robot\"\n",
    "    end\n",
    "end\n",
    "@transform!(hyposub, @byrow :agent_type = afun(:agent_type))\n",
    "fm = @formula(gamma_low ~ 1 + agent_type * 1 + (1 | rat))\n",
    "fm1 = fit(MixedModel, fm, hyposub, contrasts = Dict(:agent_type => DummyCoding(; base = \"Rat\")))"
   ]
  },
  {
   "cell_type": "code",
   "execution_count": 82,
   "metadata": {},
   "outputs": [
    {
     "data": {
      "text/latex": [
       "\\begin{tabular}\n",
       "{l | r | r | r | r | r}\n",
       " & Est. & SE & z & p & $\\sigma_\\text{rat}$ \\\\\n",
       "\\hline\n",
       "(Intercept) & 0.0013 & 0.0003 & 4.88 & <1e-05 & 0.0004 \\\\\n",
       "agent\\_type: Object & -0.0001 & 0.0001 & -0.64 & 0.5190 &   \\\\\n",
       "agent\\_type: Robot & -0.0001 & 0.0001 & -1.37 & 0.1692 &   \\\\\n",
       "Residual & 0.0002 &  &  &  &  \\\\\n",
       "\\end{tabular}\n"
      ],
      "text/markdown": [
       "|                    |    Est. |     SE |     z |      p |  σ_rat |\n",
       "|:------------------ | -------:| ------:| -----:| ------:| ------:|\n",
       "| (Intercept)        |  0.0013 | 0.0003 |  4.88 | <1e-05 | 0.0004 |\n",
       "| agent_type: Object | -0.0001 | 0.0001 | -0.64 | 0.5190 |        |\n",
       "| agent_type: Robot  | -0.0001 | 0.0001 | -1.37 | 0.1692 |        |\n",
       "| Residual           |  0.0002 |        |       |        |        |\n"
      ],
      "text/plain": [
       "Linear mixed model fit by maximum likelihood\n",
       " beta ~ 1 + agent_type + (1 | rat)\n",
       "   logLik   -2 logLik     AIC       AICc        BIC    \n",
       "   581.8304 -1163.6608 -1153.6608 -1152.9013 -1141.4476\n",
       "\n",
       "Variance components:\n",
       "            Column     Variance    Std.Dev.  \n",
       "rat      (Intercept)  0.000000201 0.000448693\n",
       "Residual              0.000000058 0.000240276\n",
       " Number of obs: 85; levels of grouping factors: 3\n",
       "\n",
       "  Fixed-effects parameters:\n",
       "─────────────────────────────────────────────────────────────\n",
       "                          Coef.   Std. Error      z  Pr(>|z|)\n",
       "─────────────────────────────────────────────────────────────\n",
       "(Intercept)          0.00130342  0.000267104   4.88    <1e-05\n",
       "agent_type: Object  -5.22725e-5  8.10558e-5   -0.64    0.5190\n",
       "agent_type: Robot   -8.98196e-5  6.53339e-5   -1.37    0.1692\n",
       "─────────────────────────────────────────────────────────────"
      ]
     },
     "execution_count": 82,
     "metadata": {},
     "output_type": "execute_result"
    }
   ],
   "source": [
    "#beta\n",
    "fm = @formula(beta ~ 1 + agent_type * 1 + (1 | rat))\n",
    "fm1 = fit(MixedModel, fm, hyposub, contrasts = Dict(:agent_type => DummyCoding(; base = \"Rat\")))"
   ]
  },
  {
   "cell_type": "code",
   "execution_count": 83,
   "metadata": {},
   "outputs": [
    {
     "data": {
      "text/latex": [
       "\\begin{tabular}\n",
       "{l | r | r | r | r | r}\n",
       " & Est. & SE & z & p & $\\sigma_\\text{rat}$ \\\\\n",
       "\\hline\n",
       "(Intercept) & 0.0007 & 0.0002 & 3.57 & 0.0004 & 0.0003 \\\\\n",
       "agent\\_type: Object & -0.0001 & 0.0001 & -2.15 & 0.0312 &   \\\\\n",
       "agent\\_type: Robot & -0.0000 & 0.0000 & -0.73 & 0.4667 &   \\\\\n",
       "Residual & 0.0002 &  &  &  &  \\\\\n",
       "\\end{tabular}\n"
      ],
      "text/markdown": [
       "|                    |    Est. |     SE |     z |      p |  σ_rat |\n",
       "|:------------------ | -------:| ------:| -----:| ------:| ------:|\n",
       "| (Intercept)        |  0.0007 | 0.0002 |  3.57 | 0.0004 | 0.0003 |\n",
       "| agent_type: Object | -0.0001 | 0.0001 | -2.15 | 0.0312 |        |\n",
       "| agent_type: Robot  | -0.0000 | 0.0000 | -0.73 | 0.4667 |        |\n",
       "| Residual           |  0.0002 |        |       |        |        |\n"
      ],
      "text/plain": [
       "Linear mixed model fit by maximum likelihood\n",
       " gamma_high ~ 1 + agent_type + (1 | rat)\n",
       "   logLik   -2 logLik     AIC       AICc        BIC    \n",
       "   620.0968 -1240.1936 -1230.1936 -1229.4341 -1217.9804\n",
       "\n",
       "Variance components:\n",
       "            Column    Variance   Std.Dev.  \n",
       "rat      (Intercept)  0.00000012 0.00034356\n",
       "Residual              0.00000002 0.00015218\n",
       " Number of obs: 85; levels of grouping factors: 3\n",
       "\n",
       "  Fixed-effects parameters:\n",
       "──────────────────────────────────────────────────────────────\n",
       "                           Coef.   Std. Error      z  Pr(>|z|)\n",
       "──────────────────────────────────────────────────────────────\n",
       "(Intercept)          0.000722719  0.000202612   3.57    0.0004\n",
       "agent_type: Object  -0.00011084   5.14399e-5   -2.15    0.0312\n",
       "agent_type: Robot   -3.01473e-5   4.14183e-5   -0.73    0.4667\n",
       "──────────────────────────────────────────────────────────────"
      ]
     },
     "execution_count": 83,
     "metadata": {},
     "output_type": "execute_result"
    }
   ],
   "source": [
    "#high gamma\n",
    "fm = @formula(gamma_high ~ 1 + agent_type * 1 + (1 | rat))\n",
    "fm1 = fit(MixedModel, fm, hyposub, contrasts = Dict(:agent_type => DummyCoding(; base = \"Rat\")))"
   ]
  },
  {
   "cell_type": "markdown",
   "metadata": {},
   "source": [
    "Rearing"
   ]
  },
  {
   "cell_type": "code",
   "execution_count": 84,
   "metadata": {},
   "outputs": [
    {
     "data": {
      "text/latex": [
       "\\begin{tabular}\n",
       "{l | r | r | r | r | r}\n",
       " & Est. & SE & z & p & $\\sigma_\\text{rat}$ \\\\\n",
       "\\hline\n",
       "(Intercept) & 0.0006 & 0.0001 & 4.87 & <1e-05 & 0.0002 \\\\\n",
       "agent\\_type: Object & -0.0001 & 0.0001 & -1.04 & 0.2971 &   \\\\\n",
       "agent\\_type: Robot & 0.0000 & 0.0000 & 0.25 & 0.8028 &   \\\\\n",
       "Residual & 0.0002 &  &  &  &  \\\\\n",
       "\\end{tabular}\n"
      ],
      "text/markdown": [
       "|                    |    Est. |     SE |     z |      p |  σ_rat |\n",
       "|:------------------ | -------:| ------:| -----:| ------:| ------:|\n",
       "| (Intercept)        |  0.0006 | 0.0001 |  4.87 | <1e-05 | 0.0002 |\n",
       "| agent_type: Object | -0.0001 | 0.0001 | -1.04 | 0.2971 |        |\n",
       "| agent_type: Robot  |  0.0000 | 0.0000 |  0.25 | 0.8028 |        |\n",
       "| Residual           |  0.0002 |        |       |        |        |\n"
      ],
      "text/plain": [
       "Linear mixed model fit by maximum likelihood\n",
       " gamma_high ~ 1 + agent_type + (1 | rat)\n",
       "   logLik   -2 logLik     AIC       AICc        BIC    \n",
       "   887.4902 -1774.9804 -1764.9804 -1764.4804 -1750.7990\n",
       "\n",
       "Variance components:\n",
       "            Column     Variance    Std.Dev.  \n",
       "rat      (Intercept)  0.000000041 0.000203596\n",
       "Residual              0.000000041 0.000202504\n",
       " Number of obs: 126; levels of grouping factors: 3\n",
       "\n",
       "  Fixed-effects parameters:\n",
       "──────────────────────────────────────────────────────────────\n",
       "                           Coef.   Std. Error      z  Pr(>|z|)\n",
       "──────────────────────────────────────────────────────────────\n",
       "(Intercept)          0.000613456  0.000126054   4.87    <1e-05\n",
       "agent_type: Object  -6.74252e-5   6.46626e-5   -1.04    0.2971\n",
       "agent_type: Robot    1.22104e-5   4.88976e-5    0.25    0.8028\n",
       "──────────────────────────────────────────────────────────────"
      ]
     },
     "execution_count": 84,
     "metadata": {},
     "output_type": "execute_result"
    }
   ],
   "source": [
    "#high gamma\n",
    "hyposub = @subset(event_spectra, :agent_type .∈ Ref([Rat, Robot, Object]), :region .== \"MOB\", :behavior_type .== \"Rearing\")\n",
    "function afun(atype)\n",
    "    if atype .== Rat\n",
    "        return \"Rat\"\n",
    "    elseif atype .== Object\n",
    "        return \"Object\"\n",
    "    else\n",
    "        return \"Robot\"\n",
    "    end\n",
    "end\n",
    "@transform!(hyposub, @byrow :agent_type = afun(:agent_type))\n",
    "fm = @formula(gamma_high ~ 1 + agent_type * 1 + (1 | rat))\n",
    "fm1 = fit(MixedModel, fm, hyposub, contrasts = Dict(:agent_type => DummyCoding(; base = \"Rat\")))"
   ]
  },
  {
   "cell_type": "code",
   "execution_count": 85,
   "metadata": {},
   "outputs": [
    {
     "data": {
      "text/latex": [
       "\\begin{tabular}\n",
       "{l | r | r | r | r | r}\n",
       " & Est. & SE & z & p & $\\sigma_\\text{rat}$ \\\\\n",
       "\\hline\n",
       "(Intercept) & 0.0250 & 0.0055 & 4.54 & <1e-05 & 0.0094 \\\\\n",
       "agent\\_type: Object & -0.0019 & 0.0016 & -1.16 & 0.2456 &   \\\\\n",
       "agent\\_type: Robot & -0.0009 & 0.0012 & -0.73 & 0.4632 &   \\\\\n",
       "Residual & 0.0049 &  &  &  &  \\\\\n",
       "\\end{tabular}\n"
      ],
      "text/markdown": [
       "|                    |    Est. |     SE |     z |      p |  σ_rat |\n",
       "|:------------------ | -------:| ------:| -----:| ------:| ------:|\n",
       "| (Intercept)        |  0.0250 | 0.0055 |  4.54 | <1e-05 | 0.0094 |\n",
       "| agent_type: Object | -0.0019 | 0.0016 | -1.16 | 0.2456 |        |\n",
       "| agent_type: Robot  | -0.0009 | 0.0012 | -0.73 | 0.4632 |        |\n",
       "| Residual           |  0.0049 |        |       |        |        |\n"
      ],
      "text/plain": [
       "Linear mixed model fit by maximum likelihood\n",
       " theta ~ 1 + agent_type + (1 | rat)\n",
       "   logLik   -2 logLik     AIC       AICc        BIC    \n",
       "   482.9535  -965.9071  -955.9071  -955.4071  -941.7256\n",
       "\n",
       "Variance components:\n",
       "            Column    Variance   Std.Dev.  \n",
       "rat      (Intercept)  0.00008743 0.00935061\n",
       "Residual              0.00002448 0.00494754\n",
       " Number of obs: 126; levels of grouping factors: 3\n",
       "\n",
       "  Fixed-effects parameters:\n",
       "─────────────────────────────────────────────────────────────\n",
       "                           Coef.  Std. Error      z  Pr(>|z|)\n",
       "─────────────────────────────────────────────────────────────\n",
       "(Intercept)          0.0250468    0.00551361   4.54    <1e-05\n",
       "agent_type: Object  -0.00185619   0.00159877  -1.16    0.2456\n",
       "agent_type: Robot   -0.000879354  0.00119876  -0.73    0.4632\n",
       "─────────────────────────────────────────────────────────────"
      ]
     },
     "execution_count": 85,
     "metadata": {},
     "output_type": "execute_result"
    }
   ],
   "source": [
    "#theta\n",
    "fm = @formula(theta ~ 1 + agent_type * 1 + (1 | rat))\n",
    "fm1 = fit(MixedModel, fm, hyposub, contrasts = Dict(:agent_type => DummyCoding(; base = \"Rat\")))"
   ]
  },
  {
   "cell_type": "markdown",
   "metadata": {},
   "source": [
    "Immobitlity"
   ]
  },
  {
   "cell_type": "code",
   "execution_count": 86,
   "metadata": {},
   "outputs": [
    {
     "data": {
      "text/latex": [
       "\\begin{tabular}\n",
       "{l | r | r | r | r | r}\n",
       " & Est. & SE & z & p & $\\sigma_\\text{rat}$ \\\\\n",
       "\\hline\n",
       "(Intercept) & 0.0007 & 0.0003 & 2.28 & 0.0227 & 0.0004 \\\\\n",
       "agent\\_type: Object & 0.0001 & 0.0002 & 0.41 & 0.6818 &   \\\\\n",
       "agent\\_type: Robot & 0.0002 & 0.0002 & 0.85 & 0.3938 &   \\\\\n",
       "Residual & 0.0007 &  &  &  &  \\\\\n",
       "\\end{tabular}\n"
      ],
      "text/markdown": [
       "|                    |   Est. |     SE |    z |      p |  σ_rat |\n",
       "|:------------------ | ------:| ------:| ----:| ------:| ------:|\n",
       "| (Intercept)        | 0.0007 | 0.0003 | 2.28 | 0.0227 | 0.0004 |\n",
       "| agent_type: Object | 0.0001 | 0.0002 | 0.41 | 0.6818 |        |\n",
       "| agent_type: Robot  | 0.0002 | 0.0002 | 0.85 | 0.3938 |        |\n",
       "| Residual           | 0.0007 |        |      |        |        |\n"
      ],
      "text/plain": [
       "Linear mixed model fit by maximum likelihood\n",
       " gamma_low ~ 1 + agent_type + (1 | rat)\n",
       "   logLik   -2 logLik     AIC       AICc        BIC    \n",
       "   855.7557 -1711.5114 -1701.5114 -1701.0889 -1686.5253\n",
       "\n",
       "Variance components:\n",
       "            Column     Variance    Std.Dev.  \n",
       "rat      (Intercept)  0.000000172 0.000414791\n",
       "Residual              0.000000528 0.000726569\n",
       " Number of obs: 148; levels of grouping factors: 3\n",
       "\n",
       "  Fixed-effects parameters:\n",
       "────────────────────────────────────────────────────────────\n",
       "                          Coef.   Std. Error     z  Pr(>|z|)\n",
       "────────────────────────────────────────────────────────────\n",
       "(Intercept)         0.00072694   0.00031912   2.28    0.0227\n",
       "agent_type: Object  8.70012e-5   0.000212196  0.41    0.6818\n",
       "agent_type: Robot   0.000202538  0.000237522  0.85    0.3938\n",
       "────────────────────────────────────────────────────────────"
      ]
     },
     "execution_count": 86,
     "metadata": {},
     "output_type": "execute_result"
    }
   ],
   "source": [
    "#low gamma\n",
    "hyposub = @subset(event_spectra, :agent_type .∈ Ref([Rat, Robot, Object]), :region .== \"MOB\", :behavior_type .== \"Immobility\")\n",
    "function afun(atype)\n",
    "    if atype .== Rat\n",
    "        return \"Rat\"\n",
    "    elseif atype .== Object\n",
    "        return \"Object\"\n",
    "    else\n",
    "        return \"Robot\"\n",
    "    end\n",
    "end\n",
    "@transform!(hyposub, @byrow :agent_type = afun(:agent_type))\n",
    "fm = @formula(gamma_low ~ 1 + agent_type * 1 + (1 | rat))\n",
    "fm1 = fit(MixedModel, fm, hyposub, contrasts = Dict(:agent_type => DummyCoding(; base = \"Rat\")))"
   ]
  },
  {
   "cell_type": "markdown",
   "metadata": {},
   "source": [
    "CA"
   ]
  },
  {
   "cell_type": "markdown",
   "metadata": {},
   "source": [
    "Grooming"
   ]
  },
  {
   "cell_type": "code",
   "execution_count": 87,
   "metadata": {},
   "outputs": [
    {
     "data": {
      "text/latex": [
       "\\begin{tabular}\n",
       "{l | r | r | r | r | r}\n",
       " & Est. & SE & z & p & $\\sigma_\\text{rat}$ \\\\\n",
       "\\hline\n",
       "(Intercept) & 0.0051 & 0.0006 & 8.72 & <1e-17 & 0.0009 \\\\\n",
       "agent\\_type: Object & -0.0010 & 0.0003 & -3.06 & 0.0022 &   \\\\\n",
       "agent\\_type: Robot & -0.0009 & 0.0003 & -2.55 & 0.0108 &   \\\\\n",
       "Residual & 0.0009 &  &  &  &  \\\\\n",
       "\\end{tabular}\n"
      ],
      "text/markdown": [
       "|                    |    Est. |     SE |     z |      p |  σ_rat |\n",
       "|:------------------ | -------:| ------:| -----:| ------:| ------:|\n",
       "| (Intercept)        |  0.0051 | 0.0006 |  8.72 | <1e-17 | 0.0009 |\n",
       "| agent_type: Object | -0.0010 | 0.0003 | -3.06 | 0.0022 |        |\n",
       "| agent_type: Robot  | -0.0009 | 0.0003 | -2.55 | 0.0108 |        |\n",
       "| Residual           |  0.0009 |        |       |        |        |\n"
      ],
      "text/plain": [
       "Linear mixed model fit by maximum likelihood\n",
       " theta ~ 1 + agent_type + (1 | rat)\n",
       "   logLik   -2 logLik     AIC       AICc        BIC    \n",
       "   356.5257  -713.0513  -703.0513  -702.0344  -692.1794\n",
       "\n",
       "Variance components:\n",
       "            Column     Variance    Std.Dev.  \n",
       "rat      (Intercept)  0.000000828 0.000909676\n",
       "Residual              0.000000885 0.000940594\n",
       " Number of obs: 65; levels of grouping factors: 3\n",
       "\n",
       "  Fixed-effects parameters:\n",
       "──────────────────────────────────────────────────────────────\n",
       "                           Coef.   Std. Error      z  Pr(>|z|)\n",
       "──────────────────────────────────────────────────────────────\n",
       "(Intercept)          0.00511766   0.000587106   8.72    <1e-17\n",
       "agent_type: Object  -0.000965376  0.000315355  -3.06    0.0022\n",
       "agent_type: Robot   -0.000888548  0.0003486    -2.55    0.0108\n",
       "──────────────────────────────────────────────────────────────"
      ]
     },
     "execution_count": 87,
     "metadata": {},
     "output_type": "execute_result"
    }
   ],
   "source": [
    "#theta\n",
    "hyposub = @subset(event_spectra, :agent_type .∈ Ref([Rat, Robot, Object]), :region .== \"Ca2\", :behavior_type .== \"Grooming\")\n",
    "function afun(atype)\n",
    "    if atype .== Rat\n",
    "        return \"Rat\"\n",
    "    elseif atype .== Object\n",
    "        return \"Object\"\n",
    "    else\n",
    "        return \"Robot\"\n",
    "    end\n",
    "end\n",
    "@transform!(hyposub, @byrow :agent_type = afun(:agent_type))\n",
    "fm = @formula(theta ~ 1 + agent_type * 1 + (1 | rat))\n",
    "fm1 = fit(MixedModel, fm, hyposub, contrasts = Dict(:agent_type => DummyCoding(; base = \"Rat\")))"
   ]
  },
  {
   "cell_type": "code",
   "execution_count": 88,
   "metadata": {},
   "outputs": [
    {
     "data": {
      "text/latex": [
       "\\begin{tabular}\n",
       "{l | r | r | r | r | r}\n",
       " & Est. & SE & z & p & $\\sigma_\\text{rat}$ \\\\\n",
       "\\hline\n",
       "(Intercept) & 0.0000 & 0.0000 & 8.95 & <1e-18 & 0.0000 \\\\\n",
       "agent\\_type: Object & 0.0000 & 0.0000 & 1.06 & 0.2877 &   \\\\\n",
       "agent\\_type: Robot & -0.0000 & 0.0000 & -1.14 & 0.2524 &   \\\\\n",
       "Residual & 0.0000 &  &  &  &  \\\\\n",
       "\\end{tabular}\n"
      ],
      "text/markdown": [
       "|                    |    Est. |     SE |     z |      p |  σ_rat |\n",
       "|:------------------ | -------:| ------:| -----:| ------:| ------:|\n",
       "| (Intercept)        |  0.0000 | 0.0000 |  8.95 | <1e-18 | 0.0000 |\n",
       "| agent_type: Object |  0.0000 | 0.0000 |  1.06 | 0.2877 |        |\n",
       "| agent_type: Robot  | -0.0000 | 0.0000 | -1.14 | 0.2524 |        |\n",
       "| Residual           |  0.0000 |        |       |        |        |\n"
      ],
      "text/plain": [
       "Linear mixed model fit by maximum likelihood\n",
       " gamma_high ~ 1 + agent_type + (1 | rat)\n",
       "   logLik   -2 logLik     AIC       AICc        BIC    \n",
       "   632.0801 -1264.1601 -1254.1601 -1253.1432 -1243.2882\n",
       "\n",
       "Variance components:\n",
       "            Column    Variance   Std.Dev.  \n",
       "rat      (Intercept)  0.00000000 0.00000684\n",
       "Residual              0.00000000 0.00001393\n",
       " Number of obs: 65; levels of grouping factors: 3\n",
       "\n",
       "  Fixed-effects parameters:\n",
       "────────────────────────────────────────────────────────────\n",
       "                          Coef.  Std. Error      z  Pr(>|z|)\n",
       "────────────────────────────────────────────────────────────\n",
       "(Intercept)          4.86887e-5  5.44077e-6   8.95    <1e-18\n",
       "agent_type: Object   4.84996e-6  4.56134e-6   1.06    0.2877\n",
       "agent_type: Robot   -5.67432e-6  4.95762e-6  -1.14    0.2524\n",
       "────────────────────────────────────────────────────────────"
      ]
     },
     "execution_count": 88,
     "metadata": {},
     "output_type": "execute_result"
    }
   ],
   "source": [
    "#high gamma\n",
    "fm = @formula(gamma_high ~ 1 + agent_type * 1 + (1 | rat))\n",
    "fm1 = fit(MixedModel, fm, hyposub, contrasts = Dict(:agent_type => DummyCoding(; base = \"Rat\")))"
   ]
  },
  {
   "cell_type": "markdown",
   "metadata": {},
   "source": [
    "Rearing"
   ]
  },
  {
   "cell_type": "code",
   "execution_count": 89,
   "metadata": {},
   "outputs": [
    {
     "data": {
      "text/latex": [
       "\\begin{tabular}\n",
       "{l | r | r | r | r | r}\n",
       " & Est. & SE & z & p & $\\sigma_\\text{rat}$ \\\\\n",
       "\\hline\n",
       "(Intercept) & 0.0000 & 0.0000 & 3.99 & <1e-04 & 0.0000 \\\\\n",
       "agent\\_type: Object & 0.0000 & 0.0000 & 3.08 & 0.0021 &   \\\\\n",
       "agent\\_type: Robot & 0.0000 & 0.0000 & 2.95 & 0.0032 &   \\\\\n",
       "Residual & 0.0000 &  &  &  &  \\\\\n",
       "\\end{tabular}\n"
      ],
      "text/markdown": [
       "|                    |   Est. |     SE |    z |      p |  σ_rat |\n",
       "|:------------------ | ------:| ------:| ----:| ------:| ------:|\n",
       "| (Intercept)        | 0.0000 | 0.0000 | 3.99 | <1e-04 | 0.0000 |\n",
       "| agent_type: Object | 0.0000 | 0.0000 | 3.08 | 0.0021 |        |\n",
       "| agent_type: Robot  | 0.0000 | 0.0000 | 2.95 | 0.0032 |        |\n",
       "| Residual           | 0.0000 |        |      |        |        |\n"
      ],
      "text/plain": [
       "Linear mixed model fit by maximum likelihood\n",
       " gamma_high ~ 1 + agent_type + (1 | rat)\n",
       "   logLik   -2 logLik     AIC       AICc        BIC    \n",
       "  1031.2881 -2062.5762 -2052.5762 -2051.9640 -2039.3543\n",
       "\n",
       "Variance components:\n",
       "            Column    Variance   Std.Dev.  \n",
       "rat      (Intercept)  0.00000000 0.00000992\n",
       "Residual              0.00000000 0.00001140\n",
       " Number of obs: 104; levels of grouping factors: 3\n",
       "\n",
       "  Fixed-effects parameters:\n",
       "──────────────────────────────────────────────────────────\n",
       "                         Coef.  Std. Error     z  Pr(>|z|)\n",
       "──────────────────────────────────────────────────────────\n",
       "(Intercept)         2.66489e-5  6.6724e-6   3.99    <1e-04\n",
       "agent_type: Object  1.39996e-5  4.54773e-6  3.08    0.0021\n",
       "agent_type: Robot   1.08289e-5  3.67643e-6  2.95    0.0032\n",
       "──────────────────────────────────────────────────────────"
      ]
     },
     "execution_count": 89,
     "metadata": {},
     "output_type": "execute_result"
    }
   ],
   "source": [
    "#high gamma\n",
    "hyposub = @subset(event_spectra, :agent_type .∈ Ref([Rat, Robot, Object]), :region .== \"Ca2\", :behavior_type .== \"Rearing\")\n",
    "function afun(atype)\n",
    "    if atype .== Rat\n",
    "        return \"Rat\"\n",
    "    elseif atype .== Object\n",
    "        return \"Object\"\n",
    "    else\n",
    "        return \"Robot\"\n",
    "    end\n",
    "end\n",
    "@transform!(hyposub, @byrow :agent_type = afun(:agent_type))\n",
    "fm = @formula(gamma_high ~ 1 + agent_type * 1 + (1 | rat))\n",
    "fm1 = fit(MixedModel, fm, hyposub, contrasts = Dict(:agent_type => DummyCoding(; base = \"Rat\")))"
   ]
  },
  {
   "cell_type": "markdown",
   "metadata": {},
   "source": [
    "Immobility"
   ]
  },
  {
   "cell_type": "code",
   "execution_count": 90,
   "metadata": {},
   "outputs": [
    {
     "data": {
      "text/latex": [
       "\\begin{tabular}\n",
       "{l | r | r | r | r | r}\n",
       " & Est. & SE & z & p & $\\sigma_\\text{rat}$ \\\\\n",
       "\\hline\n",
       "(Intercept) & 0.0000 & 0.0000 & 10.94 & <1e-27 & 0.0000 \\\\\n",
       "agent\\_type: Object & -0.0000 & 0.0000 & -0.08 & 0.9349 &   \\\\\n",
       "agent\\_type: Robot & -0.0000 & 0.0000 & -0.81 & 0.4196 &   \\\\\n",
       "Residual & 0.0000 &  &  &  &  \\\\\n",
       "\\end{tabular}\n"
      ],
      "text/markdown": [
       "|                    |    Est. |     SE |     z |      p |  σ_rat |\n",
       "|:------------------ | -------:| ------:| -----:| ------:| ------:|\n",
       "| (Intercept)        |  0.0000 | 0.0000 | 10.94 | <1e-27 | 0.0000 |\n",
       "| agent_type: Object | -0.0000 | 0.0000 | -0.08 | 0.9349 |        |\n",
       "| agent_type: Robot  | -0.0000 | 0.0000 | -0.81 | 0.4196 |        |\n",
       "| Residual           |  0.0000 |        |       |        |        |\n"
      ],
      "text/plain": [
       "Linear mixed model fit by maximum likelihood\n",
       " gamma_high ~ 1 + agent_type + (1 | rat)\n",
       "   logLik   -2 logLik     AIC       AICc        BIC    \n",
       "  1462.7068 -2925.4136 -2915.4136 -2914.9659 -2900.7054\n",
       "\n",
       "Variance components:\n",
       "            Column    Variance   Std.Dev.  \n",
       "rat      (Intercept)  0.00000000 0.00000248\n",
       "Residual              0.00000000 0.00000689\n",
       " Number of obs: 140; levels of grouping factors: 3\n",
       "\n",
       "  Fixed-effects parameters:\n",
       "────────────────────────────────────────────────────────────\n",
       "                          Coef.  Std. Error      z  Pr(>|z|)\n",
       "────────────────────────────────────────────────────────────\n",
       "(Intercept)          2.71239e-5  2.47967e-6  10.94    <1e-27\n",
       "agent_type: Object  -1.72288e-7  2.11054e-6  -0.08    0.9349\n",
       "agent_type: Robot   -1.81618e-6  2.25037e-6  -0.81    0.4196\n",
       "────────────────────────────────────────────────────────────"
      ]
     },
     "execution_count": 90,
     "metadata": {},
     "output_type": "execute_result"
    }
   ],
   "source": [
    "#high gamma\n",
    "hyposub = @subset(event_spectra, :agent_type .∈ Ref([Rat, Robot, Object]), :region .== \"Ca2\", :behavior_type .== \"Immobility\")\n",
    "function afun(atype)\n",
    "    if atype .== Rat\n",
    "        return \"Rat\"\n",
    "    elseif atype .== Object\n",
    "        return \"Object\"\n",
    "    else\n",
    "        return \"Robot\"\n",
    "    end\n",
    "end\n",
    "@transform!(hyposub, @byrow :agent_type = afun(:agent_type))\n",
    "fm = @formula(gamma_high ~ 1 + agent_type * 1 + (1 | rat))\n",
    "fm1 = fit(MixedModel, fm, hyposub, contrasts = Dict(:agent_type => DummyCoding(; base = \"Rat\")))"
   ]
  },
  {
   "cell_type": "markdown",
   "metadata": {},
   "source": [
    "Amygdala"
   ]
  },
  {
   "cell_type": "markdown",
   "metadata": {},
   "source": [
    "Grooming"
   ]
  },
  {
   "cell_type": "code",
   "execution_count": 91,
   "metadata": {},
   "outputs": [
    {
     "data": {
      "text/latex": [
       "\\begin{tabular}\n",
       "{l | r | r | r | r | r}\n",
       " & Est. & SE & z & p & $\\sigma_\\text{rat}$ \\\\\n",
       "\\hline\n",
       "(Intercept) & 0.0001 & 0.0000 & 3.43 & 0.0006 & 0.0001 \\\\\n",
       "agent\\_type: Object & 0.0000 & 0.0000 & 0.79 & 0.4272 &   \\\\\n",
       "agent\\_type: Robot & 0.0000 & 0.0000 & 0.50 & 0.6176 &   \\\\\n",
       "Residual & 0.0000 &  &  &  &  \\\\\n",
       "\\end{tabular}\n"
      ],
      "text/markdown": [
       "|                    |   Est. |     SE |    z |      p |  σ_rat |\n",
       "|:------------------ | ------:| ------:| ----:| ------:| ------:|\n",
       "| (Intercept)        | 0.0001 | 0.0000 | 3.43 | 0.0006 | 0.0001 |\n",
       "| agent_type: Object | 0.0000 | 0.0000 | 0.79 | 0.4272 |        |\n",
       "| agent_type: Robot  | 0.0000 | 0.0000 | 0.50 | 0.6176 |        |\n",
       "| Residual           | 0.0000 |        |      |        |        |\n"
      ],
      "text/plain": [
       "Linear mixed model fit by maximum likelihood\n",
       " gamma_low ~ 1 + agent_type + (1 | rat)\n",
       "   logLik   -2 logLik     AIC       AICc        BIC    \n",
       "   833.6247 -1667.2493 -1657.2493 -1656.5971 -1644.3245\n",
       "\n",
       "Variance components:\n",
       "            Column    Variance   Std.Dev.  \n",
       "rat      (Intercept)  0.00000001 0.00007201\n",
       "Residual              0.00000000 0.00004611\n",
       " Number of obs: 98; levels of grouping factors: 3\n",
       "\n",
       "  Fixed-effects parameters:\n",
       "───────────────────────────────────────────────────────────\n",
       "                          Coef.  Std. Error     z  Pr(>|z|)\n",
       "───────────────────────────────────────────────────────────\n",
       "(Intercept)         0.000147284  4.2967e-5   3.43    0.0006\n",
       "agent_type: Object  1.10308e-5   1.38942e-5  0.79    0.4272\n",
       "agent_type: Robot   5.90242e-6   1.18227e-5  0.50    0.6176\n",
       "───────────────────────────────────────────────────────────"
      ]
     },
     "execution_count": 91,
     "metadata": {},
     "output_type": "execute_result"
    }
   ],
   "source": [
    "#low gamma\n",
    "hyposub = @subset(event_spectra, :agent_type .∈ Ref([Rat, Robot, Object]), :region .== \"Amygdala\", :behavior_type .== \"Grooming\")\n",
    "function afun(atype)\n",
    "    if atype .== Rat\n",
    "        return \"Rat\"\n",
    "    elseif atype .== Object\n",
    "        return \"Object\"\n",
    "    else\n",
    "        return \"Robot\"\n",
    "    end\n",
    "end\n",
    "@transform!(hyposub, @byrow :agent_type = afun(:agent_type))\n",
    "fm = @formula(gamma_low ~ 1 + agent_type * 1 + (1 | rat))\n",
    "fm1 = fit(MixedModel, fm, hyposub, contrasts = Dict(:agent_type => DummyCoding(; base = \"Rat\")))"
   ]
  },
  {
   "cell_type": "code",
   "execution_count": 92,
   "metadata": {},
   "outputs": [
    {
     "data": {
      "text/latex": [
       "\\begin{tabular}\n",
       "{l | r | r | r | r | r}\n",
       " & Est. & SE & z & p & $\\sigma_\\text{rat}$ \\\\\n",
       "\\hline\n",
       "(Intercept) & 0.0013 & 0.0001 & 12.93 & <1e-37 & 0.0001 \\\\\n",
       "agent\\_type: Object & -0.0002 & 0.0001 & -2.07 & 0.0384 &   \\\\\n",
       "agent\\_type: Robot & -0.0001 & 0.0001 & -2.06 & 0.0396 &   \\\\\n",
       "Residual & 0.0003 &  &  &  &  \\\\\n",
       "\\end{tabular}\n"
      ],
      "text/markdown": [
       "|                    |    Est. |     SE |     z |      p |  σ_rat |\n",
       "|:------------------ | -------:| ------:| -----:| ------:| ------:|\n",
       "| (Intercept)        |  0.0013 | 0.0001 | 12.93 | <1e-37 | 0.0001 |\n",
       "| agent_type: Object | -0.0002 | 0.0001 | -2.07 | 0.0384 |        |\n",
       "| agent_type: Robot  | -0.0001 | 0.0001 | -2.06 | 0.0396 |        |\n",
       "| Residual           |  0.0003 |        |       |        |        |\n"
      ],
      "text/plain": [
       "Linear mixed model fit by maximum likelihood\n",
       " theta ~ 1 + agent_type + (1 | rat)\n",
       "   logLik   -2 logLik     AIC       AICc        BIC    \n",
       "   664.6048 -1329.2096 -1319.2096 -1318.5574 -1306.2848\n",
       "\n",
       "Variance components:\n",
       "            Column     Variance    Std.Dev.  \n",
       "rat      (Intercept)  0.000000021 0.000146142\n",
       "Residual              0.000000071 0.000266347\n",
       " Number of obs: 98; levels of grouping factors: 3\n",
       "\n",
       "  Fixed-effects parameters:\n",
       "──────────────────────────────────────────────────────────────\n",
       "                           Coef.   Std. Error      z  Pr(>|z|)\n",
       "──────────────────────────────────────────────────────────────\n",
       "(Intercept)          0.00133935   0.000103596  12.93    <1e-37\n",
       "agent_type: Object  -0.000161488  7.79884e-5   -2.07    0.0384\n",
       "agent_type: Robot   -0.000137732  6.6945e-5    -2.06    0.0396\n",
       "──────────────────────────────────────────────────────────────"
      ]
     },
     "execution_count": 92,
     "metadata": {},
     "output_type": "execute_result"
    }
   ],
   "source": [
    "#theta\n",
    "fm = @formula(theta ~ 1 + agent_type * 1 + (1 | rat))\n",
    "fm1 = fit(MixedModel, fm, hyposub, contrasts = Dict(:agent_type => DummyCoding(; base = \"Rat\")))"
   ]
  },
  {
   "cell_type": "markdown",
   "metadata": {},
   "source": [
    "Rearing"
   ]
  },
  {
   "cell_type": "code",
   "execution_count": 93,
   "metadata": {},
   "outputs": [
    {
     "data": {
      "text/latex": [
       "\\begin{tabular}\n",
       "{l | r | r | r | r | r}\n",
       " & Est. & SE & z & p & $\\sigma_\\text{rat}$ \\\\\n",
       "\\hline\n",
       "(Intercept) & 0.0015 & 0.0002 & 8.63 & <1e-17 & 0.0003 \\\\\n",
       "agent\\_type: Object & 0.0001 & 0.0001 & 1.34 & 0.1810 &   \\\\\n",
       "agent\\_type: Robot & -0.0002 & 0.0001 & -2.78 & 0.0055 &   \\\\\n",
       "Residual & 0.0003 &  &  &  &  \\\\\n",
       "\\end{tabular}\n"
      ],
      "text/markdown": [
       "|                    |    Est. |     SE |     z |      p |  σ_rat |\n",
       "|:------------------ | -------:| ------:| -----:| ------:| ------:|\n",
       "| (Intercept)        |  0.0015 | 0.0002 |  8.63 | <1e-17 | 0.0003 |\n",
       "| agent_type: Object |  0.0001 | 0.0001 |  1.34 | 0.1810 |        |\n",
       "| agent_type: Robot  | -0.0002 | 0.0001 | -2.78 | 0.0055 |        |\n",
       "| Residual           |  0.0003 |        |       |        |        |\n"
      ],
      "text/plain": [
       "Linear mixed model fit by maximum likelihood\n",
       " theta ~ 1 + agent_type + (1 | rat)\n",
       "   logLik   -2 logLik     AIC       AICc        BIC    \n",
       "   892.9708 -1785.9416 -1775.9416 -1775.4836 -1761.3417\n",
       "\n",
       "Variance components:\n",
       "            Column     Variance    Std.Dev.  \n",
       "rat      (Intercept)  0.000000071 0.000266488\n",
       "Residual              0.000000119 0.000345116\n",
       " Number of obs: 137; levels of grouping factors: 3\n",
       "\n",
       "  Fixed-effects parameters:\n",
       "──────────────────────────────────────────────────────────────\n",
       "                           Coef.   Std. Error      z  Pr(>|z|)\n",
       "──────────────────────────────────────────────────────────────\n",
       "(Intercept)          0.00145849   0.000168983   8.63    <1e-17\n",
       "agent_type: Object   0.000132466  9.90195e-5    1.34    0.1810\n",
       "agent_type: Robot   -0.000226245  8.14299e-5   -2.78    0.0055\n",
       "──────────────────────────────────────────────────────────────"
      ]
     },
     "execution_count": 93,
     "metadata": {},
     "output_type": "execute_result"
    }
   ],
   "source": [
    "#theta \n",
    "hyposub = @subset(event_spectra, :agent_type .∈ Ref([Rat, Robot, Object]), :region .== \"Amygdala\", :behavior_type .== \"Rearing\")\n",
    "function afun(atype)\n",
    "    if atype .== Rat\n",
    "        return \"Rat\"\n",
    "    elseif atype .== Object\n",
    "        return \"Object\"\n",
    "    else\n",
    "        return \"Robot\"\n",
    "    end\n",
    "end\n",
    "@transform!(hyposub, @byrow :agent_type = afun(:agent_type))\n",
    "fm = @formula(theta ~ 1 + agent_type * 1 + (1 | rat))\n",
    "fm1 = fit(MixedModel, fm, hyposub, contrasts = Dict(:agent_type => DummyCoding(; base = \"Rat\")))"
   ]
  },
  {
   "cell_type": "markdown",
   "metadata": {},
   "source": [
    "Immobility"
   ]
  },
  {
   "cell_type": "code",
   "execution_count": 94,
   "metadata": {},
   "outputs": [
    {
     "data": {
      "text/latex": [
       "\\begin{tabular}\n",
       "{l | r | r | r | r | r}\n",
       " & Est. & SE & z & p & $\\sigma_\\text{rat}$ \\\\\n",
       "\\hline\n",
       "(Intercept) & 0.0001 & 0.0000 & 3.81 & 0.0001 & 0.0000 \\\\\n",
       "agent\\_type: Object & -0.0000 & 0.0000 & -0.40 & 0.6913 &   \\\\\n",
       "agent\\_type: Robot & -0.0000 & 0.0000 & -0.13 & 0.8979 &   \\\\\n",
       "Residual & 0.0000 &  &  &  &  \\\\\n",
       "\\end{tabular}\n"
      ],
      "text/markdown": [
       "|                    |    Est. |     SE |     z |      p |  σ_rat |\n",
       "|:------------------ | -------:| ------:| -----:| ------:| ------:|\n",
       "| (Intercept)        |  0.0001 | 0.0000 |  3.81 | 0.0001 | 0.0000 |\n",
       "| agent_type: Object | -0.0000 | 0.0000 | -0.40 | 0.6913 |        |\n",
       "| agent_type: Robot  | -0.0000 | 0.0000 | -0.13 | 0.8979 |        |\n",
       "| Residual           |  0.0000 |        |       |        |        |\n"
      ],
      "text/plain": [
       "Linear mixed model fit by maximum likelihood\n",
       " gamma_low ~ 1 + agent_type + (1 | rat)\n",
       "   logLik   -2 logLik     AIC       AICc        BIC    \n",
       "  1365.8671 -2731.7342 -2721.7342 -2721.3233 -2706.6148\n",
       "\n",
       "Variance components:\n",
       "            Column    Variance   Std.Dev.  \n",
       "rat      (Intercept)  0.00000000 0.00003117\n",
       "Residual              0.00000000 0.00002917\n",
       " Number of obs: 152; levels of grouping factors: 3\n",
       "\n",
       "  Fixed-effects parameters:\n",
       "────────────────────────────────────────────────────────────\n",
       "                          Coef.  Std. Error      z  Pr(>|z|)\n",
       "────────────────────────────────────────────────────────────\n",
       "(Intercept)          7.58388e-5  1.98919e-5   3.81    0.0001\n",
       "agent_type: Object  -3.39087e-6  8.53933e-6  -0.40    0.6913\n",
       "agent_type: Robot   -1.22631e-6  9.55836e-6  -0.13    0.8979\n",
       "────────────────────────────────────────────────────────────"
      ]
     },
     "execution_count": 94,
     "metadata": {},
     "output_type": "execute_result"
    }
   ],
   "source": [
    "#low gamma\n",
    "hyposub = @subset(event_spectra, :agent_type .∈ Ref([Rat, Robot, Object]), :region .== \"Amygdala\", :behavior_type .== \"Immobility\")\n",
    "function afun(atype)\n",
    "    if atype .== Rat\n",
    "        return \"Rat\"\n",
    "    elseif atype .== Object\n",
    "        return \"Object\"\n",
    "    else\n",
    "        return \"Robot\"\n",
    "    end\n",
    "end\n",
    "@transform!(hyposub, @byrow :agent_type = afun(:agent_type))\n",
    "fm = @formula(gamma_low ~ 1 + agent_type * 1 + (1 | rat))\n",
    "fm1 = fit(MixedModel, fm, hyposub, contrasts = Dict(:agent_type => DummyCoding(; base = \"Rat\")))"
   ]
  },
  {
   "cell_type": "code",
   "execution_count": 95,
   "metadata": {},
   "outputs": [
    {
     "data": {
      "text/latex": [
       "\\begin{tabular}\n",
       "{l | r | r | r | r | r}\n",
       " & Est. & SE & z & p & $\\sigma_\\text{rat}$ \\\\\n",
       "\\hline\n",
       "(Intercept) & 0.0000 & 0.0000 & 3.21 & 0.0013 & 0.0000 \\\\\n",
       "agent\\_type: Object & -0.0000 & 0.0000 & -1.16 & 0.2468 &   \\\\\n",
       "agent\\_type: Robot & -0.0000 & 0.0000 & -0.15 & 0.8810 &   \\\\\n",
       "Residual & 0.0000 &  &  &  &  \\\\\n",
       "\\end{tabular}\n"
      ],
      "text/markdown": [
       "|                    |    Est. |     SE |     z |      p |  σ_rat |\n",
       "|:------------------ | -------:| ------:| -----:| ------:| ------:|\n",
       "| (Intercept)        |  0.0000 | 0.0000 |  3.21 | 0.0013 | 0.0000 |\n",
       "| agent_type: Object | -0.0000 | 0.0000 | -1.16 | 0.2468 |        |\n",
       "| agent_type: Robot  | -0.0000 | 0.0000 | -0.15 | 0.8810 |        |\n",
       "| Residual           |  0.0000 |        |       |        |        |\n"
      ],
      "text/plain": [
       "Linear mixed model fit by maximum likelihood\n",
       " gamma_high ~ 1 + agent_type + (1 | rat)\n",
       "   logLik   -2 logLik     AIC       AICc        BIC    \n",
       "  1508.1197 -3016.2393 -3006.2393 -3005.8284 -2991.1199\n",
       "\n",
       "Variance components:\n",
       "            Column    Variance   Std.Dev.  \n",
       "rat      (Intercept)  0.00000000 0.00002319\n",
       "Residual              0.00000000 0.00001130\n",
       " Number of obs: 152; levels of grouping factors: 3\n",
       "\n",
       "  Fixed-effects parameters:\n",
       "────────────────────────────────────────────────────────────\n",
       "                          Coef.  Std. Error      z  Pr(>|z|)\n",
       "────────────────────────────────────────────────────────────\n",
       "(Intercept)          4.43261e-5  1.37885e-5   3.21    0.0013\n",
       "agent_type: Object  -3.83404e-6  3.31017e-6  -1.16    0.2468\n",
       "agent_type: Robot   -5.56157e-7  3.71401e-6  -0.15    0.8810\n",
       "────────────────────────────────────────────────────────────"
      ]
     },
     "execution_count": 95,
     "metadata": {},
     "output_type": "execute_result"
    }
   ],
   "source": [
    "#high gamma\n",
    "fm = @formula(gamma_high ~ 1 + agent_type * 1 + (1 | rat))\n",
    "fm1 = fit(MixedModel, fm, hyposub, contrasts = Dict(:agent_type => DummyCoding(; base = \"Rat\")))"
   ]
  }
 ],
 "metadata": {
  "interpreter": {
   "hash": "aee8b7b246df8f9039afb4144a1f6fd8d2ca17a180786b69acc140d282b71a49"
  },
  "kernelspec": {
   "display_name": "Julia 1.7.2",
   "language": "julia",
   "name": "julia-1.7"
  },
  "language_info": {
   "file_extension": ".jl",
   "mimetype": "application/julia",
   "name": "julia",
   "version": "1.7.2"
  },
  "orig_nbformat": 4
 },
 "nbformat": 4,
 "nbformat_minor": 2
}
