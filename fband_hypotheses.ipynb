{
 "cells": [
  {
   "cell_type": "code",
   "execution_count": 1,
   "metadata": {},
   "outputs": [
    {
     "data": {
      "text/html": [
       "<div class=\"data-frame\"><p>3,551 rows × 9 columns (omitted printing of 2 columns)</p><table class=\"data-frame\"><thead><tr><th></th><th>rat</th><th>behavior_type</th><th>agent_type</th><th>region</th><th>respiratory</th><th>theta</th><th>beta</th></tr><tr><th></th><th title=\"String7\">String7</th><th title=\"AbstractString\">Abstrac…</th><th title=\"String7\">String7</th><th title=\"Union{Missing, String}\">String?</th><th title=\"Float64\">Float64</th><th title=\"Float64\">Float64</th><th title=\"Float64\">Float64</th></tr></thead><tbody><tr><th>1</th><td>RRSD17</td><td>Approach_Rat</td><td>Object</td><td>amyg</td><td>0.0398035</td><td>0.0514335</td><td>0.00505864</td></tr><tr><th>2</th><td>RRSD17</td><td>Approach_Rat</td><td>Object</td><td>mob</td><td>0.0633624</td><td>0.0972202</td><td>0.00484133</td></tr><tr><th>3</th><td>RRSD17</td><td>Approach_Rat</td><td>Object</td><td>amyg</td><td>0.0804163</td><td>0.139151</td><td>0.00470237</td></tr><tr><th>4</th><td>RRSD17</td><td>Approach_Rat</td><td>Object</td><td>mob</td><td>0.0802137</td><td>0.0853531</td><td>0.00534392</td></tr><tr><th>5</th><td>RRSD17</td><td>Approach_Rat</td><td>Object</td><td>ca2</td><td>0.10177</td><td>0.175585</td><td>0.00373058</td></tr><tr><th>6</th><td>RRSD17</td><td>Approach_Rat</td><td>Object</td><td>amyg</td><td>0.0271242</td><td>0.0389647</td><td>0.0051961</td></tr><tr><th>7</th><td>RRSD17</td><td>Approach_Rat</td><td>Object</td><td>mob</td><td>0.0628778</td><td>0.0829426</td><td>0.00558754</td></tr><tr><th>8</th><td>RRSD17</td><td>Approach_Rat</td><td>Object</td><td>ca2</td><td>0.0442515</td><td>0.0716124</td><td>0.00458202</td></tr><tr><th>9</th><td>RRSD17</td><td>Approach_Rat</td><td>Object</td><td>amyg</td><td>0.0166727</td><td>0.0269926</td><td>0.00382015</td></tr><tr><th>10</th><td>RRSD17</td><td>Approach_Rat</td><td>Object</td><td>mob</td><td>0.0593214</td><td>0.0687506</td><td>0.00624917</td></tr><tr><th>11</th><td>RRSD17</td><td>Approach_Rat</td><td>Object</td><td>ca2</td><td>0.0610509</td><td>0.107354</td><td>0.00244796</td></tr><tr><th>12</th><td>RRSD17</td><td>Approach_Rat</td><td>Object</td><td>amyg</td><td>0.0560891</td><td>0.0526107</td><td>0.00472667</td></tr><tr><th>13</th><td>RRSD17</td><td>Approach_Rat</td><td>Object</td><td>mob</td><td>0.0838096</td><td>0.136</td><td>0.00528576</td></tr><tr><th>14</th><td>RRSD17</td><td>Approach_Rat</td><td>Object</td><td>ca2</td><td>0.0718037</td><td>0.0890455</td><td>0.00700925</td></tr><tr><th>15</th><td>RRSD17</td><td>Approach_Rat</td><td>Object</td><td>amyg</td><td>0.0498252</td><td>0.0632972</td><td>0.0064571</td></tr><tr><th>16</th><td>RRSD17</td><td>Approach_Rat</td><td>Object</td><td>mob</td><td>0.0422695</td><td>0.067573</td><td>0.00675159</td></tr><tr><th>17</th><td>RRSD17</td><td>Approach_Rat</td><td>Object</td><td>ca2</td><td>0.102042</td><td>0.125124</td><td>0.00700407</td></tr><tr><th>18</th><td>RRSD17</td><td>Approach_Rat</td><td>Object</td><td>amyg</td><td>0.0224657</td><td>0.027455</td><td>0.00901809</td></tr><tr><th>19</th><td>RRSD17</td><td>Approach_Rat</td><td>Object</td><td>mob</td><td>0.0853139</td><td>0.139026</td><td>0.00348991</td></tr><tr><th>20</th><td>RRSD17</td><td>Approach_Rat</td><td>Object</td><td>ca2</td><td>0.0335433</td><td>0.0204866</td><td>0.00853025</td></tr><tr><th>21</th><td>RRSD17</td><td>Approach_Rat</td><td>Object</td><td>amyg</td><td>0.0383981</td><td>0.0442184</td><td>0.00732651</td></tr><tr><th>22</th><td>RRSD17</td><td>Approach_Rat</td><td>Object</td><td>mob</td><td>0.0574948</td><td>0.0903734</td><td>0.00788558</td></tr><tr><th>23</th><td>RRSD17</td><td>Retreat_Rat</td><td>Object</td><td>amyg</td><td>0.0465266</td><td>0.0540688</td><td>0.00432414</td></tr><tr><th>24</th><td>RRSD17</td><td>Retreat_Rat</td><td>Object</td><td>mob</td><td>0.0448257</td><td>0.0352149</td><td>0.00597189</td></tr><tr><th>&vellip;</th><td>&vellip;</td><td>&vellip;</td><td>&vellip;</td><td>&vellip;</td><td>&vellip;</td><td>&vellip;</td><td>&vellip;</td></tr></tbody></table></div>"
      ],
      "text/latex": [
       "\\begin{tabular}{r|cccccccc}\n",
       "\t& rat & behavior\\_type & agent\\_type & region & respiratory & theta & beta & \\\\\n",
       "\t\\hline\n",
       "\t& String7 & Abstrac… & String7 & String? & Float64 & Float64 & Float64 & \\\\\n",
       "\t\\hline\n",
       "\t1 & RRSD17 & Approach\\_Rat & Object & amyg & 0.0398035 & 0.0514335 & 0.00505864 & $\\dots$ \\\\\n",
       "\t2 & RRSD17 & Approach\\_Rat & Object & mob & 0.0633624 & 0.0972202 & 0.00484133 & $\\dots$ \\\\\n",
       "\t3 & RRSD17 & Approach\\_Rat & Object & amyg & 0.0804163 & 0.139151 & 0.00470237 & $\\dots$ \\\\\n",
       "\t4 & RRSD17 & Approach\\_Rat & Object & mob & 0.0802137 & 0.0853531 & 0.00534392 & $\\dots$ \\\\\n",
       "\t5 & RRSD17 & Approach\\_Rat & Object & ca2 & 0.10177 & 0.175585 & 0.00373058 & $\\dots$ \\\\\n",
       "\t6 & RRSD17 & Approach\\_Rat & Object & amyg & 0.0271242 & 0.0389647 & 0.0051961 & $\\dots$ \\\\\n",
       "\t7 & RRSD17 & Approach\\_Rat & Object & mob & 0.0628778 & 0.0829426 & 0.00558754 & $\\dots$ \\\\\n",
       "\t8 & RRSD17 & Approach\\_Rat & Object & ca2 & 0.0442515 & 0.0716124 & 0.00458202 & $\\dots$ \\\\\n",
       "\t9 & RRSD17 & Approach\\_Rat & Object & amyg & 0.0166727 & 0.0269926 & 0.00382015 & $\\dots$ \\\\\n",
       "\t10 & RRSD17 & Approach\\_Rat & Object & mob & 0.0593214 & 0.0687506 & 0.00624917 & $\\dots$ \\\\\n",
       "\t11 & RRSD17 & Approach\\_Rat & Object & ca2 & 0.0610509 & 0.107354 & 0.00244796 & $\\dots$ \\\\\n",
       "\t12 & RRSD17 & Approach\\_Rat & Object & amyg & 0.0560891 & 0.0526107 & 0.00472667 & $\\dots$ \\\\\n",
       "\t13 & RRSD17 & Approach\\_Rat & Object & mob & 0.0838096 & 0.136 & 0.00528576 & $\\dots$ \\\\\n",
       "\t14 & RRSD17 & Approach\\_Rat & Object & ca2 & 0.0718037 & 0.0890455 & 0.00700925 & $\\dots$ \\\\\n",
       "\t15 & RRSD17 & Approach\\_Rat & Object & amyg & 0.0498252 & 0.0632972 & 0.0064571 & $\\dots$ \\\\\n",
       "\t16 & RRSD17 & Approach\\_Rat & Object & mob & 0.0422695 & 0.067573 & 0.00675159 & $\\dots$ \\\\\n",
       "\t17 & RRSD17 & Approach\\_Rat & Object & ca2 & 0.102042 & 0.125124 & 0.00700407 & $\\dots$ \\\\\n",
       "\t18 & RRSD17 & Approach\\_Rat & Object & amyg & 0.0224657 & 0.027455 & 0.00901809 & $\\dots$ \\\\\n",
       "\t19 & RRSD17 & Approach\\_Rat & Object & mob & 0.0853139 & 0.139026 & 0.00348991 & $\\dots$ \\\\\n",
       "\t20 & RRSD17 & Approach\\_Rat & Object & ca2 & 0.0335433 & 0.0204866 & 0.00853025 & $\\dots$ \\\\\n",
       "\t21 & RRSD17 & Approach\\_Rat & Object & amyg & 0.0383981 & 0.0442184 & 0.00732651 & $\\dots$ \\\\\n",
       "\t22 & RRSD17 & Approach\\_Rat & Object & mob & 0.0574948 & 0.0903734 & 0.00788558 & $\\dots$ \\\\\n",
       "\t23 & RRSD17 & Retreat\\_Rat & Object & amyg & 0.0465266 & 0.0540688 & 0.00432414 & $\\dots$ \\\\\n",
       "\t24 & RRSD17 & Retreat\\_Rat & Object & mob & 0.0448257 & 0.0352149 & 0.00597189 & $\\dots$ \\\\\n",
       "\t$\\dots$ & $\\dots$ & $\\dots$ & $\\dots$ & $\\dots$ & $\\dots$ & $\\dots$ & $\\dots$ &  \\\\\n",
       "\\end{tabular}\n"
      ],
      "text/plain": [
       "\u001b[1m3551×9 DataFrame\u001b[0m\n",
       "\u001b[1m  Row \u001b[0m│\u001b[1m rat     \u001b[0m\u001b[1m behavior_type \u001b[0m\u001b[1m agent_type \u001b[0m\u001b[1m region  \u001b[0m\u001b[1m respiratory \u001b[0m\u001b[1m theta     \u001b[0m\u001b[1m b\u001b[0m ⋯\n",
       "\u001b[1m      \u001b[0m│\u001b[90m String7 \u001b[0m\u001b[90m AbstractStri… \u001b[0m\u001b[90m String7    \u001b[0m\u001b[90m String? \u001b[0m\u001b[90m Float64     \u001b[0m\u001b[90m Float64   \u001b[0m\u001b[90m F\u001b[0m ⋯\n",
       "──────┼─────────────────────────────────────────────────────────────────────────\n",
       "    1 │ RRSD17   Approach_Rat   Object      amyg       0.0398035  0.0514335  0 ⋯\n",
       "    2 │ RRSD17   Approach_Rat   Object      mob        0.0633624  0.0972202  0\n",
       "    3 │ RRSD17   Approach_Rat   Object      amyg       0.0804163  0.139151   0\n",
       "    4 │ RRSD17   Approach_Rat   Object      mob        0.0802137  0.0853531  0\n",
       "    5 │ RRSD17   Approach_Rat   Object      ca2        0.10177    0.175585   0 ⋯\n",
       "    6 │ RRSD17   Approach_Rat   Object      amyg       0.0271242  0.0389647  0\n",
       "    7 │ RRSD17   Approach_Rat   Object      mob        0.0628778  0.0829426  0\n",
       "    8 │ RRSD17   Approach_Rat   Object      ca2        0.0442515  0.0716124  0\n",
       "  ⋮   │    ⋮           ⋮            ⋮          ⋮          ⋮           ⋮        ⋱\n",
       " 3545 │ RRSD17   null           Robot       mob        0.04019    0.0139985  0 ⋯\n",
       " 3546 │ RRSD17   null           Robot       ca2        0.0481767  0.0716848  0\n",
       " 3547 │ RRSD17   null           Object      amyg       0.0387138  0.059717   0\n",
       " 3548 │ RRSD17   null           Object      mob        0.0484651  0.0778781  0\n",
       " 3549 │ RRSD17   null           Rat         amyg       0.0451667  0.0301984  0 ⋯\n",
       " 3550 │ RRSD17   null           Rat         mob        0.0775715  0.0390176  0\n",
       " 3551 │ RRSD17   null           Rat         ca2        0.071916   0.0872167  0\n",
       "\u001b[36m                                                 3 columns and 3536 rows omitted\u001b[0m"
      ]
     },
     "metadata": {},
     "output_type": "display_data"
    }
   ],
   "source": [
    "include(\"utils.jl\")\n",
    "include(\"EventDataSets.jl\")\n",
    "include(\"DataTypes.jl\")\n",
    "using DataFrames, Dates, CSV, FileIO, JLD2, DataFramesMeta, Chain,  MixedModels, Random, StatsBase, StatsModels,  DisplayAs\n",
    "\n",
    "event_spectra = load(\"/Users/leobreston/Documents/Julia/ROIexp/Results/event_spectra.jld2\", \"event_spectra\")\n",
    "\n",
    "fbands = (respiratory = [3, 12], theta=[5,10], beta = [15, 35], gamma_low = [50, 59], gamma_high = [70, 100])\n",
    "\n",
    "for b in keys(fbands)\n",
    "    @transform!(event_spectra, @byrow $(b) = getbands(:specbands,String(b)).data[1])       \n",
    "end\n",
    "\n",
    "eventspecbands=@select(event_spectra, :rat, :behavior_type, :agent_type, :region, $(keys(fbands)...))"
   ]
  },
  {
   "cell_type": "markdown",
   "metadata": {},
   "source": [
    "Hypothesis 1. It is hypothesized that the robot’s approach/retreat will result in an increase in amplitude of the MOB respiratory oscillation, due to an autonomic shift in alertness. We should still expect a theta rhythm in the rat, because they may or may not be exploring during that time."
   ]
  },
  {
   "cell_type": "code",
   "execution_count": 2,
   "metadata": {},
   "outputs": [
    {
     "name": "stderr",
     "output_type": "stream",
     "text": [
      "\r\u001b[32mMinimizing 2 \t Time: 0:00:00 ( 0.19  s/it)\u001b[39m\u001b[K\r\n",
      "\u001b[34m  objective:  -2351.5570055434177\u001b[39m\u001b[K"
     ]
    },
    {
     "name": "stderr",
     "output_type": "stream",
     "text": [
      "\r\u001b[K\u001b[A\r\u001b[32mMinimizing 26 \t Time: 0:00:00 (23.89 ms/it)\u001b[39m\u001b[K\n"
     ]
    },
    {
     "data": {
      "text/latex": [
       "\\begin{tabular}\n",
       "{l | r | r | r | r | r}\n",
       " & Est. & SE & z & p & $\\sigma_\\text{rat}$ \\\\\n",
       "\\hline\n",
       "(Intercept) & 0.0462 & 0.0056 & 8.20 & <1e-15 & 0.0090 \\\\\n",
       "behavior\\_type: Approach\\_Robot & -0.0002 & 0.0050 & -0.05 & 0.9619 &   \\\\\n",
       "behavior\\_type: Retreat\\_Robot & -0.0015 & 0.0028 & -0.53 & 0.5940 &   \\\\\n",
       "Residual & 0.0179 &  &  &  &  \\\\\n",
       "\\end{tabular}\n"
      ],
      "text/markdown": [
       "|                               |    Est. |     SE |     z |      p |  σ_rat |\n",
       "|:----------------------------- | -------:| ------:| -----:| ------:| ------:|\n",
       "| (Intercept)                   |  0.0462 | 0.0056 |  8.20 | <1e-15 | 0.0090 |\n",
       "| behavior_type: Approach_Robot | -0.0002 | 0.0050 | -0.05 | 0.9619 |        |\n",
       "| behavior_type: Retreat_Robot  | -0.0015 | 0.0028 | -0.53 | 0.5940 |        |\n",
       "| Residual                      |  0.0179 |        |       |        |        |\n"
      ],
      "text/plain": [
       "Linear mixed model fit by maximum likelihood\n",
       " respiratory ~ 1 + behavior_type + (1 | rat)\n",
       "   logLik   -2 logLik     AIC       AICc        BIC    \n",
       "  1176.6357 -2353.2714 -2343.2714 -2343.1372 -2322.6920\n",
       "\n",
       "Variance components:\n",
       "            Column    Variance   Std.Dev.  \n",
       "rat      (Intercept)  0.00008116 0.00900914\n",
       "Residual              0.00031909 0.01786314\n",
       " Number of obs: 453; levels of grouping factors: 3\n",
       "\n",
       "  Fixed-effects parameters:\n",
       "────────────────────────────────────────────────────────────────────────\n",
       "                                      Coef.  Std. Error      z  Pr(>|z|)\n",
       "────────────────────────────────────────────────────────────────────────\n",
       "(Intercept)                     0.0462245    0.00563799   8.20    <1e-15\n",
       "behavior_type: Approach_Robot  -0.000240988  0.00504134  -0.05    0.9619\n",
       "behavior_type: Retreat_Robot   -0.00147142   0.00276041  -0.53    0.5940\n",
       "────────────────────────────────────────────────────────────────────────"
      ]
     },
     "metadata": {},
     "output_type": "display_data"
    }
   ],
   "source": [
    "hyposub=@subset(eventspecbands, :behavior_type .∈ Ref([\"null\",\"Approach_Robot\",\"Retreat_Robot\"]), :region.==\"mob\")\n",
    "fm=@formula(respiratory ~ 1 + behavior_type*1 + (1|rat))\n",
    "fm1 = fit(MixedModel,fm, hyposub, contrasts = Dict(:behavior_type => DummyCoding(;base=\"null\")))"
   ]
  },
  {
   "cell_type": "markdown",
   "metadata": {},
   "source": [
    "Hypothesis 2. It is also hypothesized that hippocampal theta oscillation will increase in amplitude during rearing and the rat’s approaches and retreats in each condition, due to theta being an exploration related sensorimotor rhythm. This difference should also be present in amygdala (though may be due to volume conduction."
   ]
  },
  {
   "cell_type": "markdown",
   "metadata": {},
   "source": []
  },
  {
   "cell_type": "code",
   "execution_count": 3,
   "metadata": {},
   "outputs": [
    {
     "name": "stderr",
     "output_type": "stream",
     "text": [
      "\r\u001b[32mMinimizing 2 \t Time: 0:00:00 ( 0.42  s/it)\u001b[39m\u001b[K\r\n",
      "\u001b[34m  objective:  -6983.321070979172\u001b[39m\u001b[K"
     ]
    },
    {
     "name": "stderr",
     "output_type": "stream",
     "text": [
      "\r\u001b[K\u001b[A\r\u001b[32mMinimizing 29 \t Time: 0:00:00 (28.72 ms/it)\u001b[39m\u001b[K\n"
     ]
    },
    {
     "name": "stderr",
     "output_type": "stream",
     "text": [
      "\r\u001b[K\u001b[A\r\u001b[32mMinimizing 30 \t Time: 0:00:00 (27.77 ms/it)\u001b[39m\u001b[K\r\n",
      "\u001b[34m  objective:  -6989.936132411475\u001b[39m\u001b[K\n"
     ]
    },
    {
     "data": {
      "text/latex": [
       "\\begin{tabular}\n",
       "{l | r | r | r | r | r}\n",
       " & Est. & SE & z & p & $\\sigma_\\text{rat}$ \\\\\n",
       "\\hline\n",
       "region: amyg & 0.0155 & 0.0116 & 1.34 & 0.1796 & 0.0194 \\\\\n",
       "region: ca2 & 0.0763 & 0.0017 & 44.50 & <1e-99 & 0.0000 \\\\\n",
       "behavior\\_type: Approach\\_Rat \\& region: amyg & -0.0071 & 0.0040 & -1.77 & 0.0763 &   \\\\\n",
       "behavior\\_type: Retreat\\_Rat \\& region: amyg & 0.0041 & 0.0019 & 2.12 & 0.0337 &   \\\\\n",
       "behavior\\_type: Approach\\_Rat \\& region: ca2 & -0.0087 & 0.0043 & -2.04 & 0.0411 &   \\\\\n",
       "behavior\\_type: Retreat\\_Rat \\& region: ca2 & 0.0042 & 0.0023 & 1.84 & 0.0661 &   \\\\\n",
       "Residual & 0.0284 &  &  &  &  \\\\\n",
       "\\end{tabular}\n"
      ],
      "text/markdown": [
       "|                                            |    Est. |     SE |     z |      p |  σ_rat |\n",
       "|:------------------------------------------ | -------:| ------:| -----:| ------:| ------:|\n",
       "| region: amyg                               |  0.0155 | 0.0116 |  1.34 | 0.1796 | 0.0194 |\n",
       "| region: ca2                                |  0.0763 | 0.0017 | 44.50 | <1e-99 | 0.0000 |\n",
       "| behavior_type: Approach_Rat & region: amyg | -0.0071 | 0.0040 | -1.77 | 0.0763 |        |\n",
       "| behavior_type: Retreat_Rat & region: amyg  |  0.0041 | 0.0019 |  2.12 | 0.0337 |        |\n",
       "| behavior_type: Approach_Rat & region: ca2  | -0.0087 | 0.0043 | -2.04 | 0.0411 |        |\n",
       "| behavior_type: Retreat_Rat & region: ca2   |  0.0042 | 0.0023 |  1.84 | 0.0661 |        |\n",
       "| Residual                                   |  0.0284 |        |       |        |        |\n"
      ],
      "text/plain": [
       "Linear mixed model fit by maximum likelihood\n",
       " theta ~ 0 + region + behavior_type & region + MixedModels.ZeroCorr((0 + region | rat))\n",
       "   logLik   -2 logLik     AIC       AICc        BIC    \n",
       "  3494.9681 -6989.9361 -6971.9361 -6971.8254 -6923.3415\n",
       "\n",
       "Variance components:\n",
       "            Column     Variance  Std.Dev.   Corr.\n",
       "rat      region: amyg  0.0003762 0.0193959\n",
       "         region: ca2   0.0000000 0.0000000   .  \n",
       "Residual               0.0008089 0.0284411\n",
       " Number of obs: 1635; levels of grouping factors: 3\n",
       "\n",
       "  Fixed-effects parameters:\n",
       "────────────────────────────────────────────────────────────────────────────────────\n",
       "                                                  Coef.  Std. Error      z  Pr(>|z|)\n",
       "────────────────────────────────────────────────────────────────────────────────────\n",
       "region: amyg                                 0.0155143   0.0115602    1.34    0.1796\n",
       "region: ca2                                  0.0763175   0.00171506  44.50    <1e-99\n",
       "behavior_type: Approach_Rat & region: amyg  -0.0071415   0.00402913  -1.77    0.0763\n",
       "behavior_type: Retreat_Rat & region: amyg    0.00408543  0.00192417   2.12    0.0337\n",
       "behavior_type: Approach_Rat & region: ca2   -0.0087136   0.00426657  -2.04    0.0411\n",
       "behavior_type: Retreat_Rat & region: ca2     0.00422826  0.00230063   1.84    0.0661\n",
       "────────────────────────────────────────────────────────────────────────────────────"
      ]
     },
     "metadata": {},
     "output_type": "display_data"
    }
   ],
   "source": [
    "hyposub=@subset(eventspecbands, :behavior_type .∈ Ref([\"null\",\"Approach_Rat\",\"Retreat_Rat\"]), :region.∈Ref([\"ca2\",\"amyg\"]))\n",
    "fm=@formula(theta ~0+region+ behavior_type&region + zerocorr(0+region|rat))\n",
    "fm1 = fit(MixedModel,fm, hyposub, contrasts = Dict(:behavior_type => DummyCoding(;base=\"null\")))"
   ]
  },
  {
   "cell_type": "markdown",
   "metadata": {},
   "source": [
    "Hypothesis 3. We expect that beta rhythms will be present when the animal is moving (rearing, approach/retreat), and not present during immobility."
   ]
  },
  {
   "cell_type": "code",
   "execution_count": 4,
   "metadata": {},
   "outputs": [
    {
     "data": {
      "text/latex": [
       "\\begin{tabular}\n",
       "{l | r | r | r | r | r}\n",
       " & Est. & SE & z & p & $\\sigma_\\text{rat}$ \\\\\n",
       "\\hline\n",
       "region: amyg & 0.0015 & 0.0012 & 1.26 & 0.2078 & 0.0021 \\\\\n",
       "region: ca2 & 0.0038 & 0.0003 & 13.51 & <1e-40 & 0.0004 \\\\\n",
       "region: mob & 0.0046 & 0.0001 & 46.09 & <1e-99 & 0.0000 \\\\\n",
       "behavior\\_type: Approach\\_Rat \\& region: amyg & 0.0008 & 0.0003 & 2.83 & 0.0046 &   \\\\\n",
       "behavior\\_type: Immobility \\& region: amyg & 0.0004 & 0.0002 & 1.80 & 0.0726 &   \\\\\n",
       "behavior\\_type: Rearing \\& region: amyg & 0.0006 & 0.0002 & 2.75 & 0.0059 &   \\\\\n",
       "behavior\\_type: Retreat\\_Rat \\& region: amyg & 0.0001 & 0.0001 & 0.69 & 0.4882 &   \\\\\n",
       "behavior\\_type: Approach\\_Rat \\& region: ca2 & 0.0005 & 0.0003 & 1.63 & 0.1021 &   \\\\\n",
       "behavior\\_type: Immobility \\& region: ca2 & 0.0005 & 0.0002 & 2.35 & 0.0190 &   \\\\\n",
       "behavior\\_type: Rearing \\& region: ca2 & 0.0005 & 0.0003 & 2.09 & 0.0369 &   \\\\\n",
       "behavior\\_type: Retreat\\_Rat \\& region: ca2 & -0.0002 & 0.0002 & -1.55 & 0.1202 &   \\\\\n",
       "behavior\\_type: Approach\\_Rat \\& region: mob & 0.0007 & 0.0003 & 2.52 & 0.0118 &   \\\\\n",
       "behavior\\_type: Immobility \\& region: mob & -0.0014 & 0.0002 & -6.69 & <1e-10 &   \\\\\n",
       "behavior\\_type: Rearing \\& region: mob & 0.0002 & 0.0002 & 0.84 & 0.4025 &   \\\\\n",
       "behavior\\_type: Retreat\\_Rat \\& region: mob & 0.0004 & 0.0001 & 2.66 & 0.0078 &   \\\\\n",
       "Residual & 0.0020 &  &  &  &  \\\\\n",
       "\\end{tabular}\n"
      ],
      "text/markdown": [
       "|                                            |    Est. |     SE |     z |      p |  σ_rat |\n",
       "|:------------------------------------------ | -------:| ------:| -----:| ------:| ------:|\n",
       "| region: amyg                               |  0.0015 | 0.0012 |  1.26 | 0.2078 | 0.0021 |\n",
       "| region: ca2                                |  0.0038 | 0.0003 | 13.51 | <1e-40 | 0.0004 |\n",
       "| region: mob                                |  0.0046 | 0.0001 | 46.09 | <1e-99 | 0.0000 |\n",
       "| behavior_type: Approach_Rat & region: amyg |  0.0008 | 0.0003 |  2.83 | 0.0046 |        |\n",
       "| behavior_type: Immobility & region: amyg   |  0.0004 | 0.0002 |  1.80 | 0.0726 |        |\n",
       "| behavior_type: Rearing & region: amyg      |  0.0006 | 0.0002 |  2.75 | 0.0059 |        |\n",
       "| behavior_type: Retreat_Rat & region: amyg  |  0.0001 | 0.0001 |  0.69 | 0.4882 |        |\n",
       "| behavior_type: Approach_Rat & region: ca2  |  0.0005 | 0.0003 |  1.63 | 0.1021 |        |\n",
       "| behavior_type: Immobility & region: ca2    |  0.0005 | 0.0002 |  2.35 | 0.0190 |        |\n",
       "| behavior_type: Rearing & region: ca2       |  0.0005 | 0.0003 |  2.09 | 0.0369 |        |\n",
       "| behavior_type: Retreat_Rat & region: ca2   | -0.0002 | 0.0002 | -1.55 | 0.1202 |        |\n",
       "| behavior_type: Approach_Rat & region: mob  |  0.0007 | 0.0003 |  2.52 | 0.0118 |        |\n",
       "| behavior_type: Immobility & region: mob    | -0.0014 | 0.0002 | -6.69 | <1e-10 |        |\n",
       "| behavior_type: Rearing & region: mob       |  0.0002 | 0.0002 |  0.84 | 0.4025 |        |\n",
       "| behavior_type: Retreat_Rat & region: mob   |  0.0004 | 0.0001 |  2.66 | 0.0078 |        |\n",
       "| Residual                                   |  0.0020 |        |       |        |        |\n"
      ],
      "text/plain": [
       "Linear mixed model fit by maximum likelihood\n",
       " beta ~ 0 + region + behavior_type & region + MixedModels.ZeroCorr((0 + region | rat))\n",
       "    logLik   -2 logLik      AIC         AICc        BIC     \n",
       "  15426.3922 -30852.7843 -30814.7843 -30814.5460 -30699.3837\n",
       "\n",
       "Variance components:\n",
       "            Column     Variance   Std.Dev.    Corr.\n",
       "rat      region: amyg  0.00000443 0.00210534\n",
       "         region: ca2   0.00000015 0.00038363   .  \n",
       "         region: mob   0.00000000 0.00000000   .     .  \n",
       "Residual               0.00000388 0.00197079\n",
       " Number of obs: 3209; levels of grouping factors: 3\n",
       "\n",
       "  Fixed-effects parameters:\n",
       "──────────────────────────────────────────────────────────────────────────────────────\n",
       "                                                   Coef.   Std. Error      z  Pr(>|z|)\n",
       "──────────────────────────────────────────────────────────────────────────────────────\n",
       "region: amyg                                 0.00154512   0.00122665    1.26    0.2078\n",
       "region: ca2                                  0.00381449   0.000282275  13.51    <1e-40\n",
       "region: mob                                  0.00458209   9.94133e-5   46.09    <1e-99\n",
       "behavior_type: Approach_Rat & region: amyg   0.000788009  0.000278376   2.83    0.0046\n",
       "behavior_type: Immobility & region: amyg     0.000380181  0.000211755   1.80    0.0726\n",
       "behavior_type: Rearing & region: amyg        0.000595383  0.00021624    2.75    0.0059\n",
       "behavior_type: Retreat_Rat & region: amyg    9.2055e-5    0.000132803   0.69    0.4882\n",
       "behavior_type: Approach_Rat & region: ca2    0.000484397  0.000296353   1.63    0.1021\n",
       "behavior_type: Immobility & region: ca2      0.000529625  0.000225727   2.35    0.0190\n",
       "behavior_type: Rearing & region: ca2         0.000536744  0.000257232   2.09    0.0369\n",
       "behavior_type: Retreat_Rat & region: ca2    -0.000248987  0.000160211  -1.55    0.1202\n",
       "behavior_type: Approach_Rat & region: mob    0.000703699  0.000279327   2.52    0.0118\n",
       "behavior_type: Immobility & region: mob     -0.00142771   0.000213345  -6.69    <1e-10\n",
       "behavior_type: Rearing & region: mob         0.00018123   0.000216503   0.84    0.4025\n",
       "behavior_type: Retreat_Rat & region: mob     0.000352679  0.000132568   2.66    0.0078\n",
       "──────────────────────────────────────────────────────────────────────────────────────"
      ]
     },
     "metadata": {},
     "output_type": "display_data"
    }
   ],
   "source": [
    "hyposub=@subset(eventspecbands, :behavior_type .∈ Ref([\"null\",\"Immobility\",\"Rearing\",\"Approach_Rat\",\"Retreat_Rat\"]))\n",
    "fm=@formula(beta ~0+region+ behavior_type&region + zerocorr(0+region|rat))\n",
    "fm1 = fit(MixedModel,fm, hyposub, contrasts = Dict(:behavior_type => DummyCoding(;base=\"null\")))\n"
   ]
  },
  {
   "cell_type": "markdown",
   "metadata": {},
   "source": [
    "Hypothesis 4. It is hypothesized that theta will show increased amplitude during behaviors associated with exploration like rearing, and approach/avoidance behaviors, when compared with regulatory behaviors like grooming and immobility. This means that rearing will be significant different from immobility/grooming in both respiratory and theta rhythms in MOB, CA2, and Amyg. "
   ]
  },
  {
   "cell_type": "code",
   "execution_count": 5,
   "metadata": {},
   "outputs": [
    {
     "data": {
      "text/latex": [
       "\\begin{tabular}\n",
       "{l | r | r | r | r | r}\n",
       " & Est. & SE & z & p & $\\sigma_\\text{rat}$ \\\\\n",
       "\\hline\n",
       "region: amyg & 0.0053 & 0.0114 & 0.47 & 0.6391 & 0.0189 \\\\\n",
       "region: ca2 & 0.0615 & 0.0046 & 13.22 & <1e-39 & 0.0056 \\\\\n",
       "region: mob & 0.0398 & 0.0065 & 6.13 & <1e-09 & 0.0097 \\\\\n",
       "combined\\_behavior: Rearing \\& Approach/Retreat \\& region: amyg & 0.0135 & 0.0026 & 5.26 & <1e-06 &   \\\\\n",
       "combined\\_behavior: Rearing \\& Approach/Retreat \\& region: ca2 & 0.0239 & 0.0029 & 8.23 & <1e-15 &   \\\\\n",
       "combined\\_behavior: Rearing \\& Approach/Retreat \\& region: mob & 0.0216 & 0.0026 & 8.23 & <1e-15 &   \\\\\n",
       "Residual & 0.0306 &  &  &  &  \\\\\n",
       "\\end{tabular}\n"
      ],
      "text/markdown": [
       "|                                                              |   Est. |     SE |     z |      p |  σ_rat |\n",
       "|:------------------------------------------------------------ | ------:| ------:| -----:| ------:| ------:|\n",
       "| region: amyg                                                 | 0.0053 | 0.0114 |  0.47 | 0.6391 | 0.0189 |\n",
       "| region: ca2                                                  | 0.0615 | 0.0046 | 13.22 | <1e-39 | 0.0056 |\n",
       "| region: mob                                                  | 0.0398 | 0.0065 |  6.13 | <1e-09 | 0.0097 |\n",
       "| combined_behavior: Rearing & Approach/Retreat & region: amyg | 0.0135 | 0.0026 |  5.26 | <1e-06 |        |\n",
       "| combined_behavior: Rearing & Approach/Retreat & region: ca2  | 0.0239 | 0.0029 |  8.23 | <1e-15 |        |\n",
       "| combined_behavior: Rearing & Approach/Retreat & region: mob  | 0.0216 | 0.0026 |  8.23 | <1e-15 |        |\n",
       "| Residual                                                     | 0.0306 |        |       |        |        |\n"
      ],
      "text/plain": [
       "Linear mixed model fit by maximum likelihood\n",
       " theta ~ 0 + region + combined_behavior & region + MixedModels.ZeroCorr((0 + region | rat))\n",
       "   logLik   -2 logLik     AIC       AICc        BIC    \n",
       "  4788.6014 -9577.2028 -9557.2028 -9557.1076 -9499.7010\n",
       "\n",
       "Variance components:\n",
       "            Column     Variance   Std.Dev.    Corr.\n",
       "rat      region: amyg  0.00035807 0.01892266\n",
       "         region: ca2   0.00003147 0.00561011   .  \n",
       "         region: mob   0.00009335 0.00966163   .     .  \n",
       "Residual               0.00093787 0.03062472\n",
       " Number of obs: 2322; levels of grouping factors: 3\n",
       "\n",
       "  Fixed-effects parameters:\n",
       "─────────────────────────────────────────────────────────────────────────────────────────────────────\n",
       "                                                                   Coef.  Std. Error      z  Pr(>|z|)\n",
       "─────────────────────────────────────────────────────────────────────────────────────────────────────\n",
       "region: amyg                                                  0.00533475  0.0113772    0.47    0.6391\n",
       "region: ca2                                                   0.0614694   0.00464905  13.22    <1e-39\n",
       "region: mob                                                   0.0398185   0.00649479   6.13    <1e-09\n",
       "combined_behavior: Rearing & Approach/Retreat & region: amyg  0.0135271   0.00257339   5.26    <1e-06\n",
       "combined_behavior: Rearing & Approach/Retreat & region: ca2   0.0238733   0.00290124   8.23    <1e-15\n",
       "combined_behavior: Rearing & Approach/Retreat & region: mob   0.0216069   0.00262505   8.23    <1e-15\n",
       "─────────────────────────────────────────────────────────────────────────────────────────────────────"
      ]
     },
     "metadata": {},
     "output_type": "display_data"
    }
   ],
   "source": [
    "hyposub=@subset(eventspecbands, :behavior_type .∈ Ref([\"Immobility\",\"Grooming\",\"Rearing\",\"Approach_Rat\",\"Retreat_Rat\"]))\n",
    "function fun(btype)\n",
    "    if btype .== \"Immobility\"\n",
    "        return \"Immobility & Grooming\"\n",
    "    elseif btype .== \"Grooming\"\n",
    "        return \"Immobility & Grooming\"\n",
    "    else\n",
    "        return \"Rearing & Approach/Retreat\"\n",
    "    end\n",
    "end\n",
    "@transform!(hyposub, @byrow :combined_behavior = fun(:behavior_type))\n",
    "fm=@formula(theta ~0+region+ combined_behavior&region + zerocorr(0+region|rat))\n",
    "fm1 = fit(MixedModel,fm, hyposub, contrasts = Dict(:combined_behavior => DummyCoding(;base=\"Immobility & Grooming\")))"
   ]
  },
  {
   "cell_type": "code",
   "execution_count": 6,
   "metadata": {},
   "outputs": [
    {
     "data": {
      "text/latex": [
       "\\begin{tabular}\n",
       "{l | r | r | r | r | r}\n",
       " & Est. & SE & z & p & $\\sigma_\\text{rat}$ \\\\\n",
       "\\hline\n",
       "region: amyg & 0.0131 & 0.0106 & 1.24 & 0.2153 & 0.0180 \\\\\n",
       "region: ca2 & 0.0554 & 0.0015 & 36.57 & <1e-99 & 0.0000 \\\\\n",
       "region: mob & 0.0459 & 0.0051 & 9.02 & <1e-18 & 0.0081 \\\\\n",
       "combined\\_behavior: Rearing \\& Approach/Retreat \\& region: amyg & 0.0008 & 0.0015 & 0.53 & 0.5943 &   \\\\\n",
       "combined\\_behavior: Rearing \\& Approach/Retreat \\& region: ca2 & 0.0031 & 0.0017 & 1.81 & 0.0703 &   \\\\\n",
       "combined\\_behavior: Rearing \\& Approach/Retreat \\& region: mob & 0.0031 & 0.0016 & 1.98 & 0.0473 &   \\\\\n",
       "Residual & 0.0184 &  &  &  &  \\\\\n",
       "\\end{tabular}\n"
      ],
      "text/markdown": [
       "|                                                              |   Est. |     SE |     z |      p |  σ_rat |\n",
       "|:------------------------------------------------------------ | ------:| ------:| -----:| ------:| ------:|\n",
       "| region: amyg                                                 | 0.0131 | 0.0106 |  1.24 | 0.2153 | 0.0180 |\n",
       "| region: ca2                                                  | 0.0554 | 0.0015 | 36.57 | <1e-99 | 0.0000 |\n",
       "| region: mob                                                  | 0.0459 | 0.0051 |  9.02 | <1e-18 | 0.0081 |\n",
       "| combined_behavior: Rearing & Approach/Retreat & region: amyg | 0.0008 | 0.0015 |  0.53 | 0.5943 |        |\n",
       "| combined_behavior: Rearing & Approach/Retreat & region: ca2  | 0.0031 | 0.0017 |  1.81 | 0.0703 |        |\n",
       "| combined_behavior: Rearing & Approach/Retreat & region: mob  | 0.0031 | 0.0016 |  1.98 | 0.0473 |        |\n",
       "| Residual                                                     | 0.0184 |        |       |        |        |\n"
      ],
      "text/plain": [
       "Linear mixed model fit by maximum likelihood\n",
       " respiratory ~ 0 + region + combined_behavior & region + MixedModels.ZeroCorr((0 + region | rat))\n",
       "    logLik   -2 logLik      AIC         AICc        BIC     \n",
       "   5976.9238 -11953.8477 -11933.8477 -11933.7525 -11876.3458\n",
       "\n",
       "Variance components:\n",
       "            Column     Variance   Std.Dev.    Corr.\n",
       "rat      region: amyg  0.00032370 0.01799155\n",
       "         region: ca2   0.00000000 0.00000000   .  \n",
       "         region: mob   0.00006537 0.00808504   .     .  \n",
       "Residual               0.00033697 0.01835681\n",
       " Number of obs: 2322; levels of grouping factors: 3\n",
       "\n",
       "  Fixed-effects parameters:\n",
       "──────────────────────────────────────────────────────────────────────────────────────────────────────\n",
       "                                                                    Coef.  Std. Error      z  Pr(>|z|)\n",
       "──────────────────────────────────────────────────────────────────────────────────────────────────────\n",
       "region: amyg                                                  0.013089     0.0105621    1.24    0.2153\n",
       "region: ca2                                                   0.0553648    0.00151404  36.57    <1e-99\n",
       "region: mob                                                   0.0459216    0.00508872   9.02    <1e-18\n",
       "combined_behavior: Rearing & Approach/Retreat & region: amyg  0.000821856  0.001543     0.53    0.5943\n",
       "combined_behavior: Rearing & Approach/Retreat & region: ca2   0.00313655   0.00173299   1.81    0.0703\n",
       "combined_behavior: Rearing & Approach/Retreat & region: mob   0.00312349   0.00157434   1.98    0.0473\n",
       "──────────────────────────────────────────────────────────────────────────────────────────────────────"
      ]
     },
     "metadata": {},
     "output_type": "display_data"
    }
   ],
   "source": [
    "fm=@formula(respiratory ~0+region+ combined_behavior&region + zerocorr(0+region|rat))\n",
    "fm1 = fit(MixedModel,fm, hyposub, contrasts = Dict(:combined_behavior => DummyCoding(;base=\"Immobility & Grooming\")))\n"
   ]
  },
  {
   "cell_type": "markdown",
   "metadata": {},
   "source": [
    "Hypothesis 5. It is hypothesized that robot will exhibit a higher low-gamma rhythm in MOB for the robot condition when compared with the object and rat conditions for immobility and grooming behaviors. \n"
   ]
  },
  {
   "cell_type": "code",
   "execution_count": 7,
   "metadata": {},
   "outputs": [
    {
     "data": {
      "text/latex": [
       "\\begin{tabular}\n",
       "{l | r | r | r | r | r}\n",
       " & Est. & SE & z & p & $\\sigma_\\text{rat}$ \\\\\n",
       "\\hline\n",
       "behavior\\_type: Grooming & 0.0033 & 0.0003 & 11.38 & <1e-29 &   \\\\\n",
       "behavior\\_type: Immobility & 0.0021 & 0.0002 & 10.02 & <1e-22 &   \\\\\n",
       "agent\\_type: Object \\& behavior\\_type: Grooming & -0.0016 & 0.0005 & -3.20 & 0.0014 &   \\\\\n",
       "agent\\_type: Rat \\& behavior\\_type: Grooming & -0.0014 & 0.0004 & -3.74 & 0.0002 &   \\\\\n",
       "agent\\_type: Object \\& behavior\\_type: Immobility & -0.0005 & 0.0003 & -1.76 & 0.0790 &   \\\\\n",
       "agent\\_type: Rat \\& behavior\\_type: Immobility & -0.0013 & 0.0004 & -3.40 & 0.0007 &   \\\\\n",
       "(Intercept) &  &  &  &  & 0.0000 \\\\\n",
       "Residual & 0.0013 &  &  &  &  \\\\\n",
       "\\end{tabular}\n"
      ],
      "text/markdown": [
       "|                                                |    Est. |     SE |     z |      p |  σ_rat |\n",
       "|:---------------------------------------------- | -------:| ------:| -----:| ------:| ------:|\n",
       "| behavior_type: Grooming                        |  0.0033 | 0.0003 | 11.38 | <1e-29 |        |\n",
       "| behavior_type: Immobility                      |  0.0021 | 0.0002 | 10.02 | <1e-22 |        |\n",
       "| agent_type: Object & behavior_type: Grooming   | -0.0016 | 0.0005 | -3.20 | 0.0014 |        |\n",
       "| agent_type: Rat & behavior_type: Grooming      | -0.0014 | 0.0004 | -3.74 | 0.0002 |        |\n",
       "| agent_type: Object & behavior_type: Immobility | -0.0005 | 0.0003 | -1.76 | 0.0790 |        |\n",
       "| agent_type: Rat & behavior_type: Immobility    | -0.0013 | 0.0004 | -3.40 | 0.0007 |        |\n",
       "| (Intercept)                                    |         |        |       |        | 0.0000 |\n",
       "| Residual                                       |  0.0013 |        |       |        |        |\n"
      ],
      "text/plain": [
       "Linear mixed model fit by maximum likelihood\n",
       " gamma_low ~ 0 + behavior_type + agent_type & behavior_type + (1 | rat)\n",
       "   logLik   -2 logLik     AIC       AICc        BIC    \n",
       "   906.7958 -1813.5917 -1797.5917 -1796.7136 -1772.3653\n",
       "\n",
       "Variance components:\n",
       "            Column    Variance   Std.Dev.  \n",
       "rat      (Intercept)  0.00000000 0.00000000\n",
       "Residual              0.00000164 0.00128046\n",
       " Number of obs: 173; levels of grouping factors: 3\n",
       "\n",
       "  Fixed-effects parameters:\n",
       "─────────────────────────────────────────────────────────────────────────────────────────\n",
       "                                                      Coef.   Std. Error      z  Pr(>|z|)\n",
       "─────────────────────────────────────────────────────────────────────────────────────────\n",
       "behavior_type: Grooming                          0.00334196  0.000293759  11.38    <1e-29\n",
       "behavior_type: Immobility                        0.00210838  0.000210507  10.02    <1e-22\n",
       "agent_type: Object & behavior_type: Grooming    -0.00160208  0.000500253  -3.20    0.0014\n",
       "agent_type: Rat & behavior_type: Grooming       -0.00136569  0.000364883  -3.74    0.0002\n",
       "agent_type: Object & behavior_type: Immobility  -0.00047486  0.000270329  -1.76    0.0790\n",
       "agent_type: Rat & behavior_type: Immobility     -0.00133435  0.000391943  -3.40    0.0007\n",
       "─────────────────────────────────────────────────────────────────────────────────────────"
      ]
     },
     "metadata": {},
     "output_type": "display_data"
    }
   ],
   "source": [
    "hyposub=@subset(eventspecbands, :behavior_type .∈ Ref([\"Immobility\",\"Grooming\"]), :region.==\"mob\")\n",
    "fm=@formula(gamma_low ~0+behavior_type+ agent_type&behavior_type + (1|rat))\n",
    "fm1 = fit(MixedModel,fm, hyposub,contrasts = Dict(:agent_type => DummyCoding(;base=\"Robot\"))) \n"
   ]
  },
  {
   "cell_type": "markdown",
   "metadata": {},
   "source": [
    "Hypothesis 6. It is hypothesized that there will be a larger amplitude low gamma component in MOB when the robot is approaching/retreating.\n"
   ]
  },
  {
   "cell_type": "code",
   "execution_count": 8,
   "metadata": {},
   "outputs": [
    {
     "data": {
      "text/latex": [
       "\\begin{tabular}\n",
       "{l | r | r | r | r | r}\n",
       " & Est. & SE & z & p & $\\sigma_\\text{rat}$ \\\\\n",
       "\\hline\n",
       "(Intercept) & 0.0022 & 0.0004 & 5.83 & <1e-08 & 0.0006 \\\\\n",
       "behavior\\_type: Approach\\_Robot & 0.0008 & 0.0004 & 1.97 & 0.0483 &   \\\\\n",
       "behavior\\_type: Grooming & 0.0009 & 0.0002 & 3.97 & <1e-04 &   \\\\\n",
       "behavior\\_type: Hut & -0.0006 & 0.0013 & -0.49 & 0.6210 &   \\\\\n",
       "behavior\\_type: Immobility & 0.0001 & 0.0002 & 0.51 & 0.6082 &   \\\\\n",
       "behavior\\_type: Rearing & -0.0001 & 0.0002 & -0.61 & 0.5434 &   \\\\\n",
       "behavior\\_type: Retreat\\_Rat & -0.0002 & 0.0002 & -0.97 & 0.3330 &   \\\\\n",
       "behavior\\_type: Retreat\\_Robot & 0.0012 & 0.0003 & 4.53 & <1e-05 &   \\\\\n",
       "behavior\\_type: null & 0.0001 & 0.0002 & 0.35 & 0.7252 &   \\\\\n",
       "Residual & 0.0013 &  &  &  &  \\\\\n",
       "\\end{tabular}\n"
      ],
      "text/markdown": [
       "|                               |    Est. |     SE |     z |      p |  σ_rat |\n",
       "|:----------------------------- | -------:| ------:| -----:| ------:| ------:|\n",
       "| (Intercept)                   |  0.0022 | 0.0004 |  5.83 | <1e-08 | 0.0006 |\n",
       "| behavior_type: Approach_Robot |  0.0008 | 0.0004 |  1.97 | 0.0483 |        |\n",
       "| behavior_type: Grooming       |  0.0009 | 0.0002 |  3.97 | <1e-04 |        |\n",
       "| behavior_type: Hut            | -0.0006 | 0.0013 | -0.49 | 0.6210 |        |\n",
       "| behavior_type: Immobility     |  0.0001 | 0.0002 |  0.51 | 0.6082 |        |\n",
       "| behavior_type: Rearing        | -0.0001 | 0.0002 | -0.61 | 0.5434 |        |\n",
       "| behavior_type: Retreat_Rat    | -0.0002 | 0.0002 | -0.97 | 0.3330 |        |\n",
       "| behavior_type: Retreat_Robot  |  0.0012 | 0.0003 |  4.53 | <1e-05 |        |\n",
       "| behavior_type: null           |  0.0001 | 0.0002 |  0.35 | 0.7252 |        |\n",
       "| Residual                      |  0.0013 |        |       |        |        |\n"
      ],
      "text/plain": [
       "Linear mixed model fit by maximum likelihood\n",
       " gamma_low ~ 1 + behavior_type + (1 | rat)\n",
       "    logLik   -2 logLik      AIC         AICc        BIC     \n",
       "   6771.5253 -13543.0505 -13521.0505 -13520.8446 -13464.2301\n",
       "\n",
       "Variance components:\n",
       "            Column    Variance   Std.Dev.  \n",
       "rat      (Intercept)  0.00000030 0.00055055\n",
       "Residual              0.00000166 0.00128666\n",
       " Number of obs: 1294; levels of grouping factors: 3\n",
       "\n",
       "  Fixed-effects parameters:\n",
       "─────────────────────────────────────────────────────────────────────────\n",
       "                                      Coef.   Std. Error      z  Pr(>|z|)\n",
       "─────────────────────────────────────────────────────────────────────────\n",
       "(Intercept)                     0.00215235   0.000369375   5.83    <1e-08\n",
       "behavior_type: Approach_Robot   0.000781998  0.000395992   1.97    0.0483\n",
       "behavior_type: Grooming         0.000934769  0.000235226   3.97    <1e-04\n",
       "behavior_type: Hut             -0.000641777  0.00129806   -0.49    0.6210\n",
       "behavior_type: Immobility       0.000108172  0.000210981   0.51    0.6082\n",
       "behavior_type: Rearing         -0.000128876  0.000212064  -0.61    0.5434\n",
       "behavior_type: Retreat_Rat     -0.000174977  0.000180756  -0.97    0.3330\n",
       "behavior_type: Retreat_Robot    0.00115094   0.000254203   4.53    <1e-05\n",
       "behavior_type: null             6.42792e-5   0.000182856   0.35    0.7252\n",
       "─────────────────────────────────────────────────────────────────────────"
      ]
     },
     "metadata": {},
     "output_type": "display_data"
    }
   ],
   "source": [
    "hyposub=@subset(eventspecbands, :region.==\"mob\")\n",
    "fm=@formula(gamma_low ~1+behavior_type + (1|rat))\n",
    "fm1 = fit(MixedModel,fm, hyposub,contrasts = Dict(:agent_type => DummyCoding(;base=\"Robot\")))"
   ]
  },
  {
   "cell_type": "markdown",
   "metadata": {},
   "source": [
    "Hypothesis 7. High gamma amplitude should be highest for the rat condition in the MOB. The robot and object should have similar high gamma. But instead, it appears that the robot and rat high gamma is larger than the object, and there is no discernable difference between rat and robot high gamma in MOB. "
   ]
  },
  {
   "cell_type": "code",
   "execution_count": 9,
   "metadata": {},
   "outputs": [
    {
     "data": {
      "text/latex": [
       "\\begin{tabular}\n",
       "{l | r | r | r | r | r}\n",
       " & Est. & SE & z & p & $\\sigma_\\text{rat}$ \\\\\n",
       "\\hline\n",
       "(Intercept) & 0.0020 & 0.0002 & 12.34 & <1e-34 & 0.0002 \\\\\n",
       "agent\\_type: Object & -0.0005 & 0.0001 & -5.51 & <1e-07 &   \\\\\n",
       "agent\\_type: Robot & 0.0001 & 0.0001 & 1.64 & 0.1005 &   \\\\\n",
       "Residual & 0.0010 &  &  &  &  \\\\\n",
       "\\end{tabular}\n"
      ],
      "text/markdown": [
       "|                    |    Est. |     SE |     z |      p |  σ_rat |\n",
       "|:------------------ | -------:| ------:| -----:| ------:| ------:|\n",
       "| (Intercept)        |  0.0020 | 0.0002 | 12.34 | <1e-34 | 0.0002 |\n",
       "| agent_type: Object | -0.0005 | 0.0001 | -5.51 | <1e-07 |        |\n",
       "| agent_type: Robot  |  0.0001 | 0.0001 |  1.64 | 0.1005 |        |\n",
       "| Residual           |  0.0010 |        |       |        |        |\n"
      ],
      "text/plain": [
       "Linear mixed model fit by maximum likelihood\n",
       " gamma_high ~ 1 + agent_type + (1 | rat)\n",
       "   logLik   -2 logLik     AIC       AICc        BIC    \n",
       "  4944.4345 -9888.8690 -9878.8690 -9878.8019 -9854.8514\n",
       "\n",
       "Variance components:\n",
       "            Column     Variance    Std.Dev.  \n",
       "rat      (Intercept)  0.000000053 0.000231061\n",
       "Residual              0.000000996 0.000997978\n",
       " Number of obs: 901; levels of grouping factors: 3\n",
       "\n",
       "  Fixed-effects parameters:\n",
       "──────────────────────────────────────────────────────────────\n",
       "                           Coef.   Std. Error      z  Pr(>|z|)\n",
       "──────────────────────────────────────────────────────────────\n",
       "(Intercept)          0.00203909   0.000165195  12.34    <1e-34\n",
       "agent_type: Object  -0.000549917  9.98139e-5   -5.51    <1e-07\n",
       "agent_type: Robot    0.00013502   8.2208e-5     1.64    0.1005\n",
       "──────────────────────────────────────────────────────────────"
      ]
     },
     "metadata": {},
     "output_type": "display_data"
    }
   ],
   "source": [
    "hyposub=@subset(eventspecbands, :behavior_type .!= \"null\", :region.==\"mob\")\n",
    "fm=@formula(gamma_high ~ 1+agent_type + (1|rat))\n",
    "fm1 = fit(MixedModel,fm, hyposub, contrasts = Dict(:agent_type => DummyCoding(;base=\"Rat\")))"
   ]
  },
  {
   "cell_type": "markdown",
   "metadata": {},
   "source": [
    "Hypothesis 8. We expect a higher amplitude theta rhythm in the CA2 and Amygdala for the rat approach/retreat conditions, compared to the robot and object."
   ]
  },
  {
   "cell_type": "code",
   "execution_count": 10,
   "metadata": {},
   "outputs": [
    {
     "name": "stderr",
     "output_type": "stream",
     "text": [
      "┌ Warning: Fixed-effects matrix is rank deficient\n",
      "└ @ MixedModels /Users/leobreston/.julia/packages/MixedModels/9ktwJ/src/Xymat.jl:41\n"
     ]
    },
    {
     "data": {
      "text/latex": [
       "\\begin{tabular}\n",
       "{l | r | r | r | r | r}\n",
       " & Est. & SE & z & p & $\\sigma_\\text{rat}$ \\\\\n",
       "\\hline\n",
       "behavior\\_type: Approach\\_Rat \\& region: amyg & 0.0185 & 0.0130 & 1.43 & 0.1532 &   \\\\\n",
       "behavior\\_type: Approach\\_Robot \\& region: amyg & -0.0000 & NaN & NaN & NaN &   \\\\\n",
       "behavior\\_type: Retreat\\_Rat \\& region: amyg & 0.0224 & 0.0121 & 1.85 & 0.0645 &   \\\\\n",
       "behavior\\_type: Retreat\\_Robot \\& region: amyg & 0.0065 & 0.0126 & 0.51 & 0.6074 &   \\\\\n",
       "behavior\\_type: Approach\\_Rat \\& region: ca2 & 0.0620 & 0.0049 & 12.67 & <1e-36 &   \\\\\n",
       "behavior\\_type: Approach\\_Robot \\& region: ca2 & 0.0523 & 0.0092 & 5.66 & <1e-07 &   \\\\\n",
       "behavior\\_type: Retreat\\_Rat \\& region: ca2 & 0.0815 & 0.0016 & 51.64 & <1e-99 &   \\\\\n",
       "behavior\\_type: Retreat\\_Robot \\& region: ca2 & 0.0621 & 0.0050 & 12.50 & <1e-35 &   \\\\\n",
       "agent\\_type: Object \\& behavior\\_type: Approach\\_Rat \\& region: amyg & -0.0000 & NaN & NaN & NaN &   \\\\\n",
       "agent\\_type: Robot \\& behavior\\_type: Approach\\_Rat \\& region: amyg & -0.0132 & 0.0077 & -1.71 & 0.0872 &   \\\\\n",
       "agent\\_type: Object \\& behavior\\_type: Approach\\_Robot \\& region: amyg & -0.0000 & NaN & NaN & NaN &   \\\\\n",
       "agent\\_type: Robot \\& behavior\\_type: Approach\\_Robot \\& region: amyg & 0.0119 & 0.0143 & 0.83 & 0.4046 &   \\\\\n",
       "agent\\_type: Object \\& behavior\\_type: Retreat\\_Rat \\& region: amyg & 0.0085 & 0.0057 & 1.48 & 0.1387 &   \\\\\n",
       "agent\\_type: Robot \\& behavior\\_type: Retreat\\_Rat \\& region: amyg & -0.0161 & 0.0053 & -3.07 & 0.0022 &   \\\\\n",
       "agent\\_type: Object \\& behavior\\_type: Retreat\\_Robot \\& region: amyg & -0.0000 & NaN & NaN & NaN &   \\\\\n",
       "agent\\_type: Robot \\& behavior\\_type: Retreat\\_Robot \\& region: amyg & -0.0000 & NaN & NaN & NaN &   \\\\\n",
       "agent\\_type: Object \\& behavior\\_type: Approach\\_Rat \\& region: ca2 & 0.0141 & 0.0078 & 1.81 & 0.0698 &   \\\\\n",
       "agent\\_type: Robot \\& behavior\\_type: Approach\\_Rat \\& region: ca2 & -0.0000 & NaN & NaN & NaN &   \\\\\n",
       "agent\\_type: Object \\& behavior\\_type: Approach\\_Robot \\& region: ca2 & -0.0000 & NaN & NaN & NaN &   \\\\\n",
       "agent\\_type: Robot \\& behavior\\_type: Approach\\_Robot \\& region: ca2 & -0.0000 & NaN & NaN & NaN &   \\\\\n",
       "agent\\_type: Object \\& behavior\\_type: Retreat\\_Rat \\& region: ca2 & 0.0107 & 0.0076 & 1.41 & 0.1572 &   \\\\\n",
       "agent\\_type: Robot \\& behavior\\_type: Retreat\\_Rat \\& region: ca2 & -0.0213 & 0.0061 & -3.48 & 0.0005 &   \\\\\n",
       "agent\\_type: Object \\& behavior\\_type: Retreat\\_Robot \\& region: ca2 & -0.0000 & NaN & NaN & NaN &   \\\\\n",
       "agent\\_type: Robot \\& behavior\\_type: Retreat\\_Robot \\& region: ca2 & -0.0000 & NaN & NaN & NaN &   \\\\\n",
       "region: ca2 &  &  &  &  & 0.0000 \\\\\n",
       "region: amyg &  &  &  &  & 0.0195 \\\\\n",
       "Residual & 0.0277 &  &  &  &  \\\\\n",
       "\\end{tabular}\n"
      ],
      "text/markdown": [
       "|                                                                   |    Est. |     SE |     z |      p |  σ_rat |\n",
       "|:----------------------------------------------------------------- | -------:| ------:| -----:| ------:| ------:|\n",
       "| behavior_type: Approach_Rat & region: amyg                        |  0.0185 | 0.0130 |  1.43 | 0.1532 |        |\n",
       "| behavior_type: Approach_Robot & region: amyg                      | -0.0000 |    NaN |   NaN |    NaN |        |\n",
       "| behavior_type: Retreat_Rat & region: amyg                         |  0.0224 | 0.0121 |  1.85 | 0.0645 |        |\n",
       "| behavior_type: Retreat_Robot & region: amyg                       |  0.0065 | 0.0126 |  0.51 | 0.6074 |        |\n",
       "| behavior_type: Approach_Rat & region: ca2                         |  0.0620 | 0.0049 | 12.67 | <1e-36 |        |\n",
       "| behavior_type: Approach_Robot & region: ca2                       |  0.0523 | 0.0092 |  5.66 | <1e-07 |        |\n",
       "| behavior_type: Retreat_Rat & region: ca2                          |  0.0815 | 0.0016 | 51.64 | <1e-99 |        |\n",
       "| behavior_type: Retreat_Robot & region: ca2                        |  0.0621 | 0.0050 | 12.50 | <1e-35 |        |\n",
       "| agent_type: Object & behavior_type: Approach_Rat & region: amyg   | -0.0000 |    NaN |   NaN |    NaN |        |\n",
       "| agent_type: Robot & behavior_type: Approach_Rat & region: amyg    | -0.0132 | 0.0077 | -1.71 | 0.0872 |        |\n",
       "| agent_type: Object & behavior_type: Approach_Robot & region: amyg | -0.0000 |    NaN |   NaN |    NaN |        |\n",
       "| agent_type: Robot & behavior_type: Approach_Robot & region: amyg  |  0.0119 | 0.0143 |  0.83 | 0.4046 |        |\n",
       "| agent_type: Object & behavior_type: Retreat_Rat & region: amyg    |  0.0085 | 0.0057 |  1.48 | 0.1387 |        |\n",
       "| agent_type: Robot & behavior_type: Retreat_Rat & region: amyg     | -0.0161 | 0.0053 | -3.07 | 0.0022 |        |\n",
       "| agent_type: Object & behavior_type: Retreat_Robot & region: amyg  | -0.0000 |    NaN |   NaN |    NaN |        |\n",
       "| agent_type: Robot & behavior_type: Retreat_Robot & region: amyg   | -0.0000 |    NaN |   NaN |    NaN |        |\n",
       "| agent_type: Object & behavior_type: Approach_Rat & region: ca2    |  0.0141 | 0.0078 |  1.81 | 0.0698 |        |\n",
       "| agent_type: Robot & behavior_type: Approach_Rat & region: ca2     | -0.0000 |    NaN |   NaN |    NaN |        |\n",
       "| agent_type: Object & behavior_type: Approach_Robot & region: ca2  | -0.0000 |    NaN |   NaN |    NaN |        |\n",
       "| agent_type: Robot & behavior_type: Approach_Robot & region: ca2   | -0.0000 |    NaN |   NaN |    NaN |        |\n",
       "| agent_type: Object & behavior_type: Retreat_Rat & region: ca2     |  0.0107 | 0.0076 |  1.41 | 0.1572 |        |\n",
       "| agent_type: Robot & behavior_type: Retreat_Rat & region: ca2      | -0.0213 | 0.0061 | -3.48 | 0.0005 |        |\n",
       "| agent_type: Object & behavior_type: Retreat_Robot & region: ca2   | -0.0000 |    NaN |   NaN |    NaN |        |\n",
       "| agent_type: Robot & behavior_type: Retreat_Robot & region: ca2    | -0.0000 |    NaN |   NaN |    NaN |        |\n",
       "| region: ca2                                                       |         |        |       |        | 0.0000 |\n",
       "| region: amyg                                                      |         |        |       |        | 0.0195 |\n",
       "| Residual                                                          |  0.0277 |        |       |        |        |\n"
      ],
      "text/plain": [
       "Linear mixed model fit by maximum likelihood\n",
       " theta ~ 0 + behavior_type & region + agent_type & behavior_type & region + MixedModels.ZeroCorr((0 + region | rat))\n",
       "   logLik   -2 logLik     AIC       AICc        BIC    \n",
       "  2304.0237 -4608.0473 -4574.0473 -4573.4628 -4489.5449\n",
       "\n",
       "Variance components:\n",
       "            Column     Variance  Std.Dev.   Corr.\n",
       "rat      region: amyg  0.0003787 0.0194611\n",
       "         region: ca2   0.0000000 0.0000000   .  \n",
       "Residual               0.0007667 0.0276898\n",
       " Number of obs: 1065; levels of grouping factors: 3\n",
       "\n",
       "  Fixed-effects parameters:\n",
       "──────────────────────────────────────────────────────────────────────────────────────────────────────────────\n",
       "                                                                         Coef.    Std. Error       z  Pr(>|z|)\n",
       "──────────────────────────────────────────────────────────────────────────────────────────────────────────────\n",
       "behavior_type: Approach_Rat & region: amyg                          0.0185255     0.0129686     1.43    0.1532\n",
       "behavior_type: Approach_Robot & region: amyg                       -0.0         NaN           NaN       NaN\n",
       "behavior_type: Retreat_Rat & region: amyg                           0.0224115     0.0121225     1.85    0.0645\n",
       "behavior_type: Retreat_Robot & region: amyg                         0.00648954    0.0126307     0.51    0.6074\n",
       "behavior_type: Approach_Rat & region: ca2                           0.062017      0.00489491   12.67    <1e-36\n",
       "behavior_type: Approach_Robot & region: ca2                         0.0522575     0.00922994    5.66    <1e-07\n",
       "behavior_type: Retreat_Rat & region: ca2                            0.0814703     0.00157777   51.64    <1e-99\n",
       "behavior_type: Retreat_Robot & region: ca2                          0.0621488     0.00497324   12.50    <1e-35\n",
       "agent_type: Object & behavior_type: Approach_Rat & region: amyg    -0.0         NaN           NaN       NaN\n",
       "agent_type: Robot & behavior_type: Approach_Rat & region: amyg     -0.0131898     0.00771171   -1.71    0.0872\n",
       "agent_type: Object & behavior_type: Approach_Robot & region: amyg  -0.0         NaN           NaN       NaN\n",
       "agent_type: Robot & behavior_type: Approach_Robot & region: amyg    0.0119109     0.0142911     0.83    0.4046\n",
       "agent_type: Object & behavior_type: Retreat_Rat & region: amyg      0.00847461    0.0057233     1.48    0.1387\n",
       "agent_type: Robot & behavior_type: Retreat_Rat & region: amyg      -0.0161268     0.00525979   -3.07    0.0022\n",
       "agent_type: Object & behavior_type: Retreat_Robot & region: amyg   -0.0         NaN           NaN       NaN\n",
       "agent_type: Robot & behavior_type: Retreat_Robot & region: amyg    -0.0         NaN           NaN       NaN\n",
       "agent_type: Object & behavior_type: Approach_Rat & region: ca2      0.0141003     0.00777631    1.81    0.0698\n",
       "agent_type: Robot & behavior_type: Approach_Rat & region: ca2      -0.0         NaN           NaN       NaN\n",
       "agent_type: Object & behavior_type: Approach_Robot & region: ca2   -0.0         NaN           NaN       NaN\n",
       "agent_type: Robot & behavior_type: Approach_Robot & region: ca2    -0.0         NaN           NaN       NaN\n",
       "agent_type: Object & behavior_type: Retreat_Rat & region: ca2       0.0107033     0.00756674    1.41    0.1572\n",
       "agent_type: Robot & behavior_type: Retreat_Rat & region: ca2       -0.0212669     0.00611069   -3.48    0.0005\n",
       "agent_type: Object & behavior_type: Retreat_Robot & region: ca2    -0.0         NaN           NaN       NaN\n",
       "agent_type: Robot & behavior_type: Retreat_Robot & region: ca2     -0.0         NaN           NaN       NaN\n",
       "──────────────────────────────────────────────────────────────────────────────────────────────────────────────"
      ]
     },
     "metadata": {},
     "output_type": "display_data"
    }
   ],
   "source": [
    "hyposub=@subset(eventspecbands, :behavior_type .∈ Ref([\"Approach_Rat\",\"Retreat_Rat\",\"Approach_Robot\",\"Retreat_Robot\"]), :region.!=\"mob\")\n",
    "fm=@formula(theta ~0+behavior_type&region + agent_type&behavior_type&region + zerocorr(0+region|rat))\n",
    "fm1 = fit(MixedModel,fm, hyposub, contrasts = Dict(:agent_type => DummyCoding(;base=\"Rat\")))\n"
   ]
  },
  {
   "cell_type": "markdown",
   "metadata": {},
   "source": [
    "Hypothesis 9. It is hypothesized that the amygdala beta rhythm shows a difference between grooming/immobility and rearing. It would be expected that immobility shows the least beta, with grooming showing some due to arm movements, and rearing showing the most. "
   ]
  },
  {
   "cell_type": "code",
   "execution_count": 11,
   "metadata": {},
   "outputs": [
    {
     "data": {
      "text/latex": [
       "\\begin{tabular}\n",
       "{l | r | r | r | r | r}\n",
       " & Est. & SE & z & p & $\\sigma_\\text{rat}$ \\\\\n",
       "\\hline\n",
       "(Intercept) & 0.0018 & 0.0013 & 1.41 & 0.1589 & 0.0022 \\\\\n",
       "behavior\\_type: Grooming & -0.0007 & 0.0003 & -2.51 & 0.0122 &   \\\\\n",
       "behavior\\_type: Rearing & 0.0002 & 0.0003 & 0.87 & 0.3824 &   \\\\\n",
       "Residual & 0.0019 &  &  &  &  \\\\\n",
       "\\end{tabular}\n"
      ],
      "text/markdown": [
       "|                         |    Est. |     SE |     z |      p |  σ_rat |\n",
       "|:----------------------- | -------:| ------:| -----:| ------:| ------:|\n",
       "| (Intercept)             |  0.0018 | 0.0013 |  1.41 | 0.1589 | 0.0022 |\n",
       "| behavior_type: Grooming | -0.0007 | 0.0003 | -2.51 | 0.0122 |        |\n",
       "| behavior_type: Rearing  |  0.0002 | 0.0003 |  0.87 | 0.3824 |        |\n",
       "| Residual                |  0.0019 |        |       |        |        |\n"
      ],
      "text/plain": [
       "Linear mixed model fit by maximum likelihood\n",
       " beta ~ 1 + behavior_type + (1 | rat)\n",
       "   logLik   -2 logLik     AIC       AICc        BIC    \n",
       "  1410.6922 -2821.3845 -2811.3845 -2811.1747 -2793.0007\n",
       "\n",
       "Variance components:\n",
       "            Column    Variance   Std.Dev.  \n",
       "rat      (Intercept)  0.00000488 0.00220987\n",
       "Residual              0.00000357 0.00188872\n",
       " Number of obs: 292; levels of grouping factors: 3\n",
       "\n",
       "  Fixed-effects parameters:\n",
       "───────────────────────────────────────────────────────────────────\n",
       "                                Coef.   Std. Error      z  Pr(>|z|)\n",
       "───────────────────────────────────────────────────────────────────\n",
       "(Intercept)               0.00182989   0.00129888    1.41    0.1589\n",
       "behavior_type: Grooming  -0.000732099  0.000291987  -2.51    0.0122\n",
       "behavior_type: Rearing    0.000224302  0.000256785   0.87    0.3824\n",
       "───────────────────────────────────────────────────────────────────"
      ]
     },
     "metadata": {},
     "output_type": "display_data"
    }
   ],
   "source": [
    "hyposub=@subset(eventspecbands, :behavior_type .∈ Ref([\"Immobility\",\"Grooming\",\"Rearing\"]), :region.==\"amyg\")\n",
    "fm=@formula(beta ~1+behavior_type + (1|rat))\n",
    "fm1 = fit(MixedModel,fm, hyposub, contrasts = Dict(:behavior_type => DummyCoding(;base=\"Immobility\")))\n"
   ]
  },
  {
   "cell_type": "markdown",
   "metadata": {},
   "source": [
    "Hypothesis 10. For regulatory behaviors (grooming/immobility) there should be a shift to lower frequencies within the respiratory range and more low gamma, while exploratory behaviors should shift to theta frequency and high gamma (rearing, approach/retreat). \n"
   ]
  },
  {
   "cell_type": "code",
   "execution_count": 12,
   "metadata": {},
   "outputs": [
    {
     "data": {
      "text/latex": [
       "\\begin{tabular}\n",
       "{l | r | r | r | r | r}\n",
       " & Est. & SE & z & p & $\\sigma_\\text{rat}$ \\\\\n",
       "\\hline\n",
       "region: amyg & 0.0131 & 0.0106 & 1.24 & 0.2153 & 0.0180 \\\\\n",
       "region: ca2 & 0.0554 & 0.0015 & 36.57 & <1e-99 & 0.0000 \\\\\n",
       "region: mob & 0.0459 & 0.0051 & 9.02 & <1e-18 & 0.0081 \\\\\n",
       "combined\\_behavior: Rearing \\& Approach/Retreat \\& region: amyg & 0.0008 & 0.0015 & 0.53 & 0.5943 &   \\\\\n",
       "combined\\_behavior: Rearing \\& Approach/Retreat \\& region: ca2 & 0.0031 & 0.0017 & 1.81 & 0.0703 &   \\\\\n",
       "combined\\_behavior: Rearing \\& Approach/Retreat \\& region: mob & 0.0031 & 0.0016 & 1.98 & 0.0473 &   \\\\\n",
       "Residual & 0.0184 &  &  &  &  \\\\\n",
       "\\end{tabular}\n"
      ],
      "text/markdown": [
       "|                                                              |   Est. |     SE |     z |      p |  σ_rat |\n",
       "|:------------------------------------------------------------ | ------:| ------:| -----:| ------:| ------:|\n",
       "| region: amyg                                                 | 0.0131 | 0.0106 |  1.24 | 0.2153 | 0.0180 |\n",
       "| region: ca2                                                  | 0.0554 | 0.0015 | 36.57 | <1e-99 | 0.0000 |\n",
       "| region: mob                                                  | 0.0459 | 0.0051 |  9.02 | <1e-18 | 0.0081 |\n",
       "| combined_behavior: Rearing & Approach/Retreat & region: amyg | 0.0008 | 0.0015 |  0.53 | 0.5943 |        |\n",
       "| combined_behavior: Rearing & Approach/Retreat & region: ca2  | 0.0031 | 0.0017 |  1.81 | 0.0703 |        |\n",
       "| combined_behavior: Rearing & Approach/Retreat & region: mob  | 0.0031 | 0.0016 |  1.98 | 0.0473 |        |\n",
       "| Residual                                                     | 0.0184 |        |       |        |        |\n"
      ],
      "text/plain": [
       "Linear mixed model fit by maximum likelihood\n",
       " respiratory ~ 0 + region + combined_behavior & region + MixedModels.ZeroCorr((0 + region | rat))\n",
       "    logLik   -2 logLik      AIC         AICc        BIC     \n",
       "   5976.9238 -11953.8477 -11933.8477 -11933.7525 -11876.3458\n",
       "\n",
       "Variance components:\n",
       "            Column     Variance   Std.Dev.    Corr.\n",
       "rat      region: amyg  0.00032370 0.01799155\n",
       "         region: ca2   0.00000000 0.00000000   .  \n",
       "         region: mob   0.00006537 0.00808504   .     .  \n",
       "Residual               0.00033697 0.01835681\n",
       " Number of obs: 2322; levels of grouping factors: 3\n",
       "\n",
       "  Fixed-effects parameters:\n",
       "──────────────────────────────────────────────────────────────────────────────────────────────────────\n",
       "                                                                    Coef.  Std. Error      z  Pr(>|z|)\n",
       "──────────────────────────────────────────────────────────────────────────────────────────────────────\n",
       "region: amyg                                                  0.013089     0.0105621    1.24    0.2153\n",
       "region: ca2                                                   0.0553648    0.00151404  36.57    <1e-99\n",
       "region: mob                                                   0.0459216    0.00508872   9.02    <1e-18\n",
       "combined_behavior: Rearing & Approach/Retreat & region: amyg  0.000821856  0.001543     0.53    0.5943\n",
       "combined_behavior: Rearing & Approach/Retreat & region: ca2   0.00313655   0.00173299   1.81    0.0703\n",
       "combined_behavior: Rearing & Approach/Retreat & region: mob   0.00312349   0.00157434   1.98    0.0473\n",
       "──────────────────────────────────────────────────────────────────────────────────────────────────────"
      ]
     },
     "metadata": {},
     "output_type": "display_data"
    }
   ],
   "source": [
    "hyposub=@subset(eventspecbands, :behavior_type .∈ Ref([\"Immobility\",\"Grooming\",\"Rearing\",\"Approach_Rat\",\"Retreat_Rat\"]))\n",
    "function fun(btype)\n",
    "    if btype .== \"Immobility\"\n",
    "        return \"Immobility & Grooming\"\n",
    "    elseif btype .== \"Grooming\"\n",
    "        return \"Immobility & Grooming\"\n",
    "    else\n",
    "        return \"Rearing & Approach/Retreat\"\n",
    "    end\n",
    "end\n",
    "@transform!(hyposub, @byrow :combined_behavior = fun(:behavior_type))\n",
    "\n",
    "fm=@formula(respiratory ~0+region+ combined_behavior&region + zerocorr(0+region|rat))\n",
    "fm1 = fit(MixedModel,fm, hyposub, contrasts = Dict(:combined_behavior => DummyCoding(;base=\"Immobility & Grooming\")))"
   ]
  },
  {
   "cell_type": "code",
   "execution_count": 13,
   "metadata": {},
   "outputs": [
    {
     "data": {
      "text/latex": [
       "\\begin{tabular}\n",
       "{l | r | r | r | r | r}\n",
       " & Est. & SE & z & p & $\\sigma_\\text{rat}$ \\\\\n",
       "\\hline\n",
       "region: amyg & 0.0053 & 0.0114 & 0.47 & 0.6391 & 0.0189 \\\\\n",
       "region: ca2 & 0.0615 & 0.0046 & 13.22 & <1e-39 & 0.0056 \\\\\n",
       "region: mob & 0.0398 & 0.0065 & 6.13 & <1e-09 & 0.0097 \\\\\n",
       "combined\\_behavior: Rearing \\& Approach/Retreat \\& region: amyg & 0.0135 & 0.0026 & 5.26 & <1e-06 &   \\\\\n",
       "combined\\_behavior: Rearing \\& Approach/Retreat \\& region: ca2 & 0.0239 & 0.0029 & 8.23 & <1e-15 &   \\\\\n",
       "combined\\_behavior: Rearing \\& Approach/Retreat \\& region: mob & 0.0216 & 0.0026 & 8.23 & <1e-15 &   \\\\\n",
       "Residual & 0.0306 &  &  &  &  \\\\\n",
       "\\end{tabular}\n"
      ],
      "text/markdown": [
       "|                                                              |   Est. |     SE |     z |      p |  σ_rat |\n",
       "|:------------------------------------------------------------ | ------:| ------:| -----:| ------:| ------:|\n",
       "| region: amyg                                                 | 0.0053 | 0.0114 |  0.47 | 0.6391 | 0.0189 |\n",
       "| region: ca2                                                  | 0.0615 | 0.0046 | 13.22 | <1e-39 | 0.0056 |\n",
       "| region: mob                                                  | 0.0398 | 0.0065 |  6.13 | <1e-09 | 0.0097 |\n",
       "| combined_behavior: Rearing & Approach/Retreat & region: amyg | 0.0135 | 0.0026 |  5.26 | <1e-06 |        |\n",
       "| combined_behavior: Rearing & Approach/Retreat & region: ca2  | 0.0239 | 0.0029 |  8.23 | <1e-15 |        |\n",
       "| combined_behavior: Rearing & Approach/Retreat & region: mob  | 0.0216 | 0.0026 |  8.23 | <1e-15 |        |\n",
       "| Residual                                                     | 0.0306 |        |       |        |        |\n"
      ],
      "text/plain": [
       "Linear mixed model fit by maximum likelihood\n",
       " theta ~ 0 + region + combined_behavior & region + MixedModels.ZeroCorr((0 + region | rat))\n",
       "   logLik   -2 logLik     AIC       AICc        BIC    \n",
       "  4788.6014 -9577.2028 -9557.2028 -9557.1076 -9499.7010\n",
       "\n",
       "Variance components:\n",
       "            Column     Variance   Std.Dev.    Corr.\n",
       "rat      region: amyg  0.00035807 0.01892266\n",
       "         region: ca2   0.00003147 0.00561011   .  \n",
       "         region: mob   0.00009335 0.00966163   .     .  \n",
       "Residual               0.00093787 0.03062472\n",
       " Number of obs: 2322; levels of grouping factors: 3\n",
       "\n",
       "  Fixed-effects parameters:\n",
       "─────────────────────────────────────────────────────────────────────────────────────────────────────\n",
       "                                                                   Coef.  Std. Error      z  Pr(>|z|)\n",
       "─────────────────────────────────────────────────────────────────────────────────────────────────────\n",
       "region: amyg                                                  0.00533475  0.0113772    0.47    0.6391\n",
       "region: ca2                                                   0.0614694   0.00464905  13.22    <1e-39\n",
       "region: mob                                                   0.0398185   0.00649479   6.13    <1e-09\n",
       "combined_behavior: Rearing & Approach/Retreat & region: amyg  0.0135271   0.00257339   5.26    <1e-06\n",
       "combined_behavior: Rearing & Approach/Retreat & region: ca2   0.0238733   0.00290124   8.23    <1e-15\n",
       "combined_behavior: Rearing & Approach/Retreat & region: mob   0.0216069   0.00262505   8.23    <1e-15\n",
       "─────────────────────────────────────────────────────────────────────────────────────────────────────"
      ]
     },
     "metadata": {},
     "output_type": "display_data"
    }
   ],
   "source": [
    "fm=@formula(theta ~0+region+ combined_behavior&region + zerocorr(0+region|rat))\n",
    "fm1 = fit(MixedModel,fm, hyposub, contrasts = Dict(:combined_behavior => DummyCoding(;base=\"Immobility & Grooming\")))"
   ]
  },
  {
   "cell_type": "code",
   "execution_count": 14,
   "metadata": {},
   "outputs": [
    {
     "data": {
      "text/latex": [
       "\\begin{tabular}\n",
       "{l | r | r | r | r | r}\n",
       " & Est. & SE & z & p & $\\sigma_\\text{rat}$ \\\\\n",
       "\\hline\n",
       "region: amyg & 0.0005 & 0.0003 & 1.85 & 0.0636 & 0.0005 \\\\\n",
       "region: ca2 & 0.0010 & 0.0001 & 15.06 & <1e-50 & 0.0000 \\\\\n",
       "region: mob & 0.0026 & 0.0004 & 7.06 & <1e-11 & 0.0006 \\\\\n",
       "combined\\_behavior: Rearing \\& Approach/Retreat \\& region: amyg & 0.0002 & 0.0001 & 3.24 & 0.0012 &   \\\\\n",
       "combined\\_behavior: Rearing \\& Approach/Retreat \\& region: ca2 & 0.0001 & 0.0001 & 2.00 & 0.0454 &   \\\\\n",
       "combined\\_behavior: Rearing \\& Approach/Retreat \\& region: mob & -0.0006 & 0.0001 & -8.59 & <1e-17 &   \\\\\n",
       "Residual & 0.0008 &  &  &  &  \\\\\n",
       "\\end{tabular}\n"
      ],
      "text/markdown": [
       "|                                                              |    Est. |     SE |     z |      p |  σ_rat |\n",
       "|:------------------------------------------------------------ | -------:| ------:| -----:| ------:| ------:|\n",
       "| region: amyg                                                 |  0.0005 | 0.0003 |  1.85 | 0.0636 | 0.0005 |\n",
       "| region: ca2                                                  |  0.0010 | 0.0001 | 15.06 | <1e-50 | 0.0000 |\n",
       "| region: mob                                                  |  0.0026 | 0.0004 |  7.06 | <1e-11 | 0.0006 |\n",
       "| combined_behavior: Rearing & Approach/Retreat & region: amyg |  0.0002 | 0.0001 |  3.24 | 0.0012 |        |\n",
       "| combined_behavior: Rearing & Approach/Retreat & region: ca2  |  0.0001 | 0.0001 |  2.00 | 0.0454 |        |\n",
       "| combined_behavior: Rearing & Approach/Retreat & region: mob  | -0.0006 | 0.0001 | -8.59 | <1e-17 |        |\n",
       "| Residual                                                     |  0.0008 |        |       |        |        |\n"
      ],
      "text/plain": [
       "Linear mixed model fit by maximum likelihood\n",
       " gamma_low ~ 0 + region + combined_behavior & region + MixedModels.ZeroCorr((0 + region | rat))\n",
       "    logLik   -2 logLik      AIC         AICc        BIC     \n",
       "  13322.7757 -26645.5514 -26625.5514 -26625.4562 -26568.0495\n",
       "\n",
       "Variance components:\n",
       "            Column      Variance    Std.Dev.    Corr.\n",
       "rat      region: amyg  0.000000221 0.000470089\n",
       "         region: ca2   0.000000000 0.000000000   .  \n",
       "         region: mob   0.000000399 0.000631678   .     .  \n",
       "Residual               0.000000602 0.000775903\n",
       " Number of obs: 2322; levels of grouping factors: 3\n",
       "\n",
       "  Fixed-effects parameters:\n",
       "────────────────────────────────────────────────────────────────────────────────────────────────────────\n",
       "                                                                     Coef.   Std. Error      z  Pr(>|z|)\n",
       "────────────────────────────────────────────────────────────────────────────────────────────────────────\n",
       "region: amyg                                                   0.000525022  0.000283074   1.85    0.0636\n",
       "region: ca2                                                    0.000963733  6.39954e-5   15.06    <1e-50\n",
       "region: mob                                                    0.00264696   0.000374879   7.06    <1e-11\n",
       "combined_behavior: Rearing & Approach/Retreat & region: amyg   0.000211347  6.51978e-5    3.24    0.0012\n",
       "combined_behavior: Rearing & Approach/Retreat & region: ca2    0.000146561  7.32496e-5    2.00    0.0454\n",
       "combined_behavior: Rearing & Approach/Retreat & region: mob   -0.000571982  6.65786e-5   -8.59    <1e-17\n",
       "────────────────────────────────────────────────────────────────────────────────────────────────────────"
      ]
     },
     "metadata": {},
     "output_type": "display_data"
    }
   ],
   "source": [
    "\n",
    "fm=@formula(gamma_low ~0+region+ combined_behavior&region + zerocorr(0+region|rat))\n",
    "fm1 = fit(MixedModel,fm, hyposub, contrasts = Dict(:combined_behavior => DummyCoding(;base=\"Immobility & Grooming\")))"
   ]
  },
  {
   "cell_type": "code",
   "execution_count": 15,
   "metadata": {},
   "outputs": [
    {
     "data": {
      "text/latex": [
       "\\begin{tabular}\n",
       "{l | r | r | r | r | r}\n",
       " & Est. & SE & z & p & $\\sigma_\\text{rat}$ \\\\\n",
       "\\hline\n",
       "region: amyg & 0.0004 & 0.0002 & 1.54 & 0.1239 & 0.0004 \\\\\n",
       "region: ca2 & 0.0005 & 0.0001 & 8.36 & <1e-16 & 0.0000 \\\\\n",
       "region: mob & 0.0016 & 0.0001 & 30.10 & <1e-99 & 0.0000 \\\\\n",
       "combined\\_behavior: Rearing \\& Approach/Retreat \\& region: amyg & 0.0004 & 0.0001 & 6.67 & <1e-10 &   \\\\\n",
       "combined\\_behavior: Rearing \\& Approach/Retreat \\& region: ca2 & 0.0003 & 0.0001 & 3.80 & 0.0001 &   \\\\\n",
       "combined\\_behavior: Rearing \\& Approach/Retreat \\& region: mob & 0.0002 & 0.0001 & 3.47 & 0.0005 &   \\\\\n",
       "Residual & 0.0007 &  &  &  &  \\\\\n",
       "\\end{tabular}\n"
      ],
      "text/markdown": [
       "|                                                              |   Est. |     SE |     z |      p |  σ_rat |\n",
       "|:------------------------------------------------------------ | ------:| ------:| -----:| ------:| ------:|\n",
       "| region: amyg                                                 | 0.0004 | 0.0002 |  1.54 | 0.1239 | 0.0004 |\n",
       "| region: ca2                                                  | 0.0005 | 0.0001 |  8.36 | <1e-16 | 0.0000 |\n",
       "| region: mob                                                  | 0.0016 | 0.0001 | 30.10 | <1e-99 | 0.0000 |\n",
       "| combined_behavior: Rearing & Approach/Retreat & region: amyg | 0.0004 | 0.0001 |  6.67 | <1e-10 |        |\n",
       "| combined_behavior: Rearing & Approach/Retreat & region: ca2  | 0.0003 | 0.0001 |  3.80 | 0.0001 |        |\n",
       "| combined_behavior: Rearing & Approach/Retreat & region: mob  | 0.0002 | 0.0001 |  3.47 | 0.0005 |        |\n",
       "| Residual                                                     | 0.0007 |        |       |        |        |\n"
      ],
      "text/plain": [
       "Linear mixed model fit by maximum likelihood\n",
       " gamma_high ~ 0 + region + combined_behavior & region + MixedModels.ZeroCorr((0 + region | rat))\n",
       "    logLik   -2 logLik      AIC         AICc        BIC     \n",
       "  13504.1825 -27008.3650 -26988.3650 -26988.2698 -26930.8632\n",
       "\n",
       "Variance components:\n",
       "            Column      Variance    Std.Dev.    Corr.\n",
       "rat      region: amyg  0.000000149 0.000386512\n",
       "         region: ca2   0.000000000 0.000000000   .  \n",
       "         region: mob   0.000000000 0.000000000   .     .  \n",
       "Residual               0.000000518 0.000719565\n",
       " Number of obs: 2322; levels of grouping factors: 3\n",
       "\n",
       "  Fixed-effects parameters:\n",
       "───────────────────────────────────────────────────────────────────────────────────────────────────────\n",
       "                                                                    Coef.   Std. Error      z  Pr(>|z|)\n",
       "───────────────────────────────────────────────────────────────────────────────────────────────────────\n",
       "region: amyg                                                  0.000361981  0.000235237   1.54    0.1239\n",
       "region: ca2                                                   0.000496301  5.93487e-5    8.36    <1e-16\n",
       "region: mob                                                   0.00164675   5.47075e-5   30.10    <1e-99\n",
       "combined_behavior: Rearing & Approach/Retreat & region: amyg  0.000403205  6.04555e-5    6.67    <1e-10\n",
       "combined_behavior: Rearing & Approach/Retreat & region: ca2   0.000258089  6.7931e-5     3.80    0.0001\n",
       "combined_behavior: Rearing & Approach/Retreat & region: mob   0.000212922  6.13937e-5    3.47    0.0005\n",
       "───────────────────────────────────────────────────────────────────────────────────────────────────────"
      ]
     },
     "metadata": {},
     "output_type": "display_data"
    }
   ],
   "source": [
    "fm=@formula(gamma_high ~0+region+ combined_behavior&region + zerocorr(0+region|rat))\n",
    "fm1 = fit(MixedModel,fm, hyposub, contrasts = Dict(:combined_behavior => DummyCoding(;base=\"Immobility & Grooming\")))"
   ]
  },
  {
   "cell_type": "markdown",
   "metadata": {},
   "source": [
    "\n",
    "Hypothesis 11. Grooming during OpenField should have a high low gamma in MOB due to stress during immobility and grooming, in comparison with the rat/robot/object. It is interesting to examine the robot's low gamma in MOB relative to the OpenField. "
   ]
  },
  {
   "cell_type": "markdown",
   "metadata": {},
   "source": [
    "\n",
    "Hypothesis 12. It is also possible that the OpenField trials are high exploratory, and thus have a small low gamma component. We see in the behavioral data that rearing occurs way more often during the open field trials, which suggests an exploratory regime. "
   ]
  },
  {
   "cell_type": "markdown",
   "metadata": {},
   "source": [
    "Hypothesis 13. It is hypothesized that there will be a difference between the robot and object conditions in the low gamma range of the amygdala during immobility behaviors, with the robot eliciting a higher low gamma component. "
   ]
  },
  {
   "cell_type": "code",
   "execution_count": 16,
   "metadata": {},
   "outputs": [
    {
     "data": {
      "text/latex": [
       "\\begin{tabular}\n",
       "{l | r | r | r | r | r}\n",
       " & Est. & SE & z & p & $\\sigma_\\text{rat}$ \\\\\n",
       "\\hline\n",
       "(Intercept) & 0.0006 & 0.0001 & 3.84 & 0.0001 & 0.0002 \\\\\n",
       "agent\\_type: Object & -0.0000 & 0.0001 & -0.37 & 0.7090 &   \\\\\n",
       "agent\\_type: Rat & 0.0005 & 0.0001 & 4.20 & <1e-04 &   \\\\\n",
       "Residual & 0.0004 &  &  &  &  \\\\\n",
       "\\end{tabular}\n"
      ],
      "text/markdown": [
       "|                    |    Est. |     SE |     z |      p |  σ_rat |\n",
       "|:------------------ | -------:| ------:| -----:| ------:| ------:|\n",
       "| (Intercept)        |  0.0006 | 0.0001 |  3.84 | 0.0001 | 0.0002 |\n",
       "| agent_type: Object | -0.0000 | 0.0001 | -0.37 | 0.7090 |        |\n",
       "| agent_type: Rat    |  0.0005 | 0.0001 |  4.20 | <1e-04 |        |\n",
       "| Residual           |  0.0004 |        |       |        |        |\n"
      ],
      "text/plain": [
       "Linear mixed model fit by maximum likelihood\n",
       " gamma_low ~ 1 + agent_type + (1 | rat)\n",
       "   logLik   -2 logLik     AIC       AICc        BIC    \n",
       "   730.6134 -1461.2269 -1451.2269 -1450.6661 -1437.5900\n",
       "\n",
       "Variance components:\n",
       "            Column     Variance    Std.Dev.  \n",
       "rat      (Intercept)  0.000000048 0.000219375\n",
       "Residual              0.000000134 0.000366107\n",
       " Number of obs: 113; levels of grouping factors: 3\n",
       "\n",
       "  Fixed-effects parameters:\n",
       "──────────────────────────────────────────────────────────────\n",
       "                           Coef.   Std. Error      z  Pr(>|z|)\n",
       "──────────────────────────────────────────────────────────────\n",
       "(Intercept)          0.000569894  0.000148262   3.84    0.0001\n",
       "agent_type: Object  -3.21348e-5   8.61124e-5   -0.37    0.7090\n",
       "agent_type: Rat      0.000496116  0.000118263   4.20    <1e-04\n",
       "──────────────────────────────────────────────────────────────"
      ]
     },
     "metadata": {},
     "output_type": "display_data"
    }
   ],
   "source": [
    "hyposub=@subset(eventspecbands, :behavior_type.==\"Immobility\", :region.==\"amyg\")\n",
    "fm=@formula(gamma_low ~1+agent_type + (1|rat))\n",
    "fm1 = fit(MixedModel,fm, hyposub, contrasts = Dict(:agent_type => DummyCoding(;base=\"Robot\")))\n"
   ]
  }
 ],
 "metadata": {
  "interpreter": {
   "hash": "aee8b7b246df8f9039afb4144a1f6fd8d2ca17a180786b69acc140d282b71a49"
  },
  "kernelspec": {
   "display_name": "Julia 1.6.1",
   "language": "julia",
   "name": "julia-1.6"
  },
  "language_info": {
   "file_extension": ".jl",
   "mimetype": "application/julia",
   "name": "julia",
   "version": "1.6.1"
  },
  "orig_nbformat": 4
 },
 "nbformat": 4,
 "nbformat_minor": 2
}
