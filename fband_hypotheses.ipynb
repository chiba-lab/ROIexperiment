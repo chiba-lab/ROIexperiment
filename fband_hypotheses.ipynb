{
 "cells": [
  {
   "cell_type": "code",
   "execution_count": 1,
   "metadata": {},
   "outputs": [
    {
     "data": {
      "text/plain": [
       "1190-element Vector{Vector{Float64}}:\n",
       " [-0.09331660337249974, -0.09819589147917425, -0.09701250054912028, -0.10634067558245565, -0.1021405875302294, -0.09508570875457648, -0.10222455186734672, -0.09281840330007164, -0.04793675328783312, -0.057133355035141796  …  0.012000970506541482, 0.025241273428468974, 0.04294571134049535, 0.05226133557450283, 0.05718283311744984, 0.02164778581407128, -0.014923623848214692, 0.047510283889903915, 0.02752404050682769, 0.006529732011523056]\n",
       " [-0.13315295931214435, -0.13665682755355368, -0.11553105897029754, 0.01217419769535267, 0.12392939464261832, 0.16810780588327812, 0.13513692541079475, 0.15562960041545024, 0.14371666758303217, 0.1255655804435772  …  0.10221117842751364, 0.11151999093854242, 0.20395167324128263, 0.33968211693731504, 0.3435216408069801, 0.17291465716694754, -0.005134161633323996, -0.1969365304727736, -0.12453580032056083, -0.1391508127866966]\n",
       " [-0.01837882182201333, -0.05117392840454414, -0.05748236701138727, -0.04127012147527096, -0.006410709781593651, -0.019903144962300546, -0.029583564530490766, -0.04565933155643357, -0.04793688794756218, -0.014573564628429845  …  -0.03790103469708682, -0.05203825580677034, -0.04724935138736685, -0.048111562816736606, -0.061199677415706054, -0.0025115186047486356, -0.018399680481003662, -0.01992069227937011, -0.1452626941071468, -0.19859028730380887]\n",
       " [-0.261747056129198, -0.26601468012739854, -0.1165936840106055, -0.1166604281460651, -0.22016137326501178, -0.211000458989252, -0.1403246979347871, 0.015327015996835293, -0.05057174074058409, -0.07348704113776804  …  0.20708833557055706, 0.07239451166204218, 0.05213497697346198, 0.029051441964896372, 0.17270499688183988, 0.1781195303696709, 0.2713573103902486, 0.34031047562129, 0.3401093453606928, 0.21211058539499641]\n",
       " [-0.06115820711235891, -0.0478888651286424, -0.08676792307422122, -0.12418972411861985, -0.0678858296725556, -0.033459315978195917, -0.03401119933195606, -0.03891938331553434, -0.0654761601769943, -0.10533460278234105  …  -0.01970677748177172, -0.027697086850819543, 0.000213118284082457, 0.03961684429832405, 0.055118129571575546, 0.0338500671359487, 0.028992664741828638, 0.03669084637529542, 0.00045662408093123446, -0.088747046867481]\n",
       " [0.06255677425719544, 0.05582386209488726, -0.01169007632486387, -0.0154128291138952, 0.05216849639280025, 0.06033767675674648, 0.05302746881051015, 0.04066470464295892, 0.043721315710063616, 0.042236101955359484  …  -0.038785263035153845, 0.0450510655140682, 0.08456800268281658, 0.019010670445795373, -0.03384785948560898, -0.018901537816706653, 0.042665335839560656, -0.021190706246518826, -0.005088201391721056, -0.055557449259862474]\n",
       " [-0.10453122297027605, -0.13553200473369645, -0.09622045922405303, -0.13123609363377814, -0.09983143638866683, -0.06449626735968404, -0.0837061558806195, -0.026595313989600265, -0.12064025806537149, -0.21108665127390927  …  -0.023331373711864754, -0.048669612299491405, -0.056862315459669174, -0.0801760721030165, -0.14757323759827506, -0.06471422871440233, 0.02869163797595851, -0.0059984400094306835, 0.00795525473646996, 0.09187490348337894]\n",
       " [-0.09243743988643419, -0.11133594500772295, -0.10182349191779383, -0.10483411826032768, -0.10165958226996814, -0.14782522611545262, -0.09008884524042987, -0.082284345827631, -0.10532839042349372, -0.11995606564838081  …  -0.009859392268694119, 0.013306811056105412, -0.0016262477083514358, 0.033279918455120565, 0.051000279625417526, 0.037914136200702483, 0.057730544975084896, 0.05673897195896486, 0.06847091480671334, 0.06975993243511336]\n",
       " [-0.041233498028469796, -0.07226458717549178, -0.08799776287510257, -0.07647091875534741, -0.06285602420015277, -0.09918168265330815, -0.13430762491110299, -0.1548443791459278, -0.14940973036964966, -0.1017846125353184  …  0.13424620730707498, 0.13235122430826565, 0.14301264242347028, 0.13424318825960932, 0.11993981597217279, 0.16340665823531775, 0.16809465538580576, 0.15902692633594434, 0.14521762460088958, 0.1413008244312646]\n",
       " [-0.038319797943198265, -0.013254757785090672, 0.0007652939235950827, -0.04921874656812204, -0.09907904052761439, -0.013037182702053321, 0.0008639698907356112, -0.09987905289968095, -0.049946467452170566, -0.035164005673085134  …  0.013291804833009069, -0.011514570594709688, -0.00017938559247077205, 0.11005219809259098, 0.07873866288025833, 0.038198201702407245, 5.851831383869547e-5, -0.015461339026687641, -0.012633078664393027, -0.019641617600222375]\n",
       " [0.029445288760582795, 0.017863981365106744, -0.06272289444087081, -0.03328182359550799, -0.052747841629754426, -0.1028413388463133, -0.10407947322167421, 0.04938015209542163, 0.017354049861319748, 0.03977891242600174  …  -0.09271692013657919, -0.10575939520301392, -0.07085138220819293, -0.10025359971560778, -0.09322223536176674, -0.11435362362724848, -0.14602137479100227, -0.10766895285645244, -0.12488377938743994, -0.09723264914026326]\n",
       " [-0.2259696634430955, 0.02791223796794447, 0.0718913430971814, 0.06310179419036033, 0.024787768804434382, 0.022893578654155092, -0.04209197351409476, -0.0659984858030053, 0.0019993965772427793, -0.07429131086103766  …  -0.010489523524982843, 0.03105020367937117, 0.04502305106438291, 0.06751043214419647, 0.03389604875151805, 0.03340830617583936, 0.0831441678904139, 0.000717829720945685, -0.05985856676446791, 0.058680433673406765]\n",
       " [0.08021438588928902, 0.09404138828951444, 0.06953101740945045, 0.059858652029418896, 0.06219261997483368, 0.03971319879129861, 0.0018396604349328735, -0.017737104868493597, 0.05765675441378811, 0.0719072548282762  …  0.04630050956281858, 0.03134611611949502, 0.010787696170776316, 0.028210136703630574, 0.011679598055099955, -0.06662507355221844, -0.05270841981794247, 0.023032814387627838, 0.0053548290223193054, 0.019895623593114784]\n",
       " ⋮\n",
       " [-0.07530285392625806, -0.06518296461656824, -0.06004471417968922, -0.06753211063197534, -0.03705245809991689, -0.028720510370533792, -0.03239071023612, -0.02229299841334662, -0.09274716261829416, -0.035829708585144227  …  0.012427844182461869, -0.006308121409766093, -0.019632235396833873, -0.0010325158400369086, 0.025509439081126295, 0.02311316858976684, 0.020127699908569774, -0.016217930046159148, -0.05857475052314219, -0.01728773989145103]\n",
       " [0.06871017849202876, -0.0009833313219050682, -0.10971619119991086, -0.20508913854201757, -0.16254878406180154, -0.01751025478167087, -0.08832868281044796, -0.06737806803185242, -0.016193573406224175, -0.004133071392746972  …  0.2832320462430694, 0.2273434403195919, 0.21610431894127557, 0.24221809555348478, 0.3025881805117213, 0.23852324268228425, 0.1888904706901571, 0.1890075947440817, 0.27368731064431745, 0.3488760897436336]\n",
       " [0.04629509714716829, 0.07343522110857516, 0.0002635151824258433, 0.07209769165862723, 0.14078773496738203, 0.08501982996169562, -0.0019299358855906171, -0.03852691576117929, 0.039309777986704875, 0.08355568397272545  …  -0.015088773906637659, -0.020933318299588315, 0.01466410681097551, -0.020035201086279292, 0.0031101117196458803, -0.011987544707610558, -0.05385709407949722, -0.013223227240511623, -0.03234466348674873, -0.01749838100681871]\n",
       " [-0.017968030113246873, -0.05178147215493465, -0.07595066095467047, -0.057046115138723416, -0.020305863494502106, 0.00298852821908346, 0.04140093582080342, 0.028588537559124504, 0.015571781646672467, 0.01978394916621463  …  0.07372172510729205, 0.11317974587550228, 0.11948201031852325, 0.12374112072568506, 0.11621695883470158, 0.16167725445752235, 0.14989525730726805, 0.14192878640720372, 0.13211059378419548, 0.12643255649431012]\n",
       " [0.014393149227441636, 0.01006836557797267, 0.013086618803789586, -0.009736061368906326, -0.04657652278514747, 0.033987227755886355, 0.029769017198823158, -0.020374975739387298, 0.02645210364515566, 0.003955372729707054  …  -0.0351951140372177, -0.020356617149096985, -0.05083835634129799, -0.04399919730557983, -0.1334322205129221, -0.1555732646782245, -0.1657643317874696, -0.07029103580271369, -0.18445933630832032, -0.2210501382925802]\n",
       " [-0.003879957203443147, -0.010643795499074453, -0.03293841610420016, -0.024886600200410412, -0.0008814344830605685, 0.04490085323022706, 0.03534324793275764, -0.011126421340321907, -0.006198563036547335, -0.05469650999531936  …  -0.16918000067103242, -0.15175993477234404, -0.16234408070359843, -0.19571970680679474, -0.16410972362749907, -0.19742471775699355, -0.21342140190478642, -0.19912086012495692, -0.20058288442949213, -0.1815622859842688]\n",
       " [0.003088219944250609, -0.005609978972455794, -0.02638784180083428, -0.03065000055459718, -0.012129015949547756, -0.028118051943149803, -0.04659404025535008, -0.06445326156493034, -0.009125171123462929, 0.0071631811564995965  …  -0.02002628762459468, -0.03251703773279254, 0.0027883617574811213, -0.036953893503025886, -0.022696072961166474, -0.007667063110123319, -0.006565989611864736, -0.01636530202908385, -0.04449186096605561, -0.031978664478650755]\n",
       " [0.03816865189546639, 0.047811930691722355, 0.050638059240787514, 0.040685653201511046, 0.052654293232816715, 0.05128693034501759, 0.02424755347364607, 0.08594997571967802, 0.06184748772139125, 0.04896636608913273  …  0.0541683824536596, 0.06636546433888114, 0.0860060615629691, 0.09947301836524011, 0.08163171736144033, 0.10619071628808145, 0.08733844949217051, 0.12030204306664155, 0.08314322178841044, 0.016875429623380123]\n",
       " [-0.19345180143450777, -0.19845724913182042, -0.13772904178858117, -0.14053205732732255, -0.20475740391942146, -0.196245331587703, -0.1667660878521305, -0.10345585366776684, -0.10610135365817099, -0.1345090868351523  …  -0.06732665642291621, -0.09449875721729244, -0.10952907295120697, -0.11676997574930925, -0.13575168701600512, -0.14679109602318768, -0.15505584154352478, -0.16481969136748453, -0.17664474320182286, -0.16722533732482983]\n",
       " [0.020431114743851963, 0.014996075791825408, -0.01010897897238536, -0.0029673162427800246, 0.0063539106177030735, -0.008953430347378518, -0.026059133805583667, -0.058361510606774684, -0.07288796249652765, -0.02979569929565311  …  0.00876704308292831, 0.03040649285565801, 0.024544328583617336, 0.00869715878358493, -0.010653964546728047, -0.06592516399678104, -0.07907716761741831, -0.10845423315227998, -0.05077412580136257, 0.02052140788610351]\n",
       " [-0.05766149262238885, -0.053330431219583044, -0.05643658127482269, -0.051960072899105536, -0.07128415402725997, -0.0710158077886634, -0.08607806521623286, -0.07899933182757184, -0.07184089615113795, -0.06898176357502035  …  -0.07536054913344968, -0.1333082500129565, -0.14329413655955886, -0.15466836435241477, -0.09216490723513308, -0.08620161748341525, -0.1615037610024829, -0.08660329611899877, -0.08508583419011247, -0.11407674708175018]\n",
       " [0.006831553693316745, 0.0161194857545367, -0.019501598939486144, -0.030965287299477545, -0.048666437759177894, -0.06300527394128319, -0.11052049208077121, -0.07581958871902084, -0.11056365232478467, -0.07670308805554797  …  -0.02992478257470373, -0.034283616540537944, -0.00610526917566465, -0.010404712592744536, -0.005762734430547111, -0.013519474631409368, -0.016078343090928288, -0.017120665138976317, -0.004603549407483856, -0.030131746468630833]"
      ]
     },
     "execution_count": 1,
     "metadata": {},
     "output_type": "execute_result"
    }
   ],
   "source": [
    "include(\"./ROIontology.jl\")\n",
    "\n",
    "\n",
    "ROIexp = load(\"./Data/ROIexp_FR.jld2\", \"ROIexp\");\n",
    "lfp = ROIexp[:lfp_data]\n",
    "events = ROIexp[:behavioral_events]\n",
    "trials = ROIexp[:trials]\n",
    "sessions = ROIexp[:sessions]\n",
    "\n",
    "include(\"./Links.jl\")\n",
    "\n",
    "WD = filter(x -> window_data_event(window_data(x)) ∈ dom(event_trial), collect(dom(window_data)))\n",
    "WC = filter(x -> window_data_event(x) ∈ dom(event_trial), collect(codom(window_data)))\n",
    "\n",
    "# WD = filter(x -> window_data_event(window_data(x)), collect(dom(window_data)))\n",
    "# WC = filter(x -> window_data_event(x), collect(codom(window_data)))"
   ]
  },
  {
   "cell_type": "code",
   "execution_count": 12,
   "metadata": {},
   "outputs": [
    {
     "data": {
      "text/html": [
       "<div class=\"data-frame\"><p>1,055 rows × 10 columns (omitted printing of 3 columns)</p><table class=\"data-frame\"><thead><tr><th></th><th>rat</th><th>region</th><th>behavior_type</th><th>trial_type</th><th>agent_type</th><th>respiratory</th><th>theta</th></tr><tr><th></th><th title=\"String7\">String7</th><th title=\"String\">String</th><th title=\"String15\">String15</th><th title=\"String\">String</th><th title=\"DataType\">DataType</th><th title=\"Float64\">Float64</th><th title=\"Float64\">Float64</th></tr></thead><tbody><tr><th>1</th><td>RRSD28</td><td>Ca2</td><td>Rearing</td><td>Free Roam</td><td>Robot</td><td>0.00480679</td><td>0.00552241</td></tr><tr><th>2</th><td>RRSD28</td><td>MOB</td><td>Immobility</td><td>Free Roam</td><td>Robot</td><td>0.0185517</td><td>0.015892</td></tr><tr><th>3</th><td>RRSD17</td><td>MOB</td><td>Rearing</td><td>Free Roam</td><td>Object</td><td>0.007176</td><td>0.00876942</td></tr><tr><th>4</th><td>RRSD17</td><td>Amygdala</td><td>Immobility</td><td>Free Roam</td><td>Object</td><td>0.00154076</td><td>0.00167873</td></tr><tr><th>5</th><td>RRSD17</td><td>Ca2</td><td>Immobility</td><td>Free Roam</td><td>Robot</td><td>0.00195673</td><td>0.00247963</td></tr><tr><th>6</th><td>RRSD17</td><td>MOB</td><td>Immobility</td><td>Free Roam</td><td>Rat</td><td>0.0124936</td><td>0.0149751</td></tr><tr><th>7</th><td>RRSD17</td><td>Amygdala</td><td>Grooming</td><td>Free Roam</td><td>Rat</td><td>0.00189254</td><td>0.00177685</td></tr><tr><th>8</th><td>RRSD28</td><td>Ca2</td><td>Immobility</td><td>Free Roam</td><td>Robot</td><td>0.00457848</td><td>0.0039664</td></tr><tr><th>9</th><td>RRSD17</td><td>Amygdala</td><td>Grooming</td><td>Free Roam</td><td>Rat</td><td>0.00151663</td><td>0.00172818</td></tr><tr><th>10</th><td>RRSD17</td><td>Amygdala</td><td>Rearing</td><td>Free Roam</td><td>Robot</td><td>0.00102771</td><td>0.00121022</td></tr><tr><th>11</th><td>RRSD17</td><td>Amygdala</td><td>Grooming</td><td>Free Roam</td><td>Robot</td><td>0.0010595</td><td>0.00104288</td></tr><tr><th>12</th><td>RRSD17</td><td>MOB</td><td>Rearing</td><td>Free Roam</td><td>Rat</td><td>0.00785095</td><td>0.009735</td></tr><tr><th>13</th><td>RRSD17</td><td>Amygdala</td><td>Immobility</td><td>Free Roam</td><td>Robot</td><td>0.00129529</td><td>0.00110796</td></tr><tr><th>14</th><td>RRSD17</td><td>Amygdala</td><td>Grooming</td><td>Free Roam</td><td>Rat</td><td>0.00166202</td><td>0.00177018</td></tr><tr><th>15</th><td>RRSD17</td><td>Amygdala</td><td>Immobility</td><td>Free Roam</td><td>Object</td><td>0.00140207</td><td>0.00160498</td></tr><tr><th>16</th><td>RRSD17</td><td>Amygdala</td><td>Grooming</td><td>Free Roam</td><td>Rat</td><td>0.00114999</td><td>0.00110249</td></tr><tr><th>17</th><td>RRSD17</td><td>Ca2</td><td>Grooming</td><td>Free Roam</td><td>Object</td><td>0.00277132</td><td>0.00363048</td></tr><tr><th>18</th><td>RRSD17</td><td>Ca2</td><td>Rearing</td><td>Free Roam</td><td>Robot</td><td>0.00333389</td><td>0.0046044</td></tr><tr><th>19</th><td>RRSD17</td><td>Ca2</td><td>Grooming</td><td>Free Roam</td><td>Robot</td><td>0.0037045</td><td>0.00302125</td></tr><tr><th>20</th><td>RRSD17</td><td>Amygdala</td><td>Immobility</td><td>Free Roam</td><td>Robot</td><td>0.00128449</td><td>0.00118262</td></tr><tr><th>21</th><td>RRSD17</td><td>Ca2</td><td>Rearing</td><td>Free Roam</td><td>Rat</td><td>0.0034101</td><td>0.0047443</td></tr><tr><th>22</th><td>RRSD17</td><td>Ca2</td><td>Grooming</td><td>Free Roam</td><td>Rat</td><td>0.00324225</td><td>0.00419523</td></tr><tr><th>23</th><td>RRSD17</td><td>Ca2</td><td>Rearing</td><td>Free Roam</td><td>Robot</td><td>0.00326413</td><td>0.00387758</td></tr><tr><th>24</th><td>RRSD17</td><td>Ca2</td><td>Rearing</td><td>Free Roam</td><td>Rat</td><td>0.00311407</td><td>0.00445955</td></tr><tr><th>25</th><td>RRSD28</td><td>Ca2</td><td>Rearing</td><td>Free Roam</td><td>Robot</td><td>0.00473008</td><td>0.00565307</td></tr><tr><th>26</th><td>RRSD28</td><td>MOB</td><td>Immobility</td><td>Free Roam</td><td>Robot</td><td>0.0249495</td><td>0.0253922</td></tr><tr><th>27</th><td>RRSD17</td><td>MOB</td><td>Immobility</td><td>Free Roam</td><td>Object</td><td>0.0167457</td><td>0.0173523</td></tr><tr><th>28</th><td>RRSD28</td><td>Ca2</td><td>Rearing</td><td>Free Roam</td><td>Robot</td><td>0.00434497</td><td>0.0055887</td></tr><tr><th>29</th><td>RRSD28</td><td>MOB</td><td>Immobility</td><td>Free Roam</td><td>Robot</td><td>0.0247839</td><td>0.0250186</td></tr><tr><th>30</th><td>RRSD17</td><td>MOB</td><td>Rearing</td><td>Free Roam</td><td>Robot</td><td>0.00799323</td><td>0.0112015</td></tr><tr><th>&vellip;</th><td>&vellip;</td><td>&vellip;</td><td>&vellip;</td><td>&vellip;</td><td>&vellip;</td><td>&vellip;</td><td>&vellip;</td></tr></tbody></table></div>"
      ],
      "text/latex": [
       "\\begin{tabular}{r|cccccccc}\n",
       "\t& rat & region & behavior\\_type & trial\\_type & agent\\_type & respiratory & theta & \\\\\n",
       "\t\\hline\n",
       "\t& String7 & String & String15 & String & DataType & Float64 & Float64 & \\\\\n",
       "\t\\hline\n",
       "\t1 & RRSD28 & Ca2 & Rearing & Free Roam & Robot & 0.00480679 & 0.00552241 & $\\dots$ \\\\\n",
       "\t2 & RRSD28 & MOB & Immobility & Free Roam & Robot & 0.0185517 & 0.015892 & $\\dots$ \\\\\n",
       "\t3 & RRSD17 & MOB & Rearing & Free Roam & Object & 0.007176 & 0.00876942 & $\\dots$ \\\\\n",
       "\t4 & RRSD17 & Amygdala & Immobility & Free Roam & Object & 0.00154076 & 0.00167873 & $\\dots$ \\\\\n",
       "\t5 & RRSD17 & Ca2 & Immobility & Free Roam & Robot & 0.00195673 & 0.00247963 & $\\dots$ \\\\\n",
       "\t6 & RRSD17 & MOB & Immobility & Free Roam & Rat & 0.0124936 & 0.0149751 & $\\dots$ \\\\\n",
       "\t7 & RRSD17 & Amygdala & Grooming & Free Roam & Rat & 0.00189254 & 0.00177685 & $\\dots$ \\\\\n",
       "\t8 & RRSD28 & Ca2 & Immobility & Free Roam & Robot & 0.00457848 & 0.0039664 & $\\dots$ \\\\\n",
       "\t9 & RRSD17 & Amygdala & Grooming & Free Roam & Rat & 0.00151663 & 0.00172818 & $\\dots$ \\\\\n",
       "\t10 & RRSD17 & Amygdala & Rearing & Free Roam & Robot & 0.00102771 & 0.00121022 & $\\dots$ \\\\\n",
       "\t11 & RRSD17 & Amygdala & Grooming & Free Roam & Robot & 0.0010595 & 0.00104288 & $\\dots$ \\\\\n",
       "\t12 & RRSD17 & MOB & Rearing & Free Roam & Rat & 0.00785095 & 0.009735 & $\\dots$ \\\\\n",
       "\t13 & RRSD17 & Amygdala & Immobility & Free Roam & Robot & 0.00129529 & 0.00110796 & $\\dots$ \\\\\n",
       "\t14 & RRSD17 & Amygdala & Grooming & Free Roam & Rat & 0.00166202 & 0.00177018 & $\\dots$ \\\\\n",
       "\t15 & RRSD17 & Amygdala & Immobility & Free Roam & Object & 0.00140207 & 0.00160498 & $\\dots$ \\\\\n",
       "\t16 & RRSD17 & Amygdala & Grooming & Free Roam & Rat & 0.00114999 & 0.00110249 & $\\dots$ \\\\\n",
       "\t17 & RRSD17 & Ca2 & Grooming & Free Roam & Object & 0.00277132 & 0.00363048 & $\\dots$ \\\\\n",
       "\t18 & RRSD17 & Ca2 & Rearing & Free Roam & Robot & 0.00333389 & 0.0046044 & $\\dots$ \\\\\n",
       "\t19 & RRSD17 & Ca2 & Grooming & Free Roam & Robot & 0.0037045 & 0.00302125 & $\\dots$ \\\\\n",
       "\t20 & RRSD17 & Amygdala & Immobility & Free Roam & Robot & 0.00128449 & 0.00118262 & $\\dots$ \\\\\n",
       "\t21 & RRSD17 & Ca2 & Rearing & Free Roam & Rat & 0.0034101 & 0.0047443 & $\\dots$ \\\\\n",
       "\t22 & RRSD17 & Ca2 & Grooming & Free Roam & Rat & 0.00324225 & 0.00419523 & $\\dots$ \\\\\n",
       "\t23 & RRSD17 & Ca2 & Rearing & Free Roam & Robot & 0.00326413 & 0.00387758 & $\\dots$ \\\\\n",
       "\t24 & RRSD17 & Ca2 & Rearing & Free Roam & Rat & 0.00311407 & 0.00445955 & $\\dots$ \\\\\n",
       "\t25 & RRSD28 & Ca2 & Rearing & Free Roam & Robot & 0.00473008 & 0.00565307 & $\\dots$ \\\\\n",
       "\t26 & RRSD28 & MOB & Immobility & Free Roam & Robot & 0.0249495 & 0.0253922 & $\\dots$ \\\\\n",
       "\t27 & RRSD17 & MOB & Immobility & Free Roam & Object & 0.0167457 & 0.0173523 & $\\dots$ \\\\\n",
       "\t28 & RRSD28 & Ca2 & Rearing & Free Roam & Robot & 0.00434497 & 0.0055887 & $\\dots$ \\\\\n",
       "\t29 & RRSD28 & MOB & Immobility & Free Roam & Robot & 0.0247839 & 0.0250186 & $\\dots$ \\\\\n",
       "\t30 & RRSD17 & MOB & Rearing & Free Roam & Robot & 0.00799323 & 0.0112015 & $\\dots$ \\\\\n",
       "\t$\\dots$ & $\\dots$ & $\\dots$ & $\\dots$ & $\\dots$ & $\\dots$ & $\\dots$ & $\\dots$ &  \\\\\n",
       "\\end{tabular}\n"
      ],
      "text/plain": [
       "\u001b[1m1055×10 DataFrame\u001b[0m\n",
       "\u001b[1m  Row \u001b[0m│\u001b[1m rat     \u001b[0m\u001b[1m region   \u001b[0m\u001b[1m behavior_type \u001b[0m\u001b[1m trial_type \u001b[0m\u001b[1m agent_type \u001b[0m\u001b[1m respiratory \u001b[0m\u001b[1m\u001b[0m ⋯\n",
       "\u001b[1m      \u001b[0m│\u001b[90m String7 \u001b[0m\u001b[90m String   \u001b[0m\u001b[90m String15      \u001b[0m\u001b[90m String     \u001b[0m\u001b[90m DataType   \u001b[0m\u001b[90m Float64     \u001b[0m\u001b[90m\u001b[0m ⋯\n",
       "──────┼─────────────────────────────────────────────────────────────────────────\n",
       "    1 │ RRSD28   Ca2       Rearing        Free Roam   Robot        0.00480679  ⋯\n",
       "    2 │ RRSD28   MOB       Immobility     Free Roam   Robot        0.0185517\n",
       "    3 │ RRSD17   MOB       Rearing        Free Roam   Object       0.007176\n",
       "    4 │ RRSD17   Amygdala  Immobility     Free Roam   Object       0.00154076\n",
       "    5 │ RRSD17   Ca2       Immobility     Free Roam   Robot        0.00195673  ⋯\n",
       "    6 │ RRSD17   MOB       Immobility     Free Roam   Rat          0.0124936\n",
       "    7 │ RRSD17   Amygdala  Grooming       Free Roam   Rat          0.00189254\n",
       "    8 │ RRSD28   Ca2       Immobility     Free Roam   Robot        0.00457848\n",
       "    9 │ RRSD17   Amygdala  Grooming       Free Roam   Rat          0.00151663  ⋯\n",
       "   10 │ RRSD17   Amygdala  Rearing        Free Roam   Robot        0.00102771\n",
       "   11 │ RRSD17   Amygdala  Grooming       Free Roam   Robot        0.0010595\n",
       "  ⋮   │    ⋮        ⋮            ⋮            ⋮           ⋮            ⋮       ⋱\n",
       " 1046 │ RRSD17   Amygdala  Grooming       Free Roam   Robot        0.00101162\n",
       " 1047 │ RRSD17   MOB       Immobility     Free Roam   Object       0.00857157  ⋯\n",
       " 1048 │ RRSD17   Amygdala  Grooming       Free Roam   Object       0.00083294\n",
       " 1049 │ RRSD17   Amygdala  Grooming       Free Roam   Robot        0.0012568\n",
       " 1050 │ RRSD28   Ca2       Immobility     Free Roam   Robot        0.0041508\n",
       " 1051 │ RRSD17   Amygdala  Immobility     Free Roam   Robot        0.00104531  ⋯\n",
       " 1052 │ RRSD28   Ca2       Rearing        Free Roam   Robot        0.00426925\n",
       " 1053 │ RRSD28   Amygdala  Immobility     Free Roam   Robot        0.0017858\n",
       " 1054 │ RRSD18   Ca2       Rearing        Free Roam   Object       0.00603387\n",
       " 1055 │ RRSD28   Ca2       Rearing        Free Roam   Robot        0.00685572  ⋯\n",
       "\u001b[36m                                                 4 columns and 1034 rows omitted\u001b[0m"
      ]
     },
     "execution_count": 12,
     "metadata": {},
     "output_type": "execute_result"
    }
   ],
   "source": [
    "\n",
    "using FourierAnalysis\n",
    "\n",
    "# WT = event_trial∘window_data_event\n",
    "# using JLD2 \n",
    "# @save \"TempData/event_lfp_windows_1_1.jld2\"  WC\n",
    "#split events into pre-peri-post with 512 sample pre and post windows\n",
    "#events shorter than 512 are expanded\n",
    "# wd_pre = GMap(x -> x[498:1010], WC)\n",
    "wd_peri = GMap(x -> length(x) <= 2532 ? x[round(Int, length(x) / 2)-256:round(Int, length(x) / 2)+256] : x[1010:end-1010], WC)\n",
    "# wd_peri = GMap(x -> x, WC)\n",
    "\n",
    "# wd_post = GMap(x -> x[end-1010:end-498], WC)\n",
    "\n",
    "\n",
    "# function isartifact(x::DataWindow)\n",
    "#     if x.data.region==MOB\n",
    "#         thresh=.75\n",
    "#     else\n",
    "#         thresh=.6\n",
    "#     end\n",
    "#     # if any(window_data(x).≥thresh)\n",
    "#     if sum((window_data(x) .≥ thresh)) > (length(window_data(x)) * .01)\n",
    "#         return true\n",
    "#     else\n",
    "#         return false\n",
    "#     end\n",
    "# end\n",
    "# wd_peri=filter(!isartifact, win)\n",
    "\n",
    "# #Freq Dom\n",
    "# # pre_spec = GMap(x -> spectra(x, 256, 512), wd_pre.(WC))\n",
    "peri_spec = GMap(x -> spectra(x, 256, 512), wd_peri.(WC))\n",
    "# # post_spec = GMap(x -> spectra(x, 256, 512), wd_post.(WC)) \n",
    "\n",
    "using DataFrames, DataFramesMeta\n",
    "\n",
    "event_spectra = DataFrame()\n",
    "\n",
    "event_spectra.rat = map(x -> window_lfp(inv(window_data)(x)).rat.name, WC)\n",
    "event_spectra.region = map(x -> window_data_region(x).name, WC)\n",
    "event_spectra.behavior_type = map(x -> window_data_event(x).behavior.name, WC)\n",
    "event_spectra.trial_type = map(x -> event_trial(window_data_event(x)).condition.name, WC)\n",
    "event_spectra.agent_type = map(x -> agenttype(event_trial(window_data_event(x)).condition), WC)\n",
    "specs = map(x -> spectra(x, 256, 512), WC)\n",
    "event_spectra.respiratory = map(x -> mean(x, (3, 12) .* 256 ./ 1010.1), specs)\n",
    "event_spectra.theta = map(x -> mean(x, (5, 10) .* 256 ./ 1010.1), specs)\n",
    "event_spectra.beta = map(x -> mean(x, (15, 35) .* 256 ./ 1010.1), specs)\n",
    "event_spectra.gamma_low = map(x -> mean(x, (50, 59) .* 256 ./ 1010.1), specs)\n",
    "event_spectra.gamma_high = map(x -> mean(x, (70, 100) .* 256 ./ 1010.1), specs)\n",
    "\n",
    "\n",
    "event_spectra = @subset(event_spectra, :trial_type .== \"Free Roam\", :region .∈ Ref([\"MOB\", \"Amygdala\", \"Ca2\"]))\n"
   ]
  },
  {
   "cell_type": "code",
   "execution_count": 14,
   "metadata": {},
   "outputs": [
    {
     "data": {
      "text/plain": [
       "330-element Vector{Int64}:\n",
       "    3\n",
       "    4\n",
       "   15\n",
       "   17\n",
       "   27\n",
       "   31\n",
       "   33\n",
       "   35\n",
       "   38\n",
       "   39\n",
       "   41\n",
       "   44\n",
       "   47\n",
       "    ⋮\n",
       "  993\n",
       "  995\n",
       "  998\n",
       " 1003\n",
       " 1005\n",
       " 1015\n",
       " 1023\n",
       " 1039\n",
       " 1043\n",
       " 1047\n",
       " 1048\n",
       " 1054"
      ]
     },
     "execution_count": 14,
     "metadata": {},
     "output_type": "execute_result"
    }
   ],
   "source": [
    "ratidx = rand(findall(x -> x == Rat, collect(event_spectra.agent_type)), 50)\n",
    "robotidx = rand(findall(x -> x == Robot, collect(event_spectra.agent_type)), 50\n",
    "objectidx = findall(x -> x == Object, collect(event_spectra.agent_type))\n",
    "\n",
    "esnull = copy(event_spectra)\n",
    "esnull.behavior_type = fill(\"null\", length(esnull.behavior_type))\n",
    "\n"
   ]
  },
  {
   "cell_type": "code",
   "execution_count": null,
   "metadata": {},
   "outputs": [],
   "source": [
    "using MixedModels, ProgressMeter\n",
    "ProgressMeter.ijulia_behavior(:append)"
   ]
  },
  {
   "cell_type": "markdown",
   "metadata": {},
   "source": [
    "1) It is also hypothesized that hippocampal theta oscillation will increase in amplitude during rearing, due to theta being an exploration related sensorimotor rhythm. This difference should also be present in amygdala (though may be due to volume conduction)."
   ]
  },
  {
   "cell_type": "code",
   "execution_count": null,
   "metadata": {},
   "outputs": [],
   "source": [
    "hyposub=@subset(event_spectra, :behavior_type .∈ Ref([\"null\",\"Rear\"]), :region.==\"Ca2\")\n",
    "fm=@formula(theta ~ 1 + behavior_type*1 + (1|rat))\n",
    "fm1 = fit(MixedModel,fm, hyposub, contrasts = Dict(:behavior_type => DummyCoding(;base=\"null\")))"
   ]
  },
  {
   "cell_type": "code",
   "execution_count": null,
   "metadata": {},
   "outputs": [],
   "source": [
    "hyposub=@subset(event_spectra, :behavior_type .∈ Ref([\"null\",\"Rear\"]), :region.==\"Amygdala\")\n",
    "fm=@formula(theta ~ 1 + behavior_type*1 + (1|rat))\n",
    "fm1 = fit(MixedModel,fm, hyposub, contrasts = Dict(:behavior_type => DummyCoding(;base=\"null\")))"
   ]
  },
  {
   "cell_type": "markdown",
   "metadata": {},
   "source": [
    "2. We expect that beta rhythms will be present when the animal is rearing, and not present during immobility. "
   ]
  },
  {
   "cell_type": "code",
   "execution_count": null,
   "metadata": {},
   "outputs": [],
   "source": [
    "hyposub=@subset(event_spectra, :behavior_type .∈ Ref([ \"null\",\"Rear\"]))\n",
    "fm=@formula(beta ~0+region+ behavior_type&region + zerocorr(0+region|rat))\n",
    "fm1 = fit(MixedModel,fm, hyposub, contrasts = Dict(:behavior_type => DummyCoding(;base=\"null\")))"
   ]
  },
  {
   "cell_type": "markdown",
   "metadata": {},
   "source": [
    "3. It is hypothesized that theta will show increased amplitude during behaviors associated with exploration like rearing, when compared with regulatory behaviors like grooming and immobility. This means that rearing will be significant different from immobility/grooming in both respiratory and theta rhythms in MOB, CA2, and Amyg. "
   ]
  },
  {
   "cell_type": "code",
   "execution_count": null,
   "metadata": {},
   "outputs": [],
   "source": [
    "hyposub=@subset(event_spectra, :behavior_type .∈ Ref([\"Immobility\",\"Groom\",\"Rear\"]))\n",
    "function fun(btype)\n",
    "    if btype .== \"Immobility\"\n",
    "        return \"Immobility & Groom\"\n",
    "    elseif btype .== \"Groom\"\n",
    "        return \"Immobility & Groom\"\n",
    "    else\n",
    "        return btype\n",
    "    end\n",
    "end\n",
    "@transform!(hyposub, @byrow :combined_behavior = fun(:behavior_type))\n",
    "fm=@formula(theta ~0+region+ combined_behavior&region + zerocorr(0+region|rat))\n",
    "fm1 = fit(MixedModel,fm, hyposub, contrasts = Dict(:combined_behavior => DummyCoding(;base=\"Immobility & Groom\")))"
   ]
  },
  {
   "cell_type": "code",
   "execution_count": null,
   "metadata": {},
   "outputs": [],
   "source": [
    "fm=@formula(respiratory ~0+region+ combined_behavior&region + zerocorr(0+region|rat))\n",
    "fm1 = fit(MixedModel,fm, hyposub, contrasts = Dict(:combined_behavior => DummyCoding(;base=\"Immobility & Groom\")))"
   ]
  },
  {
   "cell_type": "markdown",
   "metadata": {},
   "source": [
    "4. It is hypothesized that robot will elicit a higher low-gamma rhythm in MOB for the robot condition when compared with the object and rat conditions for immobility and grooming behaviors. \n"
   ]
  },
  {
   "cell_type": "code",
   "execution_count": null,
   "metadata": {},
   "outputs": [],
   "source": [
    "hyposub = @subset(event_spectra, :agent_type .∈ Ref([Rat, Robot, Object]), :region .== \"MOB\", :behavior_type .∈ Ref([\"Immobility\", \"Groom\", \"Rear\", \"null\"]))\n",
    "function afun(atype)\n",
    "    if atype .== Rat\n",
    "        return \"Rat & Object\"\n",
    "    elseif atype .== Object\n",
    "        return \"Rat & Object\"\n",
    "    else\n",
    "        return \"Robot\"\n",
    "    end\n",
    "end\n",
    "@transform!(hyposub, @byrow :combined_agent = afun(:agent_type))\n",
    "fm = @formula(gamma_low ~ 0 + behavior_type + combined_agent & behavior_type + (0 + 1 | rat))\n",
    "fm1 = fit(MixedModel, fm, hyposub, contrasts = Dict(:combined_agent => DummyCoding(; base = \"Rat & Object\")))"
   ]
  },
  {
   "cell_type": "code",
   "execution_count": null,
   "metadata": {},
   "outputs": [],
   "source": [
    "hyposub = @subset(event_spectra, :agent_type .∈ Ref([Rat, Robot, Object]), :region .== \"MOB\", :behavior_type .∈ Ref([\"Immobility\", \"Groom\", \"Rear\", \"null\"]))\n",
    "function afun(atype)\n",
    "    if atype .== Rat\n",
    "        return \"Rat & Object\"\n",
    "    elseif atype .== Object\n",
    "        return \"Rat & Object\"\n",
    "    else\n",
    "        return \"Robot\"\n",
    "    end\n",
    "end\n",
    "@transform!(hyposub, @byrow :combined_agent = afun(:agent_type))\n",
    "fm = @formula(gamma_low ~ 0 + behavior_type + combined_agent & behavior_type + (0 + 1 | rat))\n",
    "fm1 = fit(MixedModel, fm, hyposub, contrasts = Dict(:combined_agent => DummyCoding(; base = \"Rat & Object\")))"
   ]
  },
  {
   "cell_type": "markdown",
   "metadata": {},
   "source": [
    "5. High gamma amplitude should be highest for the rat condition in the MOB. The robot and object should have similar high gamma. But instead, it appears that the robot and rat high gamma is larger than the object, and there is no discernable difference between rat and robot high gamma in MOB. "
   ]
  },
  {
   "cell_type": "code",
   "execution_count": null,
   "metadata": {},
   "outputs": [],
   "source": [
    "hyposub = @subset(event_spectra, :agent_type .∈ Ref([Rat, Robot, Object]), :region .== \"MOB\", :behavior_type .∈ Ref([\"Immobility\", \"Groom\", \"Rear\", \"null\"]))\n",
    "function afun(atype)\n",
    "    if atype .== Rat\n",
    "        return \"Rat\"\n",
    "    elseif atype .== Object\n",
    "        return \"Object\"\n",
    "    else\n",
    "        return \"Robot\"\n",
    "    end\n",
    "end\n",
    "@transform!(hyposub, @byrow :agent_type = afun(:agent_type))\n",
    "fm = @formula(gamma_high ~ 0 + behavior_type + agent_type & behavior_type + (0 + 1 | rat))\n",
    "fm1 = fit(MixedModel, fm, hyposub, contrasts = Dict(:agent_type => DummyCoding(; base = \"Rat\")))\n"
   ]
  },
  {
   "cell_type": "code",
   "execution_count": null,
   "metadata": {},
   "outputs": [],
   "source": [
    "hyposub = @subset(event_spectra, :agent_type .∈ Ref([Rat, Robot, Object]), :region .== \"MOB\", :behavior_type .∈ Ref([\"Immobility\", \"Groom\", \"Rear\", \"null\"]))\n",
    "function afun(atype)\n",
    "    if atype .== Rat\n",
    "        return \"Rat\"\n",
    "    elseif atype .== Object\n",
    "        return \"Object\"\n",
    "    else\n",
    "        return \"Robot\"\n",
    "    end\n",
    "end\n",
    "@transform!(hyposub, @byrow :agent_type = afun(:agent_type))\n",
    "fm = @formula(gamma_low ~ 0 + behavior_type + agent_type & behavior_type + (0 + 1 | rat))\n",
    "fm1 = fit(MixedModel, fm, hyposub, contrasts = Dict(:agent_type => DummyCoding(; base = \"Robot\")))\n"
   ]
  },
  {
   "cell_type": "markdown",
   "metadata": {},
   "source": [
    "6. It is hypothesized that the amygdala beta rhythm shows a difference between grooming/immobility and rearing. It would be expected that immobility shows the least beta, with grooming showing some due to arm movements, and rearing showing the most. "
   ]
  },
  {
   "cell_type": "code",
   "execution_count": null,
   "metadata": {},
   "outputs": [],
   "source": [
    "hyposub = @subset(event_spectra, :behavior_type .∈ Ref([\"Immobility\", \"Groom\", \"Rear\"]), :region .== \"Amygdala\")\n",
    "function fun(btype)\n",
    "    if btype .== \"Immobility\"\n",
    "        return \"Immobility & Groom\"\n",
    "    elseif btype .== \"Groom\"\n",
    "        return \"Immobility & Groom\"\n",
    "    else\n",
    "        return btype\n",
    "    end\n",
    "end\n",
    "@transform!(hyposub, @byrow :combined_behavior = fun(:behavior_type))\n",
    "fm = @formula(beta ~ 1 + combined_behavior * 1 + (1 | rat))\n",
    "fm1 = fit(MixedModel, fm, hyposub, contrasts = Dict(:combined_behavior => DummyCoding(; base = \"Immobility & Groom\")))"
   ]
  },
  {
   "cell_type": "markdown",
   "metadata": {},
   "source": [
    "7.  For regulatory behaviors (grooming/immobility) there should be a shift to lower frequencies within the respiratory range and more low gamma, while exploratory behaviors should shift to theta frequency and high gamma (rearing, approach/retreat). "
   ]
  },
  {
   "cell_type": "code",
   "execution_count": null,
   "metadata": {},
   "outputs": [],
   "source": [
    "hyposub = @subset(event_spectra, :behavior_type .∈ Ref([\"Immobility\", \"Groom\", \"null\"]))\n",
    "function fun(btype)\n",
    "    if btype .== \"Immobility\"\n",
    "        return \"Immobility & Groom\"\n",
    "    elseif btype .== \"Groom\"\n",
    "        return \"Immobility & Groom\"\n",
    "    else\n",
    "        return btype\n",
    "    end\n",
    "end\n",
    "@transform!(hyposub, @byrow :combined_behavior = fun(:behavior_type))\n",
    "fm = @formula(theta ~ 0 + region + combined_behavior & region + zerocorr(0 + region | rat))\n",
    "fm1 = fit(MixedModel, fm, hyposub, contrasts = Dict(:combined_behavior => DummyCoding(; base = \"null\")))"
   ]
  },
  {
   "cell_type": "code",
   "execution_count": null,
   "metadata": {},
   "outputs": [],
   "source": [
    "hyposub = @subset(event_spectra, :behavior_type .∈ Ref([\"Immobility\", \"Groom\", \"null\"]))\n",
    "function fun(btype)\n",
    "    if btype .== \"Immobility\"\n",
    "        return \"Immobility & Groom\"\n",
    "    elseif btype .== \"Groom\"\n",
    "        return \"Immobility & Groom\"\n",
    "    else\n",
    "        return btype\n",
    "    end\n",
    "end\n",
    "@transform!(hyposub, @byrow :combined_behavior = fun(:behavior_type))\n",
    "fm = @formula(gamma_high ~ 0 + region + combined_behavior & region + zerocorr(0 + region | rat))\n",
    "fm1 = fit(MixedModel, fm, hyposub, contrasts = Dict(:combined_behavior => DummyCoding(; base = \"null\")))"
   ]
  },
  {
   "cell_type": "code",
   "execution_count": null,
   "metadata": {},
   "outputs": [],
   "source": [
    "hyposub = @subset(event_spectra, :agent_type .∈ Ref([Rat, Robot, Object]), :behavior_type .∈ Ref([\"Immobility\"]))\n",
    "function afun(atype)\n",
    "    if atype .== Rat\n",
    "        return \"Rat\"\n",
    "    elseif atype .== Object\n",
    "        return \"Object\"\n",
    "    else\n",
    "        return \"Robot\"\n",
    "    end\n",
    "end\n",
    "@transform!(hyposub, @byrow :agent_type = afun(:agent_type))\n",
    "fm=@formula(theta ~0+region+ agent_type&region + zerocorr(0+region|rat))\n",
    "fm1 = fit(MixedModel, fm, hyposub, contrasts = Dict(:agent_type => DummyCoding(; base = \"Rat\")))"
   ]
  },
  {
   "cell_type": "code",
   "execution_count": null,
   "metadata": {},
   "outputs": [],
   "source": [
    "hyposub = @subset(event_spectra, :agent_type .∈ Ref([Rat, Robot, Object]), :behavior_type .∈ Ref([\"Rear\"]))\n",
    "function afun(atype)\n",
    "    if atype .== Rat\n",
    "        return \"Rat\"\n",
    "    elseif atype .== Object\n",
    "        return \"Object\"\n",
    "    else\n",
    "        return \"Robot\"\n",
    "    end\n",
    "end\n",
    "@transform!(hyposub, @byrow :agent_type = afun(:agent_type))\n",
    "fm=@formula(theta ~0+region+ agent_type&region + zerocorr(0+region|rat))\n",
    "fm1 = fit(MixedModel, fm, hyposub, contrasts = Dict(:agent_type => DummyCoding(; base = \"Rat\")))"
   ]
  },
  {
   "cell_type": "code",
   "execution_count": null,
   "metadata": {},
   "outputs": [],
   "source": []
  }
 ],
 "metadata": {
  "interpreter": {
   "hash": "aee8b7b246df8f9039afb4144a1f6fd8d2ca17a180786b69acc140d282b71a49"
  },
  "kernelspec": {
   "display_name": "Julia 1.7.2",
   "language": "julia",
   "name": "julia-1.7"
  },
  "language_info": {
   "file_extension": ".jl",
   "mimetype": "application/julia",
   "name": "julia",
   "version": "1.7.2"
  },
  "orig_nbformat": 4
 },
 "nbformat": 4,
 "nbformat_minor": 2
}
