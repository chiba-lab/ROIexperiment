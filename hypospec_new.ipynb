{
 "cells": [
  {
   "cell_type": "code",
   "execution_count": 3,
   "metadata": {},
   "outputs": [
    {
     "data": {
      "text/html": [
       "<div class=\"data-frame\"><p>2,607 rows × 12 columns (omitted printing of 5 columns)</p><table class=\"data-frame\"><thead><tr><th></th><th>rat</th><th>region</th><th>trial_type</th><th>behavior_type</th><th>agent_type</th><th>trial_fam</th><th>receiver_fam</th></tr><tr><th></th><th title=\"String7\">String7</th><th title=\"String15\">String15</th><th title=\"String15\">String15</th><th title=\"String7\">String7</th><th title=\"String7\">String7</th><th title=\"String15\">String15</th><th title=\"String15\">String15</th></tr></thead><tbody><tr><th>1</th><td>RRSD17</td><td>Ca2</td><td>Interaction</td><td>Sniff</td><td>Rat</td><td>missing</td><td>Novel</td></tr><tr><th>2</th><td>RRSD28</td><td>Amygdala</td><td>Habituation</td><td>Sniff</td><td>Rat</td><td>Novel</td><td>Novel</td></tr><tr><th>3</th><td>RRSD18</td><td>Insula</td><td>Habituation</td><td>Sniff</td><td>Robot</td><td>Novel</td><td>Novel</td></tr><tr><th>4</th><td>RRSD18</td><td>Amygdala</td><td>Habituation</td><td>Sniff</td><td>Rat</td><td>Familiar</td><td>Familiar</td></tr><tr><th>5</th><td>RRSD17</td><td>Amygdala</td><td>Interaction</td><td>Sniff</td><td>Rat</td><td>missing</td><td>Novel</td></tr><tr><th>6</th><td>RRSD18</td><td>Amygdala</td><td>Interaction</td><td>Sniff</td><td>Object</td><td>missing</td><td>Familiar</td></tr><tr><th>7</th><td>RRSD18</td><td>Insula</td><td>Interaction</td><td>Sniff</td><td>Rat</td><td>missing</td><td>Familiar</td></tr><tr><th>8</th><td>RRSD18</td><td>Insula</td><td>Habituation</td><td>Sniff</td><td>Rat</td><td>Familiar</td><td>Familiar</td></tr><tr><th>9</th><td>RRSD18</td><td>Ca2</td><td>Interaction</td><td>Sniff</td><td>Rat</td><td>missing</td><td>Familiar</td></tr><tr><th>10</th><td>RRSD18</td><td>Ca2</td><td>Habituation</td><td>Sniff</td><td>Rat</td><td>Familiar</td><td>Familiar</td></tr><tr><th>11</th><td>RRSD18</td><td>Amygdala</td><td>Interaction</td><td>Sniff</td><td>Robot</td><td>missing</td><td>Novel</td></tr><tr><th>12</th><td>RRSD17</td><td>MOB</td><td>Free Roam</td><td>Sniff</td><td>Robot</td><td>Novel</td><td>Novel</td></tr><tr><th>13</th><td>RRSD28</td><td>Ca2</td><td>Habituation</td><td>Sniff</td><td>Rat</td><td>Familiar</td><td>Familiar</td></tr><tr><th>14</th><td>RRSD28</td><td>Insula</td><td>Interaction</td><td>Sniff</td><td>Rat</td><td>missing</td><td>Familiar</td></tr><tr><th>15</th><td>EG7</td><td>Insula</td><td>Habituation</td><td>Sniff</td><td>Rat</td><td>Familiar</td><td>Familiar</td></tr><tr><th>16</th><td>RRSD18</td><td>Insula</td><td>Habituation</td><td>Sniff</td><td>Rat</td><td>Familiar</td><td>Familiar</td></tr><tr><th>17</th><td>RRSD18</td><td>Amygdala</td><td>Habituation</td><td>Sniff</td><td>Rat</td><td>Familiar</td><td>Familiar</td></tr><tr><th>18</th><td>RRSD18</td><td>Ca2</td><td>Habituation</td><td>Sniff</td><td>Rat</td><td>Familiar</td><td>Familiar</td></tr><tr><th>19</th><td>RRSD18</td><td>Ca2</td><td>Habituation</td><td>Sniff</td><td>Rat</td><td>Familiar</td><td>Familiar</td></tr><tr><th>20</th><td>RRSD17</td><td>MOB</td><td>Free Roam</td><td>Sniff</td><td>Robot</td><td>Familiar</td><td>Familiar</td></tr><tr><th>21</th><td>RRSD28</td><td>MOB</td><td>Interaction</td><td>Sniff</td><td>Rat</td><td>missing</td><td>Novel</td></tr><tr><th>22</th><td>RRSD18</td><td>MOB</td><td>Habituation</td><td>Sniff</td><td>Robot</td><td>Familiar</td><td>Familiar</td></tr><tr><th>23</th><td>RRSD18</td><td>Ca2</td><td>Interaction</td><td>Sniff</td><td>Rat</td><td>missing</td><td>Novel</td></tr><tr><th>24</th><td>RRSD18</td><td>Amygdala</td><td>Habituation</td><td>Sniff</td><td>Rat</td><td>Familiar</td><td>Familiar</td></tr><tr><th>25</th><td>RRSD18</td><td>Ca2</td><td>Habituation</td><td>Sniff</td><td>Rat</td><td>Familiar</td><td>Familiar</td></tr><tr><th>26</th><td>RRSD28</td><td>Amygdala</td><td>Habituation</td><td>Sniff</td><td>Rat</td><td>Familiar</td><td>Familiar</td></tr><tr><th>27</th><td>RRSD18</td><td>Insula</td><td>Habituation</td><td>Sniff</td><td>Rat</td><td>Familiar</td><td>Familiar</td></tr><tr><th>28</th><td>RRSD18</td><td>Insula</td><td>Habituation</td><td>Sniff</td><td>Rat</td><td>Novel</td><td>Novel</td></tr><tr><th>29</th><td>RRSD28</td><td>Ca2</td><td>Interaction</td><td>Sniff</td><td>Rat</td><td>missing</td><td>Familiar</td></tr><tr><th>30</th><td>RRSD28</td><td>Ca2</td><td>Habituation</td><td>Sniff</td><td>Rat</td><td>Novel</td><td>Novel</td></tr><tr><th>&vellip;</th><td>&vellip;</td><td>&vellip;</td><td>&vellip;</td><td>&vellip;</td><td>&vellip;</td><td>&vellip;</td><td>&vellip;</td></tr></tbody></table></div>"
      ],
      "text/latex": [
       "\\begin{tabular}{r|cccccccc}\n",
       "\t& rat & region & trial\\_type & behavior\\_type & agent\\_type & trial\\_fam & receiver\\_fam & \\\\\n",
       "\t\\hline\n",
       "\t& String7 & String15 & String15 & String7 & String7 & String15 & String15 & \\\\\n",
       "\t\\hline\n",
       "\t1 & RRSD17 & Ca2 & Interaction & Sniff & Rat & missing & Novel & $\\dots$ \\\\\n",
       "\t2 & RRSD28 & Amygdala & Habituation & Sniff & Rat & Novel & Novel & $\\dots$ \\\\\n",
       "\t3 & RRSD18 & Insula & Habituation & Sniff & Robot & Novel & Novel & $\\dots$ \\\\\n",
       "\t4 & RRSD18 & Amygdala & Habituation & Sniff & Rat & Familiar & Familiar & $\\dots$ \\\\\n",
       "\t5 & RRSD17 & Amygdala & Interaction & Sniff & Rat & missing & Novel & $\\dots$ \\\\\n",
       "\t6 & RRSD18 & Amygdala & Interaction & Sniff & Object & missing & Familiar & $\\dots$ \\\\\n",
       "\t7 & RRSD18 & Insula & Interaction & Sniff & Rat & missing & Familiar & $\\dots$ \\\\\n",
       "\t8 & RRSD18 & Insula & Habituation & Sniff & Rat & Familiar & Familiar & $\\dots$ \\\\\n",
       "\t9 & RRSD18 & Ca2 & Interaction & Sniff & Rat & missing & Familiar & $\\dots$ \\\\\n",
       "\t10 & RRSD18 & Ca2 & Habituation & Sniff & Rat & Familiar & Familiar & $\\dots$ \\\\\n",
       "\t11 & RRSD18 & Amygdala & Interaction & Sniff & Robot & missing & Novel & $\\dots$ \\\\\n",
       "\t12 & RRSD17 & MOB & Free Roam & Sniff & Robot & Novel & Novel & $\\dots$ \\\\\n",
       "\t13 & RRSD28 & Ca2 & Habituation & Sniff & Rat & Familiar & Familiar & $\\dots$ \\\\\n",
       "\t14 & RRSD28 & Insula & Interaction & Sniff & Rat & missing & Familiar & $\\dots$ \\\\\n",
       "\t15 & EG7 & Insula & Habituation & Sniff & Rat & Familiar & Familiar & $\\dots$ \\\\\n",
       "\t16 & RRSD18 & Insula & Habituation & Sniff & Rat & Familiar & Familiar & $\\dots$ \\\\\n",
       "\t17 & RRSD18 & Amygdala & Habituation & Sniff & Rat & Familiar & Familiar & $\\dots$ \\\\\n",
       "\t18 & RRSD18 & Ca2 & Habituation & Sniff & Rat & Familiar & Familiar & $\\dots$ \\\\\n",
       "\t19 & RRSD18 & Ca2 & Habituation & Sniff & Rat & Familiar & Familiar & $\\dots$ \\\\\n",
       "\t20 & RRSD17 & MOB & Free Roam & Sniff & Robot & Familiar & Familiar & $\\dots$ \\\\\n",
       "\t21 & RRSD28 & MOB & Interaction & Sniff & Rat & missing & Novel & $\\dots$ \\\\\n",
       "\t22 & RRSD18 & MOB & Habituation & Sniff & Robot & Familiar & Familiar & $\\dots$ \\\\\n",
       "\t23 & RRSD18 & Ca2 & Interaction & Sniff & Rat & missing & Novel & $\\dots$ \\\\\n",
       "\t24 & RRSD18 & Amygdala & Habituation & Sniff & Rat & Familiar & Familiar & $\\dots$ \\\\\n",
       "\t25 & RRSD18 & Ca2 & Habituation & Sniff & Rat & Familiar & Familiar & $\\dots$ \\\\\n",
       "\t26 & RRSD28 & Amygdala & Habituation & Sniff & Rat & Familiar & Familiar & $\\dots$ \\\\\n",
       "\t27 & RRSD18 & Insula & Habituation & Sniff & Rat & Familiar & Familiar & $\\dots$ \\\\\n",
       "\t28 & RRSD18 & Insula & Habituation & Sniff & Rat & Novel & Novel & $\\dots$ \\\\\n",
       "\t29 & RRSD28 & Ca2 & Interaction & Sniff & Rat & missing & Familiar & $\\dots$ \\\\\n",
       "\t30 & RRSD28 & Ca2 & Habituation & Sniff & Rat & Novel & Novel & $\\dots$ \\\\\n",
       "\t$\\dots$ & $\\dots$ & $\\dots$ & $\\dots$ & $\\dots$ & $\\dots$ & $\\dots$ & $\\dots$ &  \\\\\n",
       "\\end{tabular}\n"
      ],
      "text/plain": [
       "\u001b[1m2607×12 DataFrame\u001b[0m\n",
       "\u001b[1m  Row \u001b[0m│\u001b[1m rat     \u001b[0m\u001b[1m region   \u001b[0m\u001b[1m trial_type  \u001b[0m\u001b[1m behavior_type \u001b[0m\u001b[1m agent_type \u001b[0m\u001b[1m trial_fam \u001b[0m\u001b[1m \u001b[0m ⋯\n",
       "\u001b[1m      \u001b[0m│\u001b[90m String7 \u001b[0m\u001b[90m String15 \u001b[0m\u001b[90m String15    \u001b[0m\u001b[90m String7       \u001b[0m\u001b[90m String7    \u001b[0m\u001b[90m String15  \u001b[0m\u001b[90m \u001b[0m ⋯\n",
       "──────┼─────────────────────────────────────────────────────────────────────────\n",
       "    1 │ RRSD17   Ca2       Interaction  Sniff          Rat         missing     ⋯\n",
       "    2 │ RRSD28   Amygdala  Habituation  Sniff          Rat         Novel\n",
       "    3 │ RRSD18   Insula    Habituation  Sniff          Robot       Novel\n",
       "    4 │ RRSD18   Amygdala  Habituation  Sniff          Rat         Familiar\n",
       "    5 │ RRSD17   Amygdala  Interaction  Sniff          Rat         missing     ⋯\n",
       "    6 │ RRSD18   Amygdala  Interaction  Sniff          Object      missing\n",
       "    7 │ RRSD18   Insula    Interaction  Sniff          Rat         missing\n",
       "    8 │ RRSD18   Insula    Habituation  Sniff          Rat         Familiar\n",
       "    9 │ RRSD18   Ca2       Interaction  Sniff          Rat         missing     ⋯\n",
       "   10 │ RRSD18   Ca2       Habituation  Sniff          Rat         Familiar\n",
       "   11 │ RRSD18   Amygdala  Interaction  Sniff          Robot       missing\n",
       "  ⋮   │    ⋮        ⋮           ⋮             ⋮            ⋮           ⋮       ⋱\n",
       " 2598 │ RRSD17   MOB       Interaction  Sniff          Rat         missing\n",
       " 2599 │ RRSD28   MOB       Interaction  Sniff          Rat         missing     ⋯\n",
       " 2600 │ RRSD17   MOB       Free Roam    Sniff          Robot       Familiar\n",
       " 2601 │ RRSD18   Amygdala  Habituation  Sniff          Rat         Familiar\n",
       " 2602 │ RRSD18   Insula    Habituation  Sniff          Rat         Familiar\n",
       " 2603 │ RRSD28   Ca2       Habituation  Sniff          Rat         Novel       ⋯\n",
       " 2604 │ RRSD18   Amygdala  Interaction  Sniff          Rat         missing\n",
       " 2605 │ RRSD18   MOB       Habituation  Sniff          Rat         Novel\n",
       " 2606 │ RRSD28   Insula    Habituation  Sniff          Robot       Familiar\n",
       " 2607 │ RRSD18   Ca2       Habituation  Sniff          Rat         Familiar    ⋯\n",
       "\u001b[36m                                                 6 columns and 2586 rows omitted\u001b[0m"
      ]
     },
     "execution_count": 3,
     "metadata": {},
     "output_type": "execute_result"
    }
   ],
   "source": [
    "using CSV, DataFrames, DataFramesMeta, MixedModels\n",
    "fbandtbl=DataFrame(CSV.File(\"TempData/FreqBandsTbl.csv\"))"
   ]
  },
  {
   "cell_type": "code",
   "execution_count": 38,
   "metadata": {},
   "outputs": [
    {
     "data": {
      "text/latex": [
       "\\begin{tabular}\n",
       "{l | r | r | r | r | r}\n",
       " & Est. & SE & z & p & $\\sigma_\\text{rat}$ \\\\\n",
       "\\hline\n",
       "(Intercept) & 0.0040 & 0.0008 & 5.31 & <1e-06 & 0.0015 \\\\\n",
       "agent\\_type: Object & 0.0008 & 0.0004 & 2.23 & 0.0261 &   \\\\\n",
       "agent\\_type: Robot & 0.0008 & 0.0003 & 2.89 & 0.0038 &   \\\\\n",
       "Residual & 0.0029 &  &  &  &  \\\\\n",
       "\\end{tabular}\n"
      ],
      "text/markdown": [
       "|                    |   Est. |     SE |    z |      p |  σ_rat |\n",
       "|:------------------ | ------:| ------:| ----:| ------:| ------:|\n",
       "| (Intercept)        | 0.0040 | 0.0008 | 5.31 | <1e-06 | 0.0015 |\n",
       "| agent_type: Object | 0.0008 | 0.0004 | 2.23 | 0.0261 |        |\n",
       "| agent_type: Robot  | 0.0008 | 0.0003 | 2.89 | 0.0038 |        |\n",
       "| Residual           | 0.0029 |        |      |        |        |\n"
      ],
      "text/plain": [
       "Linear mixed model fit by maximum likelihood\n",
       " low_gamma ~ 1 + agent_type + (1 | rat)\n",
       "   logLik   -2 logLik     AIC       AICc        BIC    \n",
       "  2581.4793 -5162.9585 -5152.9585 -5152.8547 -5131.1090\n",
       "\n",
       "Variance components:\n",
       "            Column    Variance  Std.Dev. \n",
       "rat      (Intercept)  0.0000021 0.0014611\n",
       "Residual              0.0000083 0.0028771\n",
       " Number of obs: 584; levels of grouping factors: 4\n",
       "\n",
       "  Fixed-effects parameters:\n",
       "────────────────────────────────────────────────────────────\n",
       "                          Coef.   Std. Error     z  Pr(>|z|)\n",
       "────────────────────────────────────────────────────────────\n",
       "(Intercept)         0.00401137   0.000754947  5.31    <1e-06\n",
       "agent_type: Object  0.000841516  0.000378169  2.23    0.0261\n",
       "agent_type: Robot   0.000823439  0.000284888  2.89    0.0038\n",
       "────────────────────────────────────────────────────────────"
      ]
     },
     "execution_count": 38,
     "metadata": {},
     "output_type": "execute_result"
    }
   ],
   "source": [
    "hyposub = @subset(fbandtbl, :agent_type .∈ Ref([\"Rat\", \"Robot\", \"Object\"]), :region .== \"MOB\")\n",
    "fm = @formula( low_gamma ~ 1 + agent_type + (1 | rat))\n",
    "M = fit(MixedModel, fm, hyposub, contrasts = Dict(:agent_type => DummyCoding(; base = \"Rat\")))"
   ]
  },
  {
   "cell_type": "code",
   "execution_count": 36,
   "metadata": {},
   "outputs": [
    {
     "data": {
      "text/html": [
       "<div class=\"data-frame\"><p>477 rows × 12 columns (omitted printing of 5 columns)</p><table class=\"data-frame\"><thead><tr><th></th><th>rat</th><th>region</th><th>trial_type</th><th>behavior_type</th><th>agent_type</th><th>trial_fam</th><th>receiver_fam</th></tr><tr><th></th><th title=\"String7\">String7</th><th title=\"String15\">String15</th><th title=\"String15\">String15</th><th title=\"String\">String</th><th title=\"String7\">String7</th><th title=\"String15\">String15</th><th title=\"String15\">String15</th></tr></thead><tbody><tr><th>1</th><td>RRSD17</td><td>MOB</td><td>Free Roam</td><td>Sniff</td><td>Robot</td><td>Novel</td><td>Novel</td></tr><tr><th>2</th><td>RRSD17</td><td>MOB</td><td>Free Roam</td><td>Sniff</td><td>Robot</td><td>Familiar</td><td>Familiar</td></tr><tr><th>3</th><td>RRSD28</td><td>MOB</td><td>Interaction</td><td>Sniff</td><td>Rat</td><td>missing</td><td>Novel</td></tr><tr><th>4</th><td>RRSD18</td><td>MOB</td><td>Habituation</td><td>Sniff</td><td>Robot</td><td>Familiar</td><td>Familiar</td></tr><tr><th>5</th><td>RRSD28</td><td>MOB</td><td>Interaction</td><td>Sniff</td><td>Rat</td><td>missing</td><td>Familiar</td></tr><tr><th>6</th><td>RRSD28</td><td>MOB</td><td>Habituation</td><td>Sniff</td><td>Object</td><td>Familiar</td><td>Familiar</td></tr><tr><th>7</th><td>RRSD28</td><td>MOB</td><td>Free Roam</td><td>Sniff</td><td>Robot</td><td>Familiar</td><td>Familiar</td></tr><tr><th>8</th><td>RRSD17</td><td>MOB</td><td>Interaction</td><td>Sniff</td><td>Rat</td><td>missing</td><td>Familiar</td></tr><tr><th>9</th><td>RRSD17</td><td>MOB</td><td>Interaction</td><td>Sniff</td><td>Rat</td><td>missing</td><td>Novel</td></tr><tr><th>10</th><td>RRSD17</td><td>MOB</td><td>Free Roam</td><td>Sniff</td><td>Robot</td><td>Novel</td><td>Novel</td></tr><tr><th>11</th><td>RRSD28</td><td>MOB</td><td>Interaction</td><td>Sniff</td><td>Rat</td><td>missing</td><td>Familiar</td></tr><tr><th>12</th><td>RRSD28</td><td>MOB</td><td>Habituation</td><td>Sniff</td><td>Rat</td><td>Familiar</td><td>Familiar</td></tr><tr><th>13</th><td>RRSD17</td><td>MOB</td><td>Interaction</td><td>Sniff</td><td>Rat</td><td>missing</td><td>Novel</td></tr><tr><th>14</th><td>RRSD17</td><td>MOB</td><td>Interaction</td><td>Sniff</td><td>Rat</td><td>missing</td><td>Familiar</td></tr><tr><th>15</th><td>RRSD28</td><td>MOB</td><td>Habituation</td><td>Sniff</td><td>Robot</td><td>Familiar</td><td>Familiar</td></tr><tr><th>16</th><td>RRSD17</td><td>MOB</td><td>Free Roam</td><td>Sniff</td><td>Robot</td><td>Novel</td><td>Novel</td></tr><tr><th>17</th><td>RRSD28</td><td>MOB</td><td>Habituation</td><td>Sniff</td><td>Rat</td><td>Novel</td><td>Novel</td></tr><tr><th>18</th><td>RRSD17</td><td>MOB</td><td>Free Roam</td><td>Sniff</td><td>Robot</td><td>Familiar</td><td>Familiar</td></tr><tr><th>19</th><td>RRSD17</td><td>MOB</td><td>Interaction</td><td>Sniff</td><td>Rat</td><td>missing</td><td>Novel</td></tr><tr><th>20</th><td>RRSD18</td><td>MOB</td><td>Interaction</td><td>Sniff</td><td>Rat</td><td>missing</td><td>Novel</td></tr><tr><th>21</th><td>RRSD18</td><td>MOB</td><td>Habituation</td><td>Sniff</td><td>Rat</td><td>Familiar</td><td>Familiar</td></tr><tr><th>22</th><td>RRSD28</td><td>MOB</td><td>Habituation</td><td>Sniff</td><td>Object</td><td>Novel</td><td>Novel</td></tr><tr><th>23</th><td>RRSD18</td><td>MOB</td><td>Habituation</td><td>Sniff</td><td>Object</td><td>Familiar</td><td>Familiar</td></tr><tr><th>24</th><td>RRSD17</td><td>MOB</td><td>Interaction</td><td>Sniff</td><td>Rat</td><td>missing</td><td>Familiar</td></tr><tr><th>25</th><td>RRSD18</td><td>MOB</td><td>Habituation</td><td>Sniff</td><td>Robot</td><td>Novel</td><td>Novel</td></tr><tr><th>26</th><td>RRSD17</td><td>MOB</td><td>Interaction</td><td>Sniff</td><td>Rat</td><td>missing</td><td>Novel</td></tr><tr><th>27</th><td>RRSD17</td><td>MOB</td><td>Interaction</td><td>Sniff</td><td>Rat</td><td>missing</td><td>Novel</td></tr><tr><th>28</th><td>RRSD17</td><td>MOB</td><td>Interaction</td><td>Sniff</td><td>Rat</td><td>missing</td><td>Novel</td></tr><tr><th>29</th><td>RRSD17</td><td>MOB</td><td>Interaction</td><td>Sniff</td><td>Robot</td><td>missing</td><td>Novel</td></tr><tr><th>30</th><td>RRSD18</td><td>MOB</td><td>Habituation</td><td>Sniff</td><td>Rat</td><td>Familiar</td><td>Familiar</td></tr><tr><th>&vellip;</th><td>&vellip;</td><td>&vellip;</td><td>&vellip;</td><td>&vellip;</td><td>&vellip;</td><td>&vellip;</td><td>&vellip;</td></tr></tbody></table></div>"
      ],
      "text/latex": [
       "\\begin{tabular}{r|cccccccc}\n",
       "\t& rat & region & trial\\_type & behavior\\_type & agent\\_type & trial\\_fam & receiver\\_fam & \\\\\n",
       "\t\\hline\n",
       "\t& String7 & String15 & String15 & String & String7 & String15 & String15 & \\\\\n",
       "\t\\hline\n",
       "\t1 & RRSD17 & MOB & Free Roam & Sniff & Robot & Novel & Novel & $\\dots$ \\\\\n",
       "\t2 & RRSD17 & MOB & Free Roam & Sniff & Robot & Familiar & Familiar & $\\dots$ \\\\\n",
       "\t3 & RRSD28 & MOB & Interaction & Sniff & Rat & missing & Novel & $\\dots$ \\\\\n",
       "\t4 & RRSD18 & MOB & Habituation & Sniff & Robot & Familiar & Familiar & $\\dots$ \\\\\n",
       "\t5 & RRSD28 & MOB & Interaction & Sniff & Rat & missing & Familiar & $\\dots$ \\\\\n",
       "\t6 & RRSD28 & MOB & Habituation & Sniff & Object & Familiar & Familiar & $\\dots$ \\\\\n",
       "\t7 & RRSD28 & MOB & Free Roam & Sniff & Robot & Familiar & Familiar & $\\dots$ \\\\\n",
       "\t8 & RRSD17 & MOB & Interaction & Sniff & Rat & missing & Familiar & $\\dots$ \\\\\n",
       "\t9 & RRSD17 & MOB & Interaction & Sniff & Rat & missing & Novel & $\\dots$ \\\\\n",
       "\t10 & RRSD17 & MOB & Free Roam & Sniff & Robot & Novel & Novel & $\\dots$ \\\\\n",
       "\t11 & RRSD28 & MOB & Interaction & Sniff & Rat & missing & Familiar & $\\dots$ \\\\\n",
       "\t12 & RRSD28 & MOB & Habituation & Sniff & Rat & Familiar & Familiar & $\\dots$ \\\\\n",
       "\t13 & RRSD17 & MOB & Interaction & Sniff & Rat & missing & Novel & $\\dots$ \\\\\n",
       "\t14 & RRSD17 & MOB & Interaction & Sniff & Rat & missing & Familiar & $\\dots$ \\\\\n",
       "\t15 & RRSD28 & MOB & Habituation & Sniff & Robot & Familiar & Familiar & $\\dots$ \\\\\n",
       "\t16 & RRSD17 & MOB & Free Roam & Sniff & Robot & Novel & Novel & $\\dots$ \\\\\n",
       "\t17 & RRSD28 & MOB & Habituation & Sniff & Rat & Novel & Novel & $\\dots$ \\\\\n",
       "\t18 & RRSD17 & MOB & Free Roam & Sniff & Robot & Familiar & Familiar & $\\dots$ \\\\\n",
       "\t19 & RRSD17 & MOB & Interaction & Sniff & Rat & missing & Novel & $\\dots$ \\\\\n",
       "\t20 & RRSD18 & MOB & Interaction & Sniff & Rat & missing & Novel & $\\dots$ \\\\\n",
       "\t21 & RRSD18 & MOB & Habituation & Sniff & Rat & Familiar & Familiar & $\\dots$ \\\\\n",
       "\t22 & RRSD28 & MOB & Habituation & Sniff & Object & Novel & Novel & $\\dots$ \\\\\n",
       "\t23 & RRSD18 & MOB & Habituation & Sniff & Object & Familiar & Familiar & $\\dots$ \\\\\n",
       "\t24 & RRSD17 & MOB & Interaction & Sniff & Rat & missing & Familiar & $\\dots$ \\\\\n",
       "\t25 & RRSD18 & MOB & Habituation & Sniff & Robot & Novel & Novel & $\\dots$ \\\\\n",
       "\t26 & RRSD17 & MOB & Interaction & Sniff & Rat & missing & Novel & $\\dots$ \\\\\n",
       "\t27 & RRSD17 & MOB & Interaction & Sniff & Rat & missing & Novel & $\\dots$ \\\\\n",
       "\t28 & RRSD17 & MOB & Interaction & Sniff & Rat & missing & Novel & $\\dots$ \\\\\n",
       "\t29 & RRSD17 & MOB & Interaction & Sniff & Robot & missing & Novel & $\\dots$ \\\\\n",
       "\t30 & RRSD18 & MOB & Habituation & Sniff & Rat & Familiar & Familiar & $\\dots$ \\\\\n",
       "\t$\\dots$ & $\\dots$ & $\\dots$ & $\\dots$ & $\\dots$ & $\\dots$ & $\\dots$ & $\\dots$ &  \\\\\n",
       "\\end{tabular}\n"
      ],
      "text/plain": [
       "\u001b[1m477×12 DataFrame\u001b[0m\n",
       "\u001b[1m Row \u001b[0m│\u001b[1m rat     \u001b[0m\u001b[1m region   \u001b[0m\u001b[1m trial_type  \u001b[0m\u001b[1m behavior_type \u001b[0m\u001b[1m agent_type \u001b[0m\u001b[1m trial_fam \u001b[0m\u001b[1m r\u001b[0m ⋯\n",
       "\u001b[1m     \u001b[0m│\u001b[90m String7 \u001b[0m\u001b[90m String15 \u001b[0m\u001b[90m String15    \u001b[0m\u001b[90m String        \u001b[0m\u001b[90m String7    \u001b[0m\u001b[90m String15  \u001b[0m\u001b[90m S\u001b[0m ⋯\n",
       "─────┼──────────────────────────────────────────────────────────────────────────\n",
       "   1 │ RRSD17   MOB       Free Roam    Sniff          Robot       Novel      N ⋯\n",
       "   2 │ RRSD17   MOB       Free Roam    Sniff          Robot       Familiar   F\n",
       "   3 │ RRSD28   MOB       Interaction  Sniff          Rat         missing    N\n",
       "   4 │ RRSD18   MOB       Habituation  Sniff          Robot       Familiar   F\n",
       "   5 │ RRSD28   MOB       Interaction  Sniff          Rat         missing    F ⋯\n",
       "   6 │ RRSD28   MOB       Habituation  Sniff          Object      Familiar   F\n",
       "   7 │ RRSD28   MOB       Free Roam    Sniff          Robot       Familiar   F\n",
       "   8 │ RRSD17   MOB       Interaction  Sniff          Rat         missing    F\n",
       "   9 │ RRSD17   MOB       Interaction  Sniff          Rat         missing    N ⋯\n",
       "  10 │ RRSD17   MOB       Free Roam    Sniff          Robot       Novel      N\n",
       "  11 │ RRSD28   MOB       Interaction  Sniff          Rat         missing    F\n",
       "  ⋮  │    ⋮        ⋮           ⋮             ⋮            ⋮           ⋮        ⋱\n",
       " 468 │ RRSD17   MOB       Free Roam    null           Robot       Familiar   F\n",
       " 469 │ RRSD17   MOB       Free Roam    null           Robot       Novel      N ⋯\n",
       " 470 │ RRSD17   MOB       Interaction  null           Robot       missing    N\n",
       " 471 │ RRSD17   MOB       Interaction  null           Robot       missing    N\n",
       " 472 │ RRSD28   MOB       Habituation  null           Object      missing    N\n",
       " 473 │ RRSD18   MOB       Habituation  null           Object      Familiar   F ⋯\n",
       " 474 │ RRSD28   MOB       Habituation  null           Object      Novel      N\n",
       " 475 │ RRSD18   MOB       Habituation  null           Object      Familiar   F\n",
       " 476 │ RRSD18   MOB       Habituation  null           Object      Familiar   F\n",
       " 477 │ RRSD18   MOB       Habituation  null           Object      Familiar   F ⋯\n",
       "\u001b[36m                                                  6 columns and 456 rows omitted\u001b[0m"
      ]
     },
     "execution_count": 36,
     "metadata": {},
     "output_type": "execute_result"
    }
   ],
   "source": [
    "hyposub = @subset(fbandtbl, :region .== \"MOB\")"
   ]
  },
  {
   "cell_type": "code",
   "execution_count": 8,
   "metadata": {},
   "outputs": [
    {
     "data": {
      "text/latex": [
       "\\begin{tabular}\n",
       "{l | r | r | r | r | r}\n",
       " & Est. & SE & z & p & $\\sigma_\\text{rat}$ \\\\\n",
       "\\hline\n",
       "(Intercept) & 0.0036 & 0.0008 & 4.37 & <1e-04 & 0.0016 \\\\\n",
       "receiver\\_fam: Novel & 0.0009 & 0.0004 & 2.35 & 0.0188 &   \\\\\n",
       "Residual & 0.0028 &  &  &  &  \\\\\n",
       "\\end{tabular}\n"
      ],
      "text/markdown": [
       "|                     |   Est. |     SE |    z |      p |  σ_rat |\n",
       "|:------------------- | ------:| ------:| ----:| ------:| ------:|\n",
       "| (Intercept)         | 0.0036 | 0.0008 | 4.37 | <1e-04 | 0.0016 |\n",
       "| receiver_fam: Novel | 0.0009 | 0.0004 | 2.35 | 0.0188 |        |\n",
       "| Residual            | 0.0028 |        |      |        |        |\n"
      ],
      "text/plain": [
       "Linear mixed model fit by maximum likelihood\n",
       " low_gamma ~ 1 + receiver_fam + (1 | rat)\n",
       "   logLik   -2 logLik     AIC       AICc        BIC    \n",
       "  1091.4539 -2182.9077 -2174.9077 -2174.7417 -2160.8864\n",
       "\n",
       "Variance components:\n",
       "            Column    Variance   Std.Dev.  \n",
       "rat      (Intercept)  0.00000245 0.00156370\n",
       "Residual              0.00000782 0.00279643\n",
       " Number of obs: 246; levels of grouping factors: 4\n",
       "\n",
       "  Fixed-effects parameters:\n",
       "─────────────────────────────────────────────────────────────\n",
       "                           Coef.   Std. Error     z  Pr(>|z|)\n",
       "─────────────────────────────────────────────────────────────\n",
       "(Intercept)          0.00360806   0.000824977  4.37    <1e-04\n",
       "receiver_fam: Novel  0.000943852  0.00040188   2.35    0.0188\n",
       "─────────────────────────────────────────────────────────────"
      ]
     },
     "execution_count": 8,
     "metadata": {},
     "output_type": "execute_result"
    }
   ],
   "source": [
    "hyposub = @subset(fbandtbl, :agent_type .∈ Ref([\"Rat\"]), :region .== \"MOB\", :receiver_fam .∈ Ref([ \"Novel\", \"Familiar\"]))\n",
    "fm = @formula( low_gamma ~ 1 + receiver_fam + (1 | rat))\n",
    "M = fit(MixedModel, fm, hyposub, contrasts = Dict(:receiver_fam => DummyCoding(; base = \"Familiar\")))"
   ]
  },
  {
   "cell_type": "code",
   "execution_count": null,
   "metadata": {},
   "outputs": [],
   "source": []
  }
 ],
 "metadata": {
  "kernelspec": {
   "display_name": "Julia 1.7.2",
   "language": "julia",
   "name": "julia-1.7"
  },
  "language_info": {
   "file_extension": ".jl",
   "mimetype": "application/julia",
   "name": "julia",
   "version": "1.7.2"
  },
  "orig_nbformat": 4
 },
 "nbformat": 4,
 "nbformat_minor": 2
}
