{
 "cells": [
  {
   "cell_type": "code",
   "execution_count": null,
   "metadata": {},
   "outputs": [],
   "source": [
    "include(\"./ROIontology.jl\")\n",
    "\n",
    "\n",
    "ROIexp = load(\"./Data/ROIexp.jld2\", \"ROIexp\");\n",
    "lfp = ROIexp[:lfp_data]\n",
    "events = ROIexp[:behavioral_events]\n",
    "trials = ROIexp[:trials]\n",
    "sessions = ROIexp[:sessions]\n",
    "\n",
    "include(\"./Links.jl\")\n",
    "\n",
    "const WD = filter(x -> window_data_event(window_data(x)) ∈ dom(event_trial), collect(dom(window_data)))\n",
    "const WC = filter(x -> window_data_event(x) ∈ dom(event_trial), collect(codom(window_data)))"
   ]
  },
  {
   "cell_type": "code",
   "execution_count": null,
   "metadata": {},
   "outputs": [],
   "source": [
    "\n",
    "using FourierAnalysis\n",
    "\n",
    "# WT = event_trial∘window_data_event\n",
    "# using JLD2 \n",
    "# @save \"TempData/event_lfp_windows_1_1.jld2\"  WC\n",
    "#split events into pre-peri-post with 512 sample pre and post windows\n",
    "#events shorter than 512 are expanded\n",
    "# wd_pre = GMap(x -> x[498:1010], WC)\n",
    "wd_peri = GMap(x -> length(x) <= 2532 ? x[round(Int, length(x) / 2)-256:round(Int, length(x) / 2)+256] : x[1010:end-1010], WC)\n",
    "# wd_post = GMap(x -> x[end-1010:end-498], WC)\n",
    "\n",
    "# #Freq Dom\n",
    "# # pre_spec = GMap(x -> spectra(x, 256, 512), wd_pre.(WC))\n",
    "peri_spec = GMap(x -> spectra(x, 256, 512), wd_peri.(WC))\n",
    "# # post_spec = GMap(x -> spectra(x, 256, 512), wd_post.(WC)) \n",
    "\n",
    "using DataFrames, DataFramesMeta\n",
    "\n",
    "event_spectra = DataFrame()\n",
    "\n",
    "event_spectra.rat = map(x -> window_lfp(inv(window_data)(x)).rat.name, WC)\n",
    "event_spectra.region = map(x -> window_data_region(x).name, WC)\n",
    "event_spectra.behavior_type = map(x -> window_data_event(x).behavior.name, WC)\n",
    "event_spectra.trial_type = map(x -> event_trial(window_data_event(x)).condition.name, WC)\n",
    "event_spectra.agent_type = map(x -> agenttype(event_trial(window_data_event(x)).condition), WC)\n",
    "specs = map(x -> spectra(x, 256, 512), WC)\n",
    "event_spectra.respiratory = map(x -> mean(x, (3, 12) .* 256 ./1010.1), specs)\n",
    "event_spectra.theta = map(x -> mean(x, (5, 10) .* 256 ./1010.1), specs)\n",
    "event_spectra.beta = map(x -> mean(x, (15, 35) .* 256 ./1010.1), specs)\n",
    "event_spectra.gamma_low = map(x -> mean(x, (50, 59) .* 256 ./1010.1), specs)\n",
    "event_spectra.gamma_high = map(x -> mean(x, (70, 100) .* 256 ./1010.1), specs)\n",
    "\n",
    "esnull = copy(event_spectra)\n",
    "esnull.behavior_type = fill(\"null\", length(esnull.behavior_type))\n",
    "\n",
    "event_spectra = vcat(event_spectra, esnull)\n"
   ]
  },
  {
   "cell_type": "code",
   "execution_count": 72,
   "metadata": {},
   "outputs": [
    {
     "data": {
      "text/plain": [
       "IJuliaAppend::IJuliaBehavior = 2"
      ]
     },
     "execution_count": 72,
     "metadata": {},
     "output_type": "execute_result"
    }
   ],
   "source": [
    "using MixedModels, ProgressMeter\n",
    "ProgressMeter.ijulia_behavior(:append)"
   ]
  },
  {
   "cell_type": "markdown",
   "metadata": {},
   "source": [
    "1) It is also hypothesized that hippocampal theta oscillation will increase in amplitude during rearing, due to theta being an exploration related sensorimotor rhythm. This difference should also be present in amygdala (though may be due to volume conduction)."
   ]
  },
  {
   "cell_type": "code",
   "execution_count": 73,
   "metadata": {},
   "outputs": [
    {
     "data": {
      "text/latex": [
       "\\begin{tabular}\n",
       "{l | r | r | r | r | r}\n",
       " & Est. & SE & z & p & $\\sigma_\\text{rat}$ \\\\\n",
       "\\hline\n",
       "(Intercept) & 0.0051 & 0.0003 & 15.81 & <1e-55 & 0.0006 \\\\\n",
       "behavior\\_type: Rear & 0.0004 & 0.0001 & 6.65 & <1e-10 &   \\\\\n",
       "Residual & 0.0017 &  &  &  &  \\\\\n",
       "\\end{tabular}\n"
      ],
      "text/markdown": [
       "|                     |   Est. |     SE |     z |      p |  σ_rat |\n",
       "|:------------------- | ------:| ------:| -----:| ------:| ------:|\n",
       "| (Intercept)         | 0.0051 | 0.0003 | 15.81 | <1e-55 | 0.0006 |\n",
       "| behavior_type: Rear | 0.0004 | 0.0001 |  6.65 | <1e-10 |        |\n",
       "| Residual            | 0.0017 |        |       |        |        |\n"
      ],
      "text/plain": [
       "Linear mixed model fit by maximum likelihood\n",
       " theta ~ 1 + behavior_type + (1 | rat)\n",
       "    logLik   -2 logLik      AIC         AICc        BIC     \n",
       "  20130.6549 -40261.3098 -40253.3098 -40253.3000 -40228.0691\n",
       "\n",
       "Variance components:\n",
       "            Column     Variance    Std.Dev.  \n",
       "rat      (Intercept)  0.000000399 0.000631971\n",
       "Residual              0.000002912 0.001706503\n",
       " Number of obs: 4065; levels of grouping factors: 4\n",
       "\n",
       "  Fixed-effects parameters:\n",
       "──────────────────────────────────────────────────────────────\n",
       "                           Coef.   Std. Error      z  Pr(>|z|)\n",
       "──────────────────────────────────────────────────────────────\n",
       "(Intercept)          0.00505132   0.000319554  15.81    <1e-55\n",
       "behavior_type: Rear  0.000402064  6.04637e-5    6.65    <1e-10\n",
       "──────────────────────────────────────────────────────────────"
      ]
     },
     "execution_count": 73,
     "metadata": {},
     "output_type": "execute_result"
    }
   ],
   "source": [
    "hyposub=@subset(event_spectra, :behavior_type .∈ Ref([\"null\",\"Rear\"]), :region.==\"Ca2\")\n",
    "fm=@formula(theta ~ 1 + behavior_type*1 + (1|rat))\n",
    "fm1 = fit(MixedModel,fm, hyposub, contrasts = Dict(:behavior_type => DummyCoding(;base=\"null\")))"
   ]
  },
  {
   "cell_type": "code",
   "execution_count": 74,
   "metadata": {},
   "outputs": [
    {
     "data": {
      "text/latex": [
       "\\begin{tabular}\n",
       "{l | r | r | r | r | r}\n",
       " & Est. & SE & z & p & $\\sigma_\\text{rat}$ \\\\\n",
       "\\hline\n",
       "(Intercept) & 0.0014 & 0.0002 & 8.16 & <1e-15 & 0.0004 \\\\\n",
       "behavior\\_type: Rear & 0.0001 & 0.0000 & 5.75 & <1e-08 &   \\\\\n",
       "Residual & 0.0003 &  &  &  &  \\\\\n",
       "\\end{tabular}\n"
      ],
      "text/markdown": [
       "|                     |   Est. |     SE |    z |      p |  σ_rat |\n",
       "|:------------------- | ------:| ------:| ----:| ------:| ------:|\n",
       "| (Intercept)         | 0.0014 | 0.0002 | 8.16 | <1e-15 | 0.0004 |\n",
       "| behavior_type: Rear | 0.0001 | 0.0000 | 5.75 | <1e-08 |        |\n",
       "| Residual            | 0.0003 |        |      |        |        |\n"
      ],
      "text/plain": [
       "Linear mixed model fit by maximum likelihood\n",
       " theta ~ 1 + behavior_type + (1 | rat)\n",
       "    logLik   -2 logLik      AIC         AICc        BIC     \n",
       "  29453.0284 -58906.0569 -58898.0569 -58898.0479 -58872.4354\n",
       "\n",
       "Variance components:\n",
       "            Column     Variance    Std.Dev.  \n",
       "rat      (Intercept)  0.000000123 0.000350949\n",
       "Residual              0.000000110 0.000332296\n",
       " Number of obs: 4471; levels of grouping factors: 4\n",
       "\n",
       "  Fixed-effects parameters:\n",
       "────────────────────────────────────────────────────────────\n",
       "                          Coef.   Std. Error     z  Pr(>|z|)\n",
       "────────────────────────────────────────────────────────────\n",
       "(Intercept)          0.00143294  0.000175702  8.16    <1e-15\n",
       "behavior_type: Rear  6.55203e-5  1.13912e-5   5.75    <1e-08\n",
       "────────────────────────────────────────────────────────────"
      ]
     },
     "execution_count": 74,
     "metadata": {},
     "output_type": "execute_result"
    }
   ],
   "source": [
    "hyposub=@subset(event_spectra, :behavior_type .∈ Ref([\"null\",\"Rear\"]), :region.==\"Amygdala\")\n",
    "fm=@formula(theta ~ 1 + behavior_type*1 + (1|rat))\n",
    "fm1 = fit(MixedModel,fm, hyposub, contrasts = Dict(:behavior_type => DummyCoding(;base=\"null\")))"
   ]
  },
  {
   "cell_type": "markdown",
   "metadata": {},
   "source": [
    "2. We expect that beta rhythms will be present when the animal is rearing, and not present during immobility. "
   ]
  },
  {
   "cell_type": "code",
   "execution_count": 75,
   "metadata": {},
   "outputs": [
    {
     "data": {
      "text/latex": [
       "\\begin{tabular}\n",
       "{l | r | r | r | r | r}\n",
       " & Est. & SE & z & p & $\\sigma_\\text{rat}$ \\\\\n",
       "\\hline\n",
       "region: Amygdala & 0.0002 & 0.0000 & 13.12 & <1e-38 & 0.0000 \\\\\n",
       "region: Ca2 & 0.0004 & 0.0000 & 9.41 & <1e-20 & 0.0001 \\\\\n",
       "region: Insula & 0.0001 & 0.0000 & 7.05 & <1e-11 & 0.0000 \\\\\n",
       "region: MOB & 0.0010 & 0.0002 & 5.05 & <1e-06 & 0.0004 \\\\\n",
       "behavior\\_type: Rear \\& region: Amygdala & 0.0000 & 0.0000 & 0.80 & 0.4214 &   \\\\\n",
       "behavior\\_type: Rear \\& region: Ca2 & 0.0000 & 0.0000 & 3.83 & 0.0001 &   \\\\\n",
       "behavior\\_type: Rear \\& region: Insula & 0.0000 & 0.0000 & 0.08 & 0.9350 &   \\\\\n",
       "behavior\\_type: Rear \\& region: MOB & 0.0000 & 0.0000 & 1.10 & 0.2722 &   \\\\\n",
       "Residual & 0.0002 &  &  &  &  \\\\\n",
       "\\end{tabular}\n"
      ],
      "text/markdown": [
       "|                                        |   Est. |     SE |     z |      p |  σ_rat |\n",
       "|:-------------------------------------- | ------:| ------:| -----:| ------:| ------:|\n",
       "| region: Amygdala                       | 0.0002 | 0.0000 | 13.12 | <1e-38 | 0.0000 |\n",
       "| region: Ca2                            | 0.0004 | 0.0000 |  9.41 | <1e-20 | 0.0001 |\n",
       "| region: Insula                         | 0.0001 | 0.0000 |  7.05 | <1e-11 | 0.0000 |\n",
       "| region: MOB                            | 0.0010 | 0.0002 |  5.05 | <1e-06 | 0.0004 |\n",
       "| behavior_type: Rear & region: Amygdala | 0.0000 | 0.0000 |  0.80 | 0.4214 |        |\n",
       "| behavior_type: Rear & region: Ca2      | 0.0000 | 0.0000 |  3.83 | 0.0001 |        |\n",
       "| behavior_type: Rear & region: Insula   | 0.0000 | 0.0000 |  0.08 | 0.9350 |        |\n",
       "| behavior_type: Rear & region: MOB      | 0.0000 | 0.0000 |  1.10 | 0.2722 |        |\n",
       "| Residual                               | 0.0002 |        |       |        |        |\n"
      ],
      "text/plain": [
       "Linear mixed model fit by maximum likelihood\n",
       " beta ~ 0 + region + behavior_type & region + MixedModels.ZeroCorr((0 + region | rat))\n",
       "    logLik     -2 logLik       AIC         AICc          BIC     \n",
       "  110551.9506 -221103.9011 -221077.9011 -221077.8774 -220978.6136\n",
       "\n",
       "Variance components:\n",
       "              Column        Variance    Std.Dev.    Corr.\n",
       "rat      region: Amygdala  0.000000001 0.000031423\n",
       "         region: Ca2       0.000000005 0.000073911   .  \n",
       "         region: Insula    0.000000001 0.000026756   .     .  \n",
       "         region: MOB       0.000000160 0.000400144   .     .     .  \n",
       "Residual                   0.000000032 0.000178090\n",
       " Number of obs: 15329; levels of grouping factors: 4\n",
       "\n",
       "  Fixed-effects parameters:\n",
       "─────────────────────────────────────────────────────────────────────────────────\n",
       "                                              Coef.   Std. Error      z  Pr(>|z|)\n",
       "─────────────────────────────────────────────────────────────────────────────────\n",
       "region: Amygdala                        0.000214733  1.63696e-5   13.12    <1e-38\n",
       "region: Ca2                             0.000350888  3.72892e-5    9.41    <1e-20\n",
       "region: Insula                          0.000115611  1.64054e-5    7.05    <1e-11\n",
       "region: MOB                             0.00101046   0.000200135   5.05    <1e-06\n",
       "behavior_type: Rear & region: Amygdala  4.90707e-6   6.10297e-6    0.80    0.4214\n",
       "behavior_type: Rear & region: Ca2       2.4146e-5    6.31008e-6    3.83    0.0001\n",
       "behavior_type: Rear & region: Insula    5.21798e-7   6.40263e-6    0.08    0.9350\n",
       "behavior_type: Rear & region: MOB       8.18446e-6   7.45319e-6    1.10    0.2722\n",
       "─────────────────────────────────────────────────────────────────────────────────"
      ]
     },
     "execution_count": 75,
     "metadata": {},
     "output_type": "execute_result"
    }
   ],
   "source": [
    "hyposub=@subset(event_spectra, :behavior_type .∈ Ref([ \"null\",\"Rear\"]))\n",
    "fm=@formula(beta ~0+region+ behavior_type&region + zerocorr(0+region|rat))\n",
    "fm1 = fit(MixedModel,fm, hyposub, contrasts = Dict(:behavior_type => DummyCoding(;base=\"null\")))"
   ]
  },
  {
   "cell_type": "markdown",
   "metadata": {},
   "source": [
    "3. It is hypothesized that theta will show increased amplitude during behaviors associated with exploration like rearing, when compared with regulatory behaviors like grooming and immobility. This means that rearing will be significant different from immobility/grooming in both respiratory and theta rhythms in MOB, CA2, and Amyg. "
   ]
  },
  {
   "cell_type": "code",
   "execution_count": 76,
   "metadata": {},
   "outputs": [
    {
     "data": {
      "text/latex": [
       "\\begin{tabular}\n",
       "{l | r | r | r | r | r}\n",
       " & Est. & SE & z & p & $\\sigma_\\text{rat}$ \\\\\n",
       "\\hline\n",
       "region: Amygdala & 0.0012 & 0.0002 & 7.89 & <1e-14 & 0.0002 \\\\\n",
       "region: Ca2 & 0.0041 & 0.0003 & 14.36 & <1e-46 & 0.0005 \\\\\n",
       "region: Insula & 0.0010 & 0.0002 & 5.04 & <1e-06 & 0.0002 \\\\\n",
       "region: MOB & 0.0083 & 0.0033 & 2.50 & 0.0126 & 0.0067 \\\\\n",
       "combined\\_behavior: Rear \\& region: Amygdala & 0.0001 & 0.0001 & 0.99 & 0.3231 &   \\\\\n",
       "combined\\_behavior: Rear \\& region: Ca2 & 0.0011 & 0.0001 & 7.48 & <1e-13 &   \\\\\n",
       "combined\\_behavior: Rear \\& region: Insula & 0.0002 & 0.0002 & 1.23 & 0.2173 &   \\\\\n",
       "combined\\_behavior: Rear \\& region: MOB & 0.0091 & 0.0002 & 53.45 & <1e-99 &   \\\\\n",
       "Residual & 0.0031 &  &  &  &  \\\\\n",
       "\\end{tabular}\n"
      ],
      "text/markdown": [
       "|                                            |   Est. |     SE |     z |      p |  σ_rat |\n",
       "|:------------------------------------------ | ------:| ------:| -----:| ------:| ------:|\n",
       "| region: Amygdala                           | 0.0012 | 0.0002 |  7.89 | <1e-14 | 0.0002 |\n",
       "| region: Ca2                                | 0.0041 | 0.0003 | 14.36 | <1e-46 | 0.0005 |\n",
       "| region: Insula                             | 0.0010 | 0.0002 |  5.04 | <1e-06 | 0.0002 |\n",
       "| region: MOB                                | 0.0083 | 0.0033 |  2.50 | 0.0126 | 0.0067 |\n",
       "| combined_behavior: Rear & region: Amygdala | 0.0001 | 0.0001 |  0.99 | 0.3231 |        |\n",
       "| combined_behavior: Rear & region: Ca2      | 0.0011 | 0.0001 |  7.48 | <1e-13 |        |\n",
       "| combined_behavior: Rear & region: Insula   | 0.0002 | 0.0002 |  1.23 | 0.2173 |        |\n",
       "| combined_behavior: Rear & region: MOB      | 0.0091 | 0.0002 | 53.45 | <1e-99 |        |\n",
       "| Residual                                   | 0.0031 |        |       |        |        |\n"
      ],
      "text/plain": [
       "Linear mixed model fit by maximum likelihood\n",
       " theta ~ 0 + region + combined_behavior & region + MixedModels.ZeroCorr((0 + region | rat))\n",
       "    logLik   -2 logLik      AIC         AICc        BIC     \n",
       "  30985.3611 -61970.7222 -61944.7222 -61944.6709 -61855.4347\n",
       "\n",
       "Variance components:\n",
       "              Column        Variance    Std.Dev.    Corr.\n",
       "rat      region: Amygdala  0.000000040 0.000200192\n",
       "         region: Ca2       0.000000251 0.000500744   .  \n",
       "         region: Insula    0.000000056 0.000237482   .     .  \n",
       "         region: MOB       0.000044540 0.006673827   .     .     .  \n",
       "Residual                   0.000009458 0.003075340\n",
       " Number of obs: 7103; levels of grouping factors: 4\n",
       "\n",
       "  Fixed-effects parameters:\n",
       "─────────────────────────────────────────────────────────────────────────────────────\n",
       "                                                  Coef.   Std. Error      z  Pr(>|z|)\n",
       "─────────────────────────────────────────────────────────────────────────────────────\n",
       "region: Amygdala                            0.00122166   0.000154921   7.89    <1e-14\n",
       "region: Ca2                                 0.00412297   0.000287148  14.36    <1e-46\n",
       "region: Insula                              0.000999026  0.000198108   5.04    <1e-06\n",
       "region: MOB                                 0.00833711   0.0033408     2.50    0.0126\n",
       "combined_behavior: Rear & region: Amygdala  0.000138082  0.000139752   0.99    0.3231\n",
       "combined_behavior: Rear & region: Ca2       0.0010882    0.000145523   7.48    <1e-13\n",
       "combined_behavior: Rear & region: Insula    0.000185229  0.000150121   1.23    0.2173\n",
       "combined_behavior: Rear & region: MOB       0.0091212    0.000170649  53.45    <1e-99\n",
       "─────────────────────────────────────────────────────────────────────────────────────"
      ]
     },
     "execution_count": 76,
     "metadata": {},
     "output_type": "execute_result"
    }
   ],
   "source": [
    "hyposub=@subset(event_spectra, :behavior_type .∈ Ref([\"Immobility\",\"Groom\",\"Rear\"]))\n",
    "function fun(btype)\n",
    "    if btype .== \"Immobility\"\n",
    "        return \"Immobility & Groom\"\n",
    "    elseif btype .== \"Groom\"\n",
    "        return \"Immobility & Groom\"\n",
    "    else\n",
    "        return btype\n",
    "    end\n",
    "end\n",
    "@transform!(hyposub, @byrow :combined_behavior = fun(:behavior_type))\n",
    "fm=@formula(theta ~0+region+ combined_behavior&region + zerocorr(0+region|rat))\n",
    "fm1 = fit(MixedModel,fm, hyposub, contrasts = Dict(:combined_behavior => DummyCoding(;base=\"Immobility & Groom\")))"
   ]
  },
  {
   "cell_type": "code",
   "execution_count": 77,
   "metadata": {},
   "outputs": [
    {
     "data": {
      "text/latex": [
       "\\begin{tabular}\n",
       "{l | r | r | r | r | r}\n",
       " & Est. & SE & z & p & $\\sigma_\\text{rat}$ \\\\\n",
       "\\hline\n",
       "region: Amygdala & 0.0016 & 0.0002 & 10.24 & <1e-23 & 0.0002 \\\\\n",
       "region: Ca2 & 0.0040 & 0.0002 & 17.05 & <1e-64 & 0.0004 \\\\\n",
       "region: Insula & 0.0012 & 0.0002 & 6.06 & <1e-08 & 0.0003 \\\\\n",
       "region: MOB & 0.0104 & 0.0030 & 3.41 & 0.0006 & 0.0061 \\\\\n",
       "combined\\_behavior: Rear \\& region: Amygdala & -0.0002 & 0.0001 & -1.93 & 0.0535 &   \\\\\n",
       "combined\\_behavior: Rear \\& region: Ca2 & 0.0001 & 0.0001 & 1.30 & 0.1947 &   \\\\\n",
       "combined\\_behavior: Rear \\& region: Insula & -0.0002 & 0.0001 & -1.41 & 0.1589 &   \\\\\n",
       "combined\\_behavior: Rear \\& region: MOB & 0.0031 & 0.0001 & 23.44 & <1e-99 &   \\\\\n",
       "Residual & 0.0024 &  &  &  &  \\\\\n",
       "\\end{tabular}\n"
      ],
      "text/markdown": [
       "|                                            |    Est. |     SE |     z |      p |  σ_rat |\n",
       "|:------------------------------------------ | -------:| ------:| -----:| ------:| ------:|\n",
       "| region: Amygdala                           |  0.0016 | 0.0002 | 10.24 | <1e-23 | 0.0002 |\n",
       "| region: Ca2                                |  0.0040 | 0.0002 | 17.05 | <1e-64 | 0.0004 |\n",
       "| region: Insula                             |  0.0012 | 0.0002 |  6.06 | <1e-08 | 0.0003 |\n",
       "| region: MOB                                |  0.0104 | 0.0030 |  3.41 | 0.0006 | 0.0061 |\n",
       "| combined_behavior: Rear & region: Amygdala | -0.0002 | 0.0001 | -1.93 | 0.0535 |        |\n",
       "| combined_behavior: Rear & region: Ca2      |  0.0001 | 0.0001 |  1.30 | 0.1947 |        |\n",
       "| combined_behavior: Rear & region: Insula   | -0.0002 | 0.0001 | -1.41 | 0.1589 |        |\n",
       "| combined_behavior: Rear & region: MOB      |  0.0031 | 0.0001 | 23.44 | <1e-99 |        |\n",
       "| Residual                                   |  0.0024 |        |       |        |        |\n"
      ],
      "text/plain": [
       "Linear mixed model fit by maximum likelihood\n",
       " respiratory ~ 0 + region + combined_behavior & region + MixedModels.ZeroCorr((0 + region | rat))\n",
       "    logLik   -2 logLik      AIC         AICc        BIC     \n",
       "  32738.6111 -65477.2221 -65451.2221 -65451.1708 -65361.9346\n",
       "\n",
       "Variance components:\n",
       "              Column        Variance    Std.Dev.    Corr.\n",
       "rat      region: Amygdala  0.000000054 0.000232720\n",
       "         region: Ca2       0.000000175 0.000418627   .  \n",
       "         region: Insula    0.000000073 0.000269625   .     .  \n",
       "         region: MOB       0.000036861 0.006071300   .     .     .  \n",
       "Residual                   0.000005769 0.002401806\n",
       " Number of obs: 7103; levels of grouping factors: 4\n",
       "\n",
       "  Fixed-effects parameters:\n",
       "──────────────────────────────────────────────────────────────────────────────────────\n",
       "                                                   Coef.   Std. Error      z  Pr(>|z|)\n",
       "──────────────────────────────────────────────────────────────────────────────────────\n",
       "region: Amygdala                             0.00155694   0.000152061  10.24    <1e-23\n",
       "region: Ca2                                  0.00403588   0.00023676   17.05    <1e-64\n",
       "region: Insula                               0.00119226   0.000196666   6.06    <1e-08\n",
       "region: MOB                                  0.0103715    0.00303826    3.41    0.0006\n",
       "combined_behavior: Rear & region: Amygdala  -0.000211447  0.000109516  -1.93    0.0535\n",
       "combined_behavior: Rear & region: Ca2        0.000147416  0.000113684   1.30    0.1947\n",
       "combined_behavior: Rear & region: Insula    -0.000165198  0.000117252  -1.41    0.1589\n",
       "combined_behavior: Rear & region: MOB        0.00312334   0.000133275  23.44    <1e-99\n",
       "──────────────────────────────────────────────────────────────────────────────────────"
      ]
     },
     "execution_count": 77,
     "metadata": {},
     "output_type": "execute_result"
    }
   ],
   "source": [
    "fm=@formula(respiratory ~0+region+ combined_behavior&region + zerocorr(0+region|rat))\n",
    "fm1 = fit(MixedModel,fm, hyposub, contrasts = Dict(:combined_behavior => DummyCoding(;base=\"Immobility & Groom\")))"
   ]
  },
  {
   "cell_type": "markdown",
   "metadata": {},
   "source": [
    "4. It is hypothesized that robot will elicit a higher low-gamma rhythm in MOB for the robot condition when compared with the object and rat conditions for immobility and grooming behaviors. \n"
   ]
  },
  {
   "cell_type": "code",
   "execution_count": 78,
   "metadata": {},
   "outputs": [
    {
     "data": {
      "text/latex": [
       "\\begin{tabular}\n",
       "{l | r | r | r | r | r}\n",
       " & Est. & SE & z & p & $\\sigma_\\text{rat}$ \\\\\n",
       "\\hline\n",
       "behavior\\_type: Groom & 0.0016 & 0.0002 & 7.61 & <1e-13 &   \\\\\n",
       "behavior\\_type: Immobility & 0.0007 & 0.0002 & 3.02 & 0.0026 &   \\\\\n",
       "behavior\\_type: Rear & 0.0004 & 0.0002 & 1.86 & 0.0622 &   \\\\\n",
       "behavior\\_type: null & 0.0006 & 0.0002 & 3.26 & 0.0011 &   \\\\\n",
       "combined\\_agent: Robot \\& behavior\\_type: Groom & -0.0003 & 0.0001 & -2.22 & 0.0263 &   \\\\\n",
       "combined\\_agent: Robot \\& behavior\\_type: Immobility & -0.0000 & 0.0001 & -0.03 & 0.9744 &   \\\\\n",
       "combined\\_agent: Robot \\& behavior\\_type: Rear & -0.0000 & 0.0001 & -0.04 & 0.9715 &   \\\\\n",
       "combined\\_agent: Robot \\& behavior\\_type: null & -0.0000 & 0.0000 & -0.96 & 0.3380 &   \\\\\n",
       "(Intercept) &  &  &  &  & 0.0004 \\\\\n",
       "Residual & 0.0008 &  &  &  &  \\\\\n",
       "\\end{tabular}\n"
      ],
      "text/markdown": [
       "|                                                   |    Est. |     SE |     z |      p |  σ_rat |\n",
       "|:------------------------------------------------- | -------:| ------:| -----:| ------:| ------:|\n",
       "| behavior_type: Groom                              |  0.0016 | 0.0002 |  7.61 | <1e-13 |        |\n",
       "| behavior_type: Immobility                         |  0.0007 | 0.0002 |  3.02 | 0.0026 |        |\n",
       "| behavior_type: Rear                               |  0.0004 | 0.0002 |  1.86 | 0.0622 |        |\n",
       "| behavior_type: null                               |  0.0006 | 0.0002 |  3.26 | 0.0011 |        |\n",
       "| combined_agent: Robot & behavior_type: Groom      | -0.0003 | 0.0001 | -2.22 | 0.0263 |        |\n",
       "| combined_agent: Robot & behavior_type: Immobility | -0.0000 | 0.0001 | -0.03 | 0.9744 |        |\n",
       "| combined_agent: Robot & behavior_type: Rear       | -0.0000 | 0.0001 | -0.04 | 0.9715 |        |\n",
       "| combined_agent: Robot & behavior_type: null       | -0.0000 | 0.0000 | -0.96 | 0.3380 |        |\n",
       "| (Intercept)                                       |         |        |       |        | 0.0004 |\n",
       "| Residual                                          |  0.0008 |        |       |        |        |\n"
      ],
      "text/plain": [
       "Linear mixed model fit by maximum likelihood\n",
       " gamma_low ~ 0 + behavior_type + combined_agent & behavior_type + (0 + 1 | rat)\n",
       "    logLik   -2 logLik      AIC         AICc        BIC     \n",
       "  11455.5344 -22911.0689 -22891.0689 -22890.9579 -22835.0949\n",
       "\n",
       "Variance components:\n",
       "            Column     Variance    Std.Dev.  \n",
       "rat      (Intercept)  0.000000148 0.000384641\n",
       "Residual              0.000000590 0.000768334\n",
       " Number of obs: 1993; levels of grouping factors: 4\n",
       "\n",
       "  Fixed-effects parameters:\n",
       "─────────────────────────────────────────────────────────────────────────────────────────────\n",
       "                                                          Coef.   Std. Error      z  Pr(>|z|)\n",
       "─────────────────────────────────────────────────────────────────────────────────────────────\n",
       "behavior_type: Groom                                0.00155416   0.000204193   7.61    <1e-13\n",
       "behavior_type: Immobility                           0.000662984  0.000219812   3.02    0.0026\n",
       "behavior_type: Rear                                 0.000380594  0.000204072   1.86    0.0622\n",
       "behavior_type: null                                 0.000637845  0.000195465   3.26    0.0011\n",
       "combined_agent: Robot & behavior_type: Groom       -0.000285336  0.00012846   -2.22    0.0263\n",
       "combined_agent: Robot & behavior_type: Immobility  -4.03385e-6   0.000125849  -0.03    0.9744\n",
       "combined_agent: Robot & behavior_type: Rear        -3.81626e-6   0.000106785  -0.04    0.9715\n",
       "combined_agent: Robot & behavior_type: null        -4.43505e-5   4.62863e-5   -0.96    0.3380\n",
       "─────────────────────────────────────────────────────────────────────────────────────────────"
      ]
     },
     "execution_count": 78,
     "metadata": {},
     "output_type": "execute_result"
    }
   ],
   "source": [
    "hyposub = @subset(event_spectra, :agent_type .∈ Ref([Rat, Robot, Object]), :region .== \"MOB\", :behavior_type .∈ Ref([\"Immobility\", \"Groom\", \"Rear\", \"null\"]))\n",
    "function afun(atype)\n",
    "    if atype .== Rat\n",
    "        return \"Rat & Object\"\n",
    "    elseif atype .== Object\n",
    "        return \"Rat & Object\"\n",
    "    else\n",
    "        return \"Robot\"\n",
    "    end\n",
    "end\n",
    "@transform!(hyposub, @byrow :combined_agent = afun(:agent_type))\n",
    "fm = @formula(gamma_low ~ 0 + behavior_type + combined_agent & behavior_type + (0 + 1 | rat))\n",
    "fm1 = fit(MixedModel, fm, hyposub, contrasts = Dict(:combined_agent => DummyCoding(; base = \"Rat & Object\")))"
   ]
  },
  {
   "cell_type": "code",
   "execution_count": 79,
   "metadata": {},
   "outputs": [
    {
     "data": {
      "text/latex": [
       "\\begin{tabular}\n",
       "{l | r | r | r | r | r}\n",
       " & Est. & SE & z & p & $\\sigma_\\text{rat}$ \\\\\n",
       "\\hline\n",
       "behavior\\_type: Groom & 0.0016 & 0.0002 & 7.61 & <1e-13 &   \\\\\n",
       "behavior\\_type: Immobility & 0.0007 & 0.0002 & 3.02 & 0.0026 &   \\\\\n",
       "behavior\\_type: Rear & 0.0004 & 0.0002 & 1.86 & 0.0622 &   \\\\\n",
       "behavior\\_type: null & 0.0006 & 0.0002 & 3.26 & 0.0011 &   \\\\\n",
       "combined\\_agent: Robot \\& behavior\\_type: Groom & -0.0003 & 0.0001 & -2.22 & 0.0263 &   \\\\\n",
       "combined\\_agent: Robot \\& behavior\\_type: Immobility & -0.0000 & 0.0001 & -0.03 & 0.9744 &   \\\\\n",
       "combined\\_agent: Robot \\& behavior\\_type: Rear & -0.0000 & 0.0001 & -0.04 & 0.9715 &   \\\\\n",
       "combined\\_agent: Robot \\& behavior\\_type: null & -0.0000 & 0.0000 & -0.96 & 0.3380 &   \\\\\n",
       "(Intercept) &  &  &  &  & 0.0004 \\\\\n",
       "Residual & 0.0008 &  &  &  &  \\\\\n",
       "\\end{tabular}\n"
      ],
      "text/markdown": [
       "|                                                   |    Est. |     SE |     z |      p |  σ_rat |\n",
       "|:------------------------------------------------- | -------:| ------:| -----:| ------:| ------:|\n",
       "| behavior_type: Groom                              |  0.0016 | 0.0002 |  7.61 | <1e-13 |        |\n",
       "| behavior_type: Immobility                         |  0.0007 | 0.0002 |  3.02 | 0.0026 |        |\n",
       "| behavior_type: Rear                               |  0.0004 | 0.0002 |  1.86 | 0.0622 |        |\n",
       "| behavior_type: null                               |  0.0006 | 0.0002 |  3.26 | 0.0011 |        |\n",
       "| combined_agent: Robot & behavior_type: Groom      | -0.0003 | 0.0001 | -2.22 | 0.0263 |        |\n",
       "| combined_agent: Robot & behavior_type: Immobility | -0.0000 | 0.0001 | -0.03 | 0.9744 |        |\n",
       "| combined_agent: Robot & behavior_type: Rear       | -0.0000 | 0.0001 | -0.04 | 0.9715 |        |\n",
       "| combined_agent: Robot & behavior_type: null       | -0.0000 | 0.0000 | -0.96 | 0.3380 |        |\n",
       "| (Intercept)                                       |         |        |       |        | 0.0004 |\n",
       "| Residual                                          |  0.0008 |        |       |        |        |\n"
      ],
      "text/plain": [
       "Linear mixed model fit by maximum likelihood\n",
       " gamma_low ~ 0 + behavior_type + combined_agent & behavior_type + (0 + 1 | rat)\n",
       "    logLik   -2 logLik      AIC         AICc        BIC     \n",
       "  11455.5344 -22911.0689 -22891.0689 -22890.9579 -22835.0949\n",
       "\n",
       "Variance components:\n",
       "            Column     Variance    Std.Dev.  \n",
       "rat      (Intercept)  0.000000148 0.000384641\n",
       "Residual              0.000000590 0.000768334\n",
       " Number of obs: 1993; levels of grouping factors: 4\n",
       "\n",
       "  Fixed-effects parameters:\n",
       "─────────────────────────────────────────────────────────────────────────────────────────────\n",
       "                                                          Coef.   Std. Error      z  Pr(>|z|)\n",
       "─────────────────────────────────────────────────────────────────────────────────────────────\n",
       "behavior_type: Groom                                0.00155416   0.000204193   7.61    <1e-13\n",
       "behavior_type: Immobility                           0.000662984  0.000219812   3.02    0.0026\n",
       "behavior_type: Rear                                 0.000380594  0.000204072   1.86    0.0622\n",
       "behavior_type: null                                 0.000637845  0.000195465   3.26    0.0011\n",
       "combined_agent: Robot & behavior_type: Groom       -0.000285336  0.00012846   -2.22    0.0263\n",
       "combined_agent: Robot & behavior_type: Immobility  -4.03385e-6   0.000125849  -0.03    0.9744\n",
       "combined_agent: Robot & behavior_type: Rear        -3.81626e-6   0.000106785  -0.04    0.9715\n",
       "combined_agent: Robot & behavior_type: null        -4.43505e-5   4.62863e-5   -0.96    0.3380\n",
       "─────────────────────────────────────────────────────────────────────────────────────────────"
      ]
     },
     "execution_count": 79,
     "metadata": {},
     "output_type": "execute_result"
    }
   ],
   "source": [
    "hyposub = @subset(event_spectra, :agent_type .∈ Ref([Rat, Robot, Object]), :region .== \"MOB\", :behavior_type .∈ Ref([\"Immobility\", \"Groom\", \"Rear\", \"null\"]))\n",
    "function afun(atype)\n",
    "    if atype .== Rat\n",
    "        return \"Rat & Object\"\n",
    "    elseif atype .== Object\n",
    "        return \"Rat & Object\"\n",
    "    else\n",
    "        return \"Robot\"\n",
    "    end\n",
    "end\n",
    "@transform!(hyposub, @byrow :combined_agent = afun(:agent_type))\n",
    "fm = @formula(gamma_low ~ 0 + behavior_type + combined_agent & behavior_type + (0 + 1 | rat))\n",
    "fm1 = fit(MixedModel, fm, hyposub, contrasts = Dict(:combined_agent => DummyCoding(; base = \"Rat & Object\")))"
   ]
  },
  {
   "cell_type": "markdown",
   "metadata": {},
   "source": [
    "5. High gamma amplitude should be highest for the rat condition in the MOB. The robot and object should have similar high gamma. But instead, it appears that the robot and rat high gamma is larger than the object, and there is no discernable difference between rat and robot high gamma in MOB. "
   ]
  },
  {
   "cell_type": "code",
   "execution_count": 80,
   "metadata": {},
   "outputs": [
    {
     "data": {
      "text/latex": [
       "\\begin{tabular}\n",
       "{l | r | r | r | r | r}\n",
       " & Est. & SE & z & p & $\\sigma_\\text{rat}$ \\\\\n",
       "\\hline\n",
       "behavior\\_type: Groom & 0.0005 & 0.0001 & 4.87 & <1e-05 &   \\\\\n",
       "behavior\\_type: Immobility & 0.0004 & 0.0001 & 3.89 & 0.0001 &   \\\\\n",
       "behavior\\_type: Rear & 0.0004 & 0.0001 & 4.31 & <1e-04 &   \\\\\n",
       "behavior\\_type: null & 0.0006 & 0.0001 & 5.69 & <1e-07 &   \\\\\n",
       "agent\\_type: Object \\& behavior\\_type: Groom & -0.0000 & 0.0001 & -0.78 & 0.4355 &   \\\\\n",
       "agent\\_type: Robot \\& behavior\\_type: Groom & -0.0000 & 0.0000 & -0.39 & 0.6963 &   \\\\\n",
       "agent\\_type: Object \\& behavior\\_type: Immobility & 0.0000 & 0.0001 & 0.44 & 0.6609 &   \\\\\n",
       "agent\\_type: Robot \\& behavior\\_type: Immobility & -0.0000 & 0.0001 & -0.03 & 0.9756 &   \\\\\n",
       "agent\\_type: Object \\& behavior\\_type: Rear & -0.0000 & 0.0000 & -0.19 & 0.8522 &   \\\\\n",
       "agent\\_type: Robot \\& behavior\\_type: Rear & 0.0001 & 0.0000 & 1.29 & 0.1972 &   \\\\\n",
       "agent\\_type: Object \\& behavior\\_type: null & -0.0001 & 0.0000 & -3.42 & 0.0006 &   \\\\\n",
       "agent\\_type: Robot \\& behavior\\_type: null & -0.0001 & 0.0000 & -5.40 & <1e-07 &   \\\\\n",
       "(Intercept) &  &  &  &  & 0.0002 \\\\\n",
       "Residual & 0.0003 &  &  &  &  \\\\\n",
       "\\end{tabular}\n"
      ],
      "text/markdown": [
       "|                                                |    Est. |     SE |     z |      p |  σ_rat |\n",
       "|:---------------------------------------------- | -------:| ------:| -----:| ------:| ------:|\n",
       "| behavior_type: Groom                           |  0.0005 | 0.0001 |  4.87 | <1e-05 |        |\n",
       "| behavior_type: Immobility                      |  0.0004 | 0.0001 |  3.89 | 0.0001 |        |\n",
       "| behavior_type: Rear                            |  0.0004 | 0.0001 |  4.31 | <1e-04 |        |\n",
       "| behavior_type: null                            |  0.0006 | 0.0001 |  5.69 | <1e-07 |        |\n",
       "| agent_type: Object & behavior_type: Groom      | -0.0000 | 0.0001 | -0.78 | 0.4355 |        |\n",
       "| agent_type: Robot & behavior_type: Groom       | -0.0000 | 0.0000 | -0.39 | 0.6963 |        |\n",
       "| agent_type: Object & behavior_type: Immobility |  0.0000 | 0.0001 |  0.44 | 0.6609 |        |\n",
       "| agent_type: Robot & behavior_type: Immobility  | -0.0000 | 0.0001 | -0.03 | 0.9756 |        |\n",
       "| agent_type: Object & behavior_type: Rear       | -0.0000 | 0.0000 | -0.19 | 0.8522 |        |\n",
       "| agent_type: Robot & behavior_type: Rear        |  0.0001 | 0.0000 |  1.29 | 0.1972 |        |\n",
       "| agent_type: Object & behavior_type: null       | -0.0001 | 0.0000 | -3.42 | 0.0006 |        |\n",
       "| agent_type: Robot & behavior_type: null        | -0.0001 | 0.0000 | -5.40 | <1e-07 |        |\n",
       "| (Intercept)                                    |         |        |       |        | 0.0002 |\n",
       "| Residual                                       |  0.0003 |        |       |        |        |\n"
      ],
      "text/plain": [
       "Linear mixed model fit by maximum likelihood\n",
       " gamma_high ~ 0 + behavior_type + agent_type & behavior_type + (0 + 1 | rat)\n",
       "    logLik   -2 logLik      AIC         AICc        BIC     \n",
       "  13452.8934 -26905.7867 -26877.7867 -26877.5744 -26799.4232\n",
       "\n",
       "Variance components:\n",
       "            Column     Variance    Std.Dev.  \n",
       "rat      (Intercept)  0.000000039 0.000197713\n",
       "Residual              0.000000079 0.000281849\n",
       " Number of obs: 1993; levels of grouping factors: 4\n",
       "\n",
       "  Fixed-effects parameters:\n",
       "──────────────────────────────────────────────────────────────────────────────────────────\n",
       "                                                       Coef.   Std. Error      z  Pr(>|z|)\n",
       "──────────────────────────────────────────────────────────────────────────────────────────\n",
       "behavior_type: Groom                             0.000502553  0.000103233   4.87    <1e-05\n",
       "behavior_type: Immobility                        0.000431126  0.000110963   3.89    0.0001\n",
       "behavior_type: Rear                              0.000446477  0.000103527   4.31    <1e-04\n",
       "behavior_type: null                              0.000567969  9.97987e-5    5.69    <1e-07\n",
       "agent_type: Object & behavior_type: Groom       -3.96647e-5   5.08632e-5   -0.78    0.4355\n",
       "agent_type: Robot & behavior_type: Groom        -1.9358e-5    4.96028e-5   -0.39    0.6963\n",
       "agent_type: Object & behavior_type: Immobility   3.37318e-5   7.68886e-5    0.44    0.6609\n",
       "agent_type: Robot & behavior_type: Immobility   -1.71678e-6   5.62009e-5   -0.03    0.9756\n",
       "agent_type: Object & behavior_type: Rear        -8.70538e-6   4.67235e-5   -0.19    0.8522\n",
       "agent_type: Robot & behavior_type: Rear          5.53746e-5   4.29403e-5    1.29    0.1972\n",
       "agent_type: Object & behavior_type: null        -7.9944e-5    2.33693e-5   -3.42    0.0006\n",
       "agent_type: Robot & behavior_type: null         -9.67402e-5   1.78999e-5   -5.40    <1e-07\n",
       "──────────────────────────────────────────────────────────────────────────────────────────"
      ]
     },
     "execution_count": 80,
     "metadata": {},
     "output_type": "execute_result"
    }
   ],
   "source": [
    "hyposub = @subset(event_spectra, :agent_type .∈ Ref([Rat, Robot, Object]), :region .== \"MOB\", :behavior_type .∈ Ref([\"Immobility\", \"Groom\", \"Rear\", \"null\"]))\n",
    "function afun(atype)\n",
    "    if atype .== Rat\n",
    "        return \"Rat\"\n",
    "    elseif atype .== Object\n",
    "        return \"Object\"\n",
    "    else\n",
    "        return \"Robot\"\n",
    "    end\n",
    "end\n",
    "@transform!(hyposub, @byrow :agent_type = afun(:agent_type))\n",
    "fm = @formula(gamma_high ~ 0 + behavior_type + agent_type & behavior_type + (0 + 1 | rat))\n",
    "fm1 = fit(MixedModel, fm, hyposub, contrasts = Dict(:agent_type => DummyCoding(; base = \"Rat\")))\n"
   ]
  },
  {
   "cell_type": "code",
   "execution_count": 81,
   "metadata": {},
   "outputs": [
    {
     "data": {
      "text/latex": [
       "\\begin{tabular}\n",
       "{l | r | r | r | r | r}\n",
       " & Est. & SE & z & p & $\\sigma_\\text{rat}$ \\\\\n",
       "\\hline\n",
       "behavior\\_type: Groom & 0.0013 & 0.0002 & 5.72 & <1e-07 &   \\\\\n",
       "behavior\\_type: Immobility & 0.0007 & 0.0002 & 3.21 & 0.0013 &   \\\\\n",
       "behavior\\_type: Rear & 0.0004 & 0.0002 & 1.79 & 0.0730 &   \\\\\n",
       "behavior\\_type: null & 0.0006 & 0.0002 & 3.05 & 0.0023 &   \\\\\n",
       "agent\\_type: Object \\& behavior\\_type: Groom & 0.0004 & 0.0002 & 2.44 & 0.0146 &   \\\\\n",
       "agent\\_type: Rat \\& behavior\\_type: Groom & 0.0002 & 0.0001 & 1.76 & 0.0781 &   \\\\\n",
       "agent\\_type: Object \\& behavior\\_type: Immobility & 0.0000 & 0.0002 & 0.13 & 0.8969 &   \\\\\n",
       "agent\\_type: Rat \\& behavior\\_type: Immobility & -0.0000 & 0.0002 & -0.06 & 0.9516 &   \\\\\n",
       "agent\\_type: Object \\& behavior\\_type: Rear & 0.0001 & 0.0001 & 0.41 & 0.6841 &   \\\\\n",
       "agent\\_type: Rat \\& behavior\\_type: Rear & -0.0000 & 0.0001 & -0.20 & 0.8423 &   \\\\\n",
       "agent\\_type: Object \\& behavior\\_type: null & 0.0001 & 0.0001 & 2.13 & 0.0330 &   \\\\\n",
       "agent\\_type: Rat \\& behavior\\_type: null & 0.0000 & 0.0000 & 0.24 & 0.8098 &   \\\\\n",
       "(Intercept) &  &  &  &  & 0.0004 \\\\\n",
       "Residual & 0.0008 &  &  &  &  \\\\\n",
       "\\end{tabular}\n"
      ],
      "text/markdown": [
       "|                                                |    Est. |     SE |     z |      p |  σ_rat |\n",
       "|:---------------------------------------------- | -------:| ------:| -----:| ------:| ------:|\n",
       "| behavior_type: Groom                           |  0.0013 | 0.0002 |  5.72 | <1e-07 |        |\n",
       "| behavior_type: Immobility                      |  0.0007 | 0.0002 |  3.21 | 0.0013 |        |\n",
       "| behavior_type: Rear                            |  0.0004 | 0.0002 |  1.79 | 0.0730 |        |\n",
       "| behavior_type: null                            |  0.0006 | 0.0002 |  3.05 | 0.0023 |        |\n",
       "| agent_type: Object & behavior_type: Groom      |  0.0004 | 0.0002 |  2.44 | 0.0146 |        |\n",
       "| agent_type: Rat & behavior_type: Groom         |  0.0002 | 0.0001 |  1.76 | 0.0781 |        |\n",
       "| agent_type: Object & behavior_type: Immobility |  0.0000 | 0.0002 |  0.13 | 0.8969 |        |\n",
       "| agent_type: Rat & behavior_type: Immobility    | -0.0000 | 0.0002 | -0.06 | 0.9516 |        |\n",
       "| agent_type: Object & behavior_type: Rear       |  0.0001 | 0.0001 |  0.41 | 0.6841 |        |\n",
       "| agent_type: Rat & behavior_type: Rear          | -0.0000 | 0.0001 | -0.20 | 0.8423 |        |\n",
       "| agent_type: Object & behavior_type: null       |  0.0001 | 0.0001 |  2.13 | 0.0330 |        |\n",
       "| agent_type: Rat & behavior_type: null          |  0.0000 | 0.0000 |  0.24 | 0.8098 |        |\n",
       "| (Intercept)                                    |         |        |       |        | 0.0004 |\n",
       "| Residual                                       |  0.0008 |        |       |        |        |\n"
      ],
      "text/plain": [
       "Linear mixed model fit by maximum likelihood\n",
       " gamma_low ~ 0 + behavior_type + agent_type & behavior_type + (0 + 1 | rat)\n",
       "    logLik   -2 logLik      AIC         AICc        BIC     \n",
       "  11458.4672 -22916.9345 -22888.9345 -22888.7222 -22810.5709\n",
       "\n",
       "Variance components:\n",
       "            Column     Variance    Std.Dev.  \n",
       "rat      (Intercept)  0.000000147 0.000382994\n",
       "Residual              0.000000589 0.000767209\n",
       " Number of obs: 1993; levels of grouping factors: 4\n",
       "\n",
       "  Fixed-effects parameters:\n",
       "──────────────────────────────────────────────────────────────────────────────────────────\n",
       "                                                       Coef.   Std. Error      z  Pr(>|z|)\n",
       "──────────────────────────────────────────────────────────────────────────────────────────\n",
       "behavior_type: Groom                             0.00127405   0.000222656   5.72    <1e-07\n",
       "behavior_type: Immobility                        0.000663005  0.00020624    3.21    0.0013\n",
       "behavior_type: Rear                              0.000378737  0.000211254   1.79    0.0730\n",
       "behavior_type: null                              0.000598769  0.000196477   3.05    0.0023\n",
       "agent_type: Object & behavior_type: Groom        0.000391941  0.000160451   2.44    0.0146\n",
       "agent_type: Rat & behavior_type: Groom           0.000237892  0.000135014   1.76    0.0781\n",
       "agent_type: Object & behavior_type: Immobility   2.27019e-5   0.000175187   0.13    0.8969\n",
       "agent_type: Rat & behavior_type: Immobility     -9.29168e-6   0.000152976  -0.06    0.9516\n",
       "agent_type: Object & behavior_type: Rear         5.40902e-5   0.000132935   0.41    0.6841\n",
       "agent_type: Rat & behavior_type: Rear           -2.32519e-5   0.000116878  -0.20    0.8423\n",
       "agent_type: Object & behavior_type: null         0.000142799  6.69748e-5    2.13    0.0330\n",
       "agent_type: Rat & behavior_type: null            1.17189e-5   4.86877e-5    0.24    0.8098\n",
       "──────────────────────────────────────────────────────────────────────────────────────────"
      ]
     },
     "execution_count": 81,
     "metadata": {},
     "output_type": "execute_result"
    }
   ],
   "source": [
    "hyposub = @subset(event_spectra, :agent_type .∈ Ref([Rat, Robot, Object]), :region .== \"MOB\", :behavior_type .∈ Ref([\"Immobility\", \"Groom\", \"Rear\", \"null\"]))\n",
    "function afun(atype)\n",
    "    if atype .== Rat\n",
    "        return \"Rat\"\n",
    "    elseif atype .== Object\n",
    "        return \"Object\"\n",
    "    else\n",
    "        return \"Robot\"\n",
    "    end\n",
    "end\n",
    "@transform!(hyposub, @byrow :agent_type = afun(:agent_type))\n",
    "fm = @formula(gamma_low ~ 0 + behavior_type + agent_type & behavior_type + (0 + 1 | rat))\n",
    "fm1 = fit(MixedModel, fm, hyposub, contrasts = Dict(:agent_type => DummyCoding(; base = \"Robot\")))\n"
   ]
  },
  {
   "cell_type": "markdown",
   "metadata": {},
   "source": [
    "6. It is hypothesized that the amygdala beta rhythm shows a difference between grooming/immobility and rearing. It would be expected that immobility shows the least beta, with grooming showing some due to arm movements, and rearing showing the most. "
   ]
  },
  {
   "cell_type": "code",
   "execution_count": 82,
   "metadata": {},
   "outputs": [
    {
     "data": {
      "text/latex": [
       "\\begin{tabular}\n",
       "{l | r | r | r | r | r}\n",
       " & Est. & SE & z & p & $\\sigma_\\text{rat}$ \\\\\n",
       "\\hline\n",
       "(Intercept) & 0.0002 & 0.0000 & 15.64 & <1e-54 & 0.0000 \\\\\n",
       "combined\\_behavior: Rear & -0.0000 & 0.0000 & -0.95 & 0.3441 &   \\\\\n",
       "Residual & 0.0001 &  &  &  &  \\\\\n",
       "\\end{tabular}\n"
      ],
      "text/markdown": [
       "|                         |    Est. |     SE |     z |      p |  σ_rat |\n",
       "|:----------------------- | -------:| ------:| -----:| ------:| ------:|\n",
       "| (Intercept)             |  0.0002 | 0.0000 | 15.64 | <1e-54 | 0.0000 |\n",
       "| combined_behavior: Rear | -0.0000 | 0.0000 | -0.95 | 0.3441 |        |\n",
       "| Residual                |  0.0001 |        |       |        |        |\n"
      ],
      "text/plain": [
       "Linear mixed model fit by maximum likelihood\n",
       " beta ~ 1 + combined_behavior + (1 | rat)\n",
       "    logLik   -2 logLik      AIC         AICc        BIC     \n",
       "  16967.0765 -33934.1531 -33926.1531 -33926.1334 -33903.6722\n",
       "\n",
       "Variance components:\n",
       "            Column    Variance   Std.Dev.  \n",
       "rat      (Intercept)  0.00000000 0.00002788\n",
       "Residual              0.00000000 0.00005862\n",
       " Number of obs: 2039; levels of grouping factors: 4\n",
       "\n",
       "  Fixed-effects parameters:\n",
       "──────────────────────────────────────────────────────────────────\n",
       "                                Coef.  Std. Error      z  Pr(>|z|)\n",
       "──────────────────────────────────────────────────────────────────\n",
       "(Intercept)               0.000222287  1.42136e-5  15.64    <1e-54\n",
       "combined_behavior: Rear  -2.5412e-6    2.68599e-6  -0.95    0.3441\n",
       "──────────────────────────────────────────────────────────────────"
      ]
     },
     "execution_count": 82,
     "metadata": {},
     "output_type": "execute_result"
    }
   ],
   "source": [
    "hyposub = @subset(event_spectra, :behavior_type .∈ Ref([\"Immobility\", \"Groom\", \"Rear\"]), :region .== \"Amygdala\")\n",
    "function fun(btype)\n",
    "    if btype .== \"Immobility\"\n",
    "        return \"Immobility & Groom\"\n",
    "    elseif btype .== \"Groom\"\n",
    "        return \"Immobility & Groom\"\n",
    "    else\n",
    "        return btype\n",
    "    end\n",
    "end\n",
    "@transform!(hyposub, @byrow :combined_behavior = fun(:behavior_type))\n",
    "fm = @formula(beta ~ 1 + combined_behavior * 1 + (1 | rat))\n",
    "fm1 = fit(MixedModel, fm, hyposub, contrasts = Dict(:combined_behavior => DummyCoding(; base = \"Immobility & Groom\")))"
   ]
  },
  {
   "cell_type": "markdown",
   "metadata": {},
   "source": [
    "7.  For regulatory behaviors (grooming/immobility) there should be a shift to lower frequencies within the respiratory range and more low gamma, while exploratory behaviors should shift to theta frequency and high gamma (rearing, approach/retreat). "
   ]
  },
  {
   "cell_type": "code",
   "execution_count": 83,
   "metadata": {},
   "outputs": [
    {
     "data": {
      "text/latex": [
       "\\begin{tabular}\n",
       "{l | r | r | r | r | r}\n",
       " & Est. & SE & z & p & $\\sigma_\\text{rat}$ \\\\\n",
       "\\hline\n",
       "region: Amygdala & 0.0014 & 0.0002 & 8.94 & <1e-18 & 0.0003 \\\\\n",
       "region: Ca2 & 0.0051 & 0.0004 & 14.18 & <1e-44 & 0.0007 \\\\\n",
       "region: Insula & 0.0011 & 0.0002 & 6.96 & <1e-11 & 0.0002 \\\\\n",
       "region: MOB & 0.0145 & 0.0032 & 4.50 & <1e-05 & 0.0064 \\\\\n",
       "combined\\_behavior: Immobility \\& Groom \\& region: Amygdala & -0.0001 & 0.0001 & -0.55 & 0.5847 &   \\\\\n",
       "combined\\_behavior: Immobility \\& Groom \\& region: Ca2 & -0.0007 & 0.0001 & -5.15 & <1e-06 &   \\\\\n",
       "combined\\_behavior: Immobility \\& Groom \\& region: Insula & -0.0001 & 0.0001 & -0.65 & 0.5132 &   \\\\\n",
       "combined\\_behavior: Immobility \\& Groom \\& region: MOB & -0.0059 & 0.0002 & -36.80 & <1e-99 &   \\\\\n",
       "Residual & 0.0035 &  &  &  &  \\\\\n",
       "\\end{tabular}\n"
      ],
      "text/markdown": [
       "|                                                          |    Est. |     SE |      z |      p |  σ_rat |\n",
       "|:-------------------------------------------------------- | -------:| ------:| ------:| ------:| ------:|\n",
       "| region: Amygdala                                         |  0.0014 | 0.0002 |   8.94 | <1e-18 | 0.0003 |\n",
       "| region: Ca2                                              |  0.0051 | 0.0004 |  14.18 | <1e-44 | 0.0007 |\n",
       "| region: Insula                                           |  0.0011 | 0.0002 |   6.96 | <1e-11 | 0.0002 |\n",
       "| region: MOB                                              |  0.0145 | 0.0032 |   4.50 | <1e-05 | 0.0064 |\n",
       "| combined_behavior: Immobility & Groom & region: Amygdala | -0.0001 | 0.0001 |  -0.55 | 0.5847 |        |\n",
       "| combined_behavior: Immobility & Groom & region: Ca2      | -0.0007 | 0.0001 |  -5.15 | <1e-06 |        |\n",
       "| combined_behavior: Immobility & Groom & region: Insula   | -0.0001 | 0.0001 |  -0.65 | 0.5132 |        |\n",
       "| combined_behavior: Immobility & Groom & region: MOB      | -0.0059 | 0.0002 | -36.80 | <1e-99 |        |\n",
       "| Residual                                                 |  0.0035 |        |        |        |        |\n"
      ],
      "text/plain": [
       "Linear mixed model fit by maximum likelihood\n",
       " theta ~ 0 + region + combined_behavior & region + MixedModels.ZeroCorr((0 + region | rat))\n",
       "    logLik     -2 logLik       AIC         AICc          BIC     \n",
       "   59722.6341 -119445.2683 -119419.2683 -119419.2424 -119321.0875\n",
       "\n",
       "Variance components:\n",
       "              Column        Variance    Std.Dev.    Corr.\n",
       "rat      region: Amygdala  0.000000065 0.000255124\n",
       "         region: Ca2       0.000000473 0.000687648   .  \n",
       "         region: Insula    0.000000049 0.000221457   .     .  \n",
       "         region: MOB       0.000041254 0.006422917   .     .     .  \n",
       "Residual                   0.000012053 0.003471728\n",
       " Number of obs: 14078; levels of grouping factors: 4\n",
       "\n",
       "  Fixed-effects parameters:\n",
       "─────────────────────────────────────────────────────────────────────────────────────────────────────\n",
       "                                                                 Coef.   Std. Error       z  Pr(>|z|)\n",
       "─────────────────────────────────────────────────────────────────────────────────────────────────────\n",
       "region: Amygdala                                           0.00135025   0.000151098    8.94    <1e-18\n",
       "region: Ca2                                                0.00506721   0.000357333   14.18    <1e-44\n",
       "region: Insula                                             0.0011076    0.000159029    6.96    <1e-11\n",
       "region: MOB                                                0.0144514    0.00321303     4.50    <1e-05\n",
       "combined_behavior: Immobility & Groom & region: Amygdala  -7.27551e-5   0.000133126   -0.55    0.5847\n",
       "combined_behavior: Immobility & Groom & region: Ca2       -0.000716736  0.000139272   -5.15    <1e-06\n",
       "combined_behavior: Immobility & Groom & region: Insula    -9.73661e-5   0.000148898   -0.65    0.5132\n",
       "combined_behavior: Immobility & Groom & region: MOB       -0.00589271   0.000160125  -36.80    <1e-99\n",
       "─────────────────────────────────────────────────────────────────────────────────────────────────────"
      ]
     },
     "execution_count": 83,
     "metadata": {},
     "output_type": "execute_result"
    }
   ],
   "source": [
    "hyposub = @subset(event_spectra, :behavior_type .∈ Ref([\"Immobility\", \"Groom\", \"null\"]))\n",
    "function fun(btype)\n",
    "    if btype .== \"Immobility\"\n",
    "        return \"Immobility & Groom\"\n",
    "    elseif btype .== \"Groom\"\n",
    "        return \"Immobility & Groom\"\n",
    "    else\n",
    "        return btype\n",
    "    end\n",
    "end\n",
    "@transform!(hyposub, @byrow :combined_behavior = fun(:behavior_type))\n",
    "fm = @formula(theta ~ 0 + region + combined_behavior & region + zerocorr(0 + region | rat))\n",
    "fm1 = fit(MixedModel, fm, hyposub, contrasts = Dict(:combined_behavior => DummyCoding(; base = \"null\")))"
   ]
  },
  {
   "cell_type": "code",
   "execution_count": 84,
   "metadata": {},
   "outputs": [
    {
     "data": {
      "text/latex": [
       "\\begin{tabular}\n",
       "{l | r | r | r | r | r}\n",
       " & Est. & SE & z & p & $\\sigma_\\text{rat}$ \\\\\n",
       "\\hline\n",
       "region: Amygdala & 0.0001 & 0.0000 & 3.48 & 0.0005 & 0.0000 \\\\\n",
       "region: Ca2 & 0.0000 & 0.0000 & 18.01 & <1e-71 & 0.0000 \\\\\n",
       "region: Insula & 0.0000 & 0.0000 & 5.29 & <1e-06 & 0.0000 \\\\\n",
       "region: MOB & 0.0005 & 0.0001 & 5.21 & <1e-06 & 0.0002 \\\\\n",
       "combined\\_behavior: Immobility \\& Groom \\& region: Amygdala & 0.0000 & 0.0000 & 0.17 & 0.8643 &   \\\\\n",
       "combined\\_behavior: Immobility \\& Groom \\& region: Ca2 & -0.0000 & 0.0000 & -0.20 & 0.8416 &   \\\\\n",
       "combined\\_behavior: Immobility \\& Groom \\& region: Insula & 0.0000 & 0.0000 & 0.26 & 0.7963 &   \\\\\n",
       "combined\\_behavior: Immobility \\& Groom \\& region: MOB & -0.0000 & 0.0000 & -2.34 & 0.0195 &   \\\\\n",
       "Residual & 0.0001 &  &  &  &  \\\\\n",
       "\\end{tabular}\n"
      ],
      "text/markdown": [
       "|                                                          |    Est. |     SE |     z |      p |  σ_rat |\n",
       "|:-------------------------------------------------------- | -------:| ------:| -----:| ------:| ------:|\n",
       "| region: Amygdala                                         |  0.0001 | 0.0000 |  3.48 | 0.0005 | 0.0000 |\n",
       "| region: Ca2                                              |  0.0000 | 0.0000 | 18.01 | <1e-71 | 0.0000 |\n",
       "| region: Insula                                           |  0.0000 | 0.0000 |  5.29 | <1e-06 | 0.0000 |\n",
       "| region: MOB                                              |  0.0005 | 0.0001 |  5.21 | <1e-06 | 0.0002 |\n",
       "| combined_behavior: Immobility & Groom & region: Amygdala |  0.0000 | 0.0000 |  0.17 | 0.8643 |        |\n",
       "| combined_behavior: Immobility & Groom & region: Ca2      | -0.0000 | 0.0000 | -0.20 | 0.8416 |        |\n",
       "| combined_behavior: Immobility & Groom & region: Insula   |  0.0000 | 0.0000 |  0.26 | 0.7963 |        |\n",
       "| combined_behavior: Immobility & Groom & region: MOB      | -0.0000 | 0.0000 | -2.34 | 0.0195 |        |\n",
       "| Residual                                                 |  0.0001 |        |       |        |        |\n"
      ],
      "text/plain": [
       "Linear mixed model fit by maximum likelihood\n",
       " gamma_high ~ 0 + region + combined_behavior & region + MixedModels.ZeroCorr((0 + region | rat))\n",
       "    logLik     -2 logLik       AIC         AICc          BIC     \n",
       "  106531.9020 -213063.8041 -213037.8041 -213037.7782 -212939.6233\n",
       "\n",
       "Variance components:\n",
       "              Column        Variance    Std.Dev.    Corr.\n",
       "rat      region: Amygdala  0.000000002 0.000041699\n",
       "         region: Ca2       0.000000000 0.000000000   .  \n",
       "         region: Insula    0.000000000 0.000014841   .     .  \n",
       "         region: MOB       0.000000037 0.000192488   .     .     .  \n",
       "Residual                   0.000000016 0.000124890\n",
       " Number of obs: 14078; levels of grouping factors: 4\n",
       "\n",
       "  Fixed-effects parameters:\n",
       "───────────────────────────────────────────────────────────────────────────────────────────────────\n",
       "                                                                 Coef.  Std. Error      z  Pr(>|z|)\n",
       "───────────────────────────────────────────────────────────────────────────────────────────────────\n",
       "region: Amygdala                                           7.34948e-5   2.11293e-5   3.48    0.0005\n",
       "region: Ca2                                                4.14086e-5   2.29863e-6  18.01    <1e-71\n",
       "region: Insula                                             4.97116e-5   9.40393e-6   5.29    <1e-06\n",
       "region: MOB                                                0.000501547  9.63118e-5   5.21    <1e-06\n",
       "combined_behavior: Immobility & Groom & region: Amygdala   8.1859e-7    4.78997e-6   0.17    0.8643\n",
       "combined_behavior: Immobility & Groom & region: Ca2       -1.00033e-6   5.00524e-6  -0.20    0.8416\n",
       "combined_behavior: Immobility & Groom & region: Insula     1.38277e-6   5.35707e-6   0.26    0.7963\n",
       "combined_behavior: Immobility & Groom & region: MOB       -1.34536e-5   5.76024e-6  -2.34    0.0195\n",
       "───────────────────────────────────────────────────────────────────────────────────────────────────"
      ]
     },
     "execution_count": 84,
     "metadata": {},
     "output_type": "execute_result"
    }
   ],
   "source": [
    "hyposub = @subset(event_spectra, :behavior_type .∈ Ref([\"Immobility\", \"Groom\", \"null\"]))\n",
    "function fun(btype)\n",
    "    if btype .== \"Immobility\"\n",
    "        return \"Immobility & Groom\"\n",
    "    elseif btype .== \"Groom\"\n",
    "        return \"Immobility & Groom\"\n",
    "    else\n",
    "        return btype\n",
    "    end\n",
    "end\n",
    "@transform!(hyposub, @byrow :combined_behavior = fun(:behavior_type))\n",
    "fm = @formula(gamma_high ~ 0 + region + combined_behavior & region + zerocorr(0 + region | rat))\n",
    "fm1 = fit(MixedModel, fm, hyposub, contrasts = Dict(:combined_behavior => DummyCoding(; base = \"null\")))"
   ]
  },
  {
   "cell_type": "code",
   "execution_count": 85,
   "metadata": {},
   "outputs": [
    {
     "data": {
      "text/latex": [
       "\\begin{tabular}\n",
       "{l | r | r | r | r | r}\n",
       " & Est. & SE & z & p & $\\sigma_\\text{rat}$ \\\\\n",
       "\\hline\n",
       "region: Amygdala & 0.0014 & 0.0006 & 2.23 & 0.0256 & 0.0000 \\\\\n",
       "region: Ca2 & 0.0035 & 0.0008 & 4.56 & <1e-05 & 0.0006 \\\\\n",
       "region: Insula & 0.0016 & 0.0006 & 2.60 & 0.0093 & 0.0000 \\\\\n",
       "region: MOB & 0.0131 & 0.0031 & 4.22 & <1e-04 & 0.0052 \\\\\n",
       "agent\\_type: Object \\& region: Amygdala & -0.0003 & 0.0010 & -0.32 & 0.7493 &   \\\\\n",
       "agent\\_type: Robot \\& region: Amygdala & -0.0001 & 0.0007 & -0.19 & 0.8468 &   \\\\\n",
       "agent\\_type: Object \\& region: Ca2 & 0.0003 & 0.0012 & 0.20 & 0.8382 &   \\\\\n",
       "agent\\_type: Robot \\& region: Ca2 & 0.0007 & 0.0008 & 0.85 & 0.3980 &   \\\\\n",
       "agent\\_type: Object \\& region: Insula & -0.0005 & 0.0012 & -0.38 & 0.7048 &   \\\\\n",
       "agent\\_type: Robot \\& region: Insula & -0.0005 & 0.0008 & -0.62 & 0.5348 &   \\\\\n",
       "agent\\_type: Object \\& region: MOB & 0.0023 & 0.0011 & 2.07 & 0.0388 &   \\\\\n",
       "agent\\_type: Robot \\& region: MOB & 0.0034 & 0.0009 & 3.94 & <1e-04 &   \\\\\n",
       "Residual & 0.0039 &  &  &  &  \\\\\n",
       "\\end{tabular}\n"
      ],
      "text/markdown": [
       "|                                       |    Est. |     SE |     z |      p |  σ_rat |\n",
       "|:------------------------------------- | -------:| ------:| -----:| ------:| ------:|\n",
       "| region: Amygdala                      |  0.0014 | 0.0006 |  2.23 | 0.0256 | 0.0000 |\n",
       "| region: Ca2                           |  0.0035 | 0.0008 |  4.56 | <1e-05 | 0.0006 |\n",
       "| region: Insula                        |  0.0016 | 0.0006 |  2.60 | 0.0093 | 0.0000 |\n",
       "| region: MOB                           |  0.0131 | 0.0031 |  4.22 | <1e-04 | 0.0052 |\n",
       "| agent_type: Object & region: Amygdala | -0.0003 | 0.0010 | -0.32 | 0.7493 |        |\n",
       "| agent_type: Robot & region: Amygdala  | -0.0001 | 0.0007 | -0.19 | 0.8468 |        |\n",
       "| agent_type: Object & region: Ca2      |  0.0003 | 0.0012 |  0.20 | 0.8382 |        |\n",
       "| agent_type: Robot & region: Ca2       |  0.0007 | 0.0008 |  0.85 | 0.3980 |        |\n",
       "| agent_type: Object & region: Insula   | -0.0005 | 0.0012 | -0.38 | 0.7048 |        |\n",
       "| agent_type: Robot & region: Insula    | -0.0005 | 0.0008 | -0.62 | 0.5348 |        |\n",
       "| agent_type: Object & region: MOB      |  0.0023 | 0.0011 |  2.07 | 0.0388 |        |\n",
       "| agent_type: Robot & region: MOB       |  0.0034 | 0.0009 |  3.94 | <1e-04 |        |\n",
       "| Residual                              |  0.0039 |        |       |        |        |\n"
      ],
      "text/plain": [
       "Linear mixed model fit by maximum likelihood\n",
       " theta ~ 0 + region + agent_type & region + MixedModels.ZeroCorr((0 + region | rat))\n",
       "   logLik   -2 logLik     AIC       AICc        BIC    \n",
       "  2740.3603 -5480.7207 -5446.7207 -5445.7777 -5370.1732\n",
       "\n",
       "Variance components:\n",
       "              Column        Variance    Std.Dev.    Corr.\n",
       "rat      region: Amygdala  0.000000000 0.000000000\n",
       "         region: Ca2       0.000000372 0.000609836   .  \n",
       "         region: Insula    0.000000000 0.000000000   .     .  \n",
       "         region: MOB       0.000027028 0.005198835   .     .     .  \n",
       "Residual                   0.000015425 0.003927520\n",
       " Number of obs: 667; levels of grouping factors: 3\n",
       "\n",
       "  Fixed-effects parameters:\n",
       "─────────────────────────────────────────────────────────────────────────────────\n",
       "                                              Coef.   Std. Error      z  Pr(>|z|)\n",
       "─────────────────────────────────────────────────────────────────────────────────\n",
       "region: Amygdala                        0.00140356   0.000628907   2.23    0.0256\n",
       "region: Ca2                             0.00346691   0.000759913   4.56    <1e-05\n",
       "region: Insula                          0.00155799   0.000598941   2.60    0.0093\n",
       "region: MOB                             0.0130529    0.00309381    4.22    <1e-04\n",
       "agent_type: Object & region: Amygdala  -0.00032992   0.00103257   -0.32    0.7493\n",
       "agent_type: Robot & region: Amygdala   -0.000138335  0.000715809  -0.19    0.8468\n",
       "agent_type: Object & region: Ca2        0.000250603  0.00122705    0.20    0.8382\n",
       "agent_type: Robot & region: Ca2         0.000654515  0.000774394   0.85    0.3980\n",
       "agent_type: Object & region: Insula    -0.000470898  0.0012431    -0.38    0.7048\n",
       "agent_type: Robot & region: Insula     -0.000467416  0.000753115  -0.62    0.5348\n",
       "agent_type: Object & region: MOB        0.00230957   0.00111788    2.07    0.0388\n",
       "agent_type: Robot & region: MOB         0.00341651   0.000867648   3.94    <1e-04\n",
       "─────────────────────────────────────────────────────────────────────────────────"
      ]
     },
     "execution_count": 85,
     "metadata": {},
     "output_type": "execute_result"
    }
   ],
   "source": [
    "hyposub = @subset(event_spectra, :agent_type .∈ Ref([Rat, Robot, Object]), :behavior_type .∈ Ref([\"Immobility\"]))\n",
    "function afun(atype)\n",
    "    if atype .== Rat\n",
    "        return \"Rat\"\n",
    "    elseif atype .== Object\n",
    "        return \"Object\"\n",
    "    else\n",
    "        return \"Robot\"\n",
    "    end\n",
    "end\n",
    "@transform!(hyposub, @byrow :agent_type = afun(:agent_type))\n",
    "fm=@formula(theta ~0+region+ agent_type&region + zerocorr(0+region|rat))\n",
    "fm1 = fit(MixedModel, fm, hyposub, contrasts = Dict(:agent_type => DummyCoding(; base = \"Rat\")))"
   ]
  }
 ],
 "metadata": {
  "interpreter": {
   "hash": "aee8b7b246df8f9039afb4144a1f6fd8d2ca17a180786b69acc140d282b71a49"
  },
  "kernelspec": {
   "display_name": "Julia 1.7.2",
   "language": "julia",
   "name": "julia-1.7"
  },
  "language_info": {
   "file_extension": ".jl",
   "mimetype": "application/julia",
   "name": "julia",
   "version": "1.7.2"
  },
  "orig_nbformat": 4
 },
 "nbformat": 4,
 "nbformat_minor": 2
}
